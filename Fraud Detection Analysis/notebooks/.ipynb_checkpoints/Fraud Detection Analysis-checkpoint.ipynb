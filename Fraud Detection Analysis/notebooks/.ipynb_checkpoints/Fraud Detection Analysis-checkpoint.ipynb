{
 "cells": [
  {
   "cell_type": "markdown",
   "id": "41f51329",
   "metadata": {},
   "source": [
    "# CASE - Asessment"
   ]
  },
  {
   "cell_type": "markdown",
   "id": "3f2eb0f1",
   "metadata": {},
   "source": [
    "## Sr Data Analyst Assessment\n",
    "#### Digital Bank Mobile App Transaction Events"
   ]
  },
  {
   "cell_type": "code",
   "execution_count": 482,
   "id": "255c0a12",
   "metadata": {},
   "outputs": [],
   "source": [
    "# Import packages\n",
    "import pandas as pd\n",
    "import matplotlib.pyplot as plt\n",
    "import numpy as np\n",
    "import seaborn as sns\n",
    "from sklearn.metrics import confusion_matrix\n",
    "\n",
    "#pip install numpy --upgrade"
   ]
  },
  {
   "cell_type": "code",
   "execution_count": 483,
   "id": "f23c707d",
   "metadata": {},
   "outputs": [],
   "source": [
    "pd.set_option('display.float_format', '{:.2f}'.format)"
   ]
  },
  {
   "cell_type": "code",
   "execution_count": 484,
   "id": "eee09562",
   "metadata": {},
   "outputs": [],
   "source": [
    "#Read the databases\n",
    "transactions = pd.read_csv('Base1.csv')\n",
    "\n",
    "fraud = pd.read_csv('Base 2.csv')"
   ]
  },
  {
   "cell_type": "code",
   "execution_count": 485,
   "id": "71c6f8f9",
   "metadata": {},
   "outputs": [
    {
     "data": {
      "text/html": [
       "<div>\n",
       "<style scoped>\n",
       "    .dataframe tbody tr th:only-of-type {\n",
       "        vertical-align: middle;\n",
       "    }\n",
       "\n",
       "    .dataframe tbody tr th {\n",
       "        vertical-align: top;\n",
       "    }\n",
       "\n",
       "    .dataframe thead th {\n",
       "        text-align: right;\n",
       "    }\n",
       "</style>\n",
       "<table border=\"1\" class=\"dataframe\">\n",
       "  <thead>\n",
       "    <tr style=\"text-align: right;\">\n",
       "      <th></th>\n",
       "      <th>transaction_id</th>\n",
       "      <th>transaction_timestamp</th>\n",
       "      <th>account_id</th>\n",
       "      <th>device_id</th>\n",
       "      <th>distance_to_frequent_location</th>\n",
       "      <th>device_age_days</th>\n",
       "      <th>is_emulator</th>\n",
       "      <th>has_fake_location</th>\n",
       "      <th>has_root_permissions</th>\n",
       "      <th>app_is_tampered</th>\n",
       "      <th>transaction_value</th>\n",
       "      <th>client_decision</th>\n",
       "    </tr>\n",
       "  </thead>\n",
       "  <tbody>\n",
       "    <tr>\n",
       "      <th>0</th>\n",
       "      <td>691e8232-68b7</td>\n",
       "      <td>1693011151145</td>\n",
       "      <td>1877895943</td>\n",
       "      <td>1000002513</td>\n",
       "      <td>6.05</td>\n",
       "      <td>66</td>\n",
       "      <td>False</td>\n",
       "      <td>False</td>\n",
       "      <td>False</td>\n",
       "      <td>False</td>\n",
       "      <td>32.92</td>\n",
       "      <td>approved</td>\n",
       "    </tr>\n",
       "    <tr>\n",
       "      <th>1</th>\n",
       "      <td>64b4e6b8-dd66</td>\n",
       "      <td>1692027970161</td>\n",
       "      <td>616054714</td>\n",
       "      <td>1000006901</td>\n",
       "      <td>2.89</td>\n",
       "      <td>341</td>\n",
       "      <td>False</td>\n",
       "      <td>False</td>\n",
       "      <td>False</td>\n",
       "      <td>False</td>\n",
       "      <td>234.84</td>\n",
       "      <td>approved</td>\n",
       "    </tr>\n",
       "    <tr>\n",
       "      <th>2</th>\n",
       "      <td>9df0ac4c-2942</td>\n",
       "      <td>1692005618374</td>\n",
       "      <td>248051189</td>\n",
       "      <td>1000009259</td>\n",
       "      <td>6.32</td>\n",
       "      <td>157</td>\n",
       "      <td>False</td>\n",
       "      <td>False</td>\n",
       "      <td>False</td>\n",
       "      <td>False</td>\n",
       "      <td>84.47</td>\n",
       "      <td>denied</td>\n",
       "    </tr>\n",
       "    <tr>\n",
       "      <th>3</th>\n",
       "      <td>6847e894-2421</td>\n",
       "      <td>1690895607459</td>\n",
       "      <td>495694495</td>\n",
       "      <td>1000011126</td>\n",
       "      <td>0.42</td>\n",
       "      <td>22</td>\n",
       "      <td>False</td>\n",
       "      <td>False</td>\n",
       "      <td>False</td>\n",
       "      <td>False</td>\n",
       "      <td>281.68</td>\n",
       "      <td>approved</td>\n",
       "    </tr>\n",
       "    <tr>\n",
       "      <th>4</th>\n",
       "      <td>a4a93162-a40f</td>\n",
       "      <td>1693091270966</td>\n",
       "      <td>1619461409</td>\n",
       "      <td>1000017604</td>\n",
       "      <td>10.51</td>\n",
       "      <td>0</td>\n",
       "      <td>False</td>\n",
       "      <td>False</td>\n",
       "      <td>False</td>\n",
       "      <td>False</td>\n",
       "      <td>65.96</td>\n",
       "      <td>approved</td>\n",
       "    </tr>\n",
       "  </tbody>\n",
       "</table>\n",
       "</div>"
      ],
      "text/plain": [
       "  transaction_id  transaction_timestamp  account_id   device_id  \\\n",
       "0  691e8232-68b7          1693011151145  1877895943  1000002513   \n",
       "1  64b4e6b8-dd66          1692027970161   616054714  1000006901   \n",
       "2  9df0ac4c-2942          1692005618374   248051189  1000009259   \n",
       "3  6847e894-2421          1690895607459   495694495  1000011126   \n",
       "4  a4a93162-a40f          1693091270966  1619461409  1000017604   \n",
       "\n",
       "   distance_to_frequent_location  device_age_days is_emulator  \\\n",
       "0                           6.05               66       False   \n",
       "1                           2.89              341       False   \n",
       "2                           6.32              157       False   \n",
       "3                           0.42               22       False   \n",
       "4                          10.51                0       False   \n",
       "\n",
       "   has_fake_location has_root_permissions app_is_tampered  transaction_value  \\\n",
       "0              False                False           False              32.92   \n",
       "1              False                False           False             234.84   \n",
       "2              False                False           False              84.47   \n",
       "3              False                False           False             281.68   \n",
       "4              False                False           False              65.96   \n",
       "\n",
       "  client_decision  \n",
       "0        approved  \n",
       "1        approved  \n",
       "2          denied  \n",
       "3        approved  \n",
       "4        approved  "
      ]
     },
     "execution_count": 485,
     "metadata": {},
     "output_type": "execute_result"
    }
   ],
   "source": [
    "# Explore the contents of the transactions dataframe\n",
    "transactions.head()"
   ]
  },
  {
   "cell_type": "code",
   "execution_count": 486,
   "id": "44b65c34",
   "metadata": {},
   "outputs": [
    {
     "name": "stdout",
     "output_type": "stream",
     "text": [
      "<class 'pandas.core.frame.DataFrame'>\n",
      "RangeIndex: 409428 entries, 0 to 409427\n",
      "Data columns (total 12 columns):\n",
      " #   Column                         Non-Null Count   Dtype  \n",
      "---  ------                         --------------   -----  \n",
      " 0   transaction_id                 409428 non-null  object \n",
      " 1   transaction_timestamp          409428 non-null  int64  \n",
      " 2   account_id                     409428 non-null  int64  \n",
      " 3   device_id                      409428 non-null  int64  \n",
      " 4   distance_to_frequent_location  408241 non-null  float64\n",
      " 5   device_age_days                409428 non-null  int64  \n",
      " 6   is_emulator                    409360 non-null  object \n",
      " 7   has_fake_location              409428 non-null  bool   \n",
      " 8   has_root_permissions           409360 non-null  object \n",
      " 9   app_is_tampered                409360 non-null  object \n",
      " 10  transaction_value              409428 non-null  float64\n",
      " 11  client_decision                409428 non-null  object \n",
      "dtypes: bool(1), float64(2), int64(4), object(5)\n",
      "memory usage: 34.8+ MB\n"
     ]
    }
   ],
   "source": [
    "# Explore the variables information\n",
    "transactions.info()"
   ]
  },
  {
   "cell_type": "code",
   "execution_count": 487,
   "id": "e01e2a11",
   "metadata": {},
   "outputs": [
    {
     "name": "stdout",
     "output_type": "stream",
     "text": [
      "<class 'pandas.core.frame.DataFrame'>\n",
      "RangeIndex: 409428 entries, 0 to 409427\n",
      "Data columns (total 13 columns):\n",
      " #   Column                         Non-Null Count   Dtype         \n",
      "---  ------                         --------------   -----         \n",
      " 0   transaction_id                 409428 non-null  object        \n",
      " 1   transaction_timestamp          409428 non-null  object        \n",
      " 2   account_id                     409428 non-null  object        \n",
      " 3   device_id                      409428 non-null  object        \n",
      " 4   distance_to_frequent_location  408241 non-null  float64       \n",
      " 5   device_age_days                409428 non-null  int64         \n",
      " 6   is_emulator                    409360 non-null  object        \n",
      " 7   has_fake_location              409428 non-null  bool          \n",
      " 8   has_root_permissions           409360 non-null  object        \n",
      " 9   app_is_tampered                409360 non-null  object        \n",
      " 10  transaction_value              409428 non-null  float64       \n",
      " 11  client_decision                409428 non-null  object        \n",
      " 12  date_time                      409428 non-null  datetime64[ns]\n",
      "dtypes: bool(1), datetime64[ns](1), float64(2), int64(1), object(8)\n",
      "memory usage: 37.9+ MB\n"
     ]
    }
   ],
   "source": [
    "# Create a 'date_time' column by transforming the 'transaction_timestamp' to date and time\n",
    "transactions['date_time'] = \n",
    "pd.to_datetime(transactions['transaction_timestamp'], unit='ms')\n",
    "\n",
    "# Transform the 'account_id', 'device_id', and 'transaction_timestamp' to strings\n",
    "transactions['account_id'] = transactions['account_id'].astype(str)\n",
    "transactions['device_id'] = transactions['device_id'].astype(str)\n",
    "transactions['transaction_timestamp'] = transactions['transaction_timestamp'].astype(str)\n",
    "\n",
    "\n",
    "# Check the information about the transactions dataframe\n",
    "transactions.info()"
   ]
  },
  {
   "cell_type": "markdown",
   "id": "afed1f91",
   "metadata": {},
   "source": [
    "# Part 1 - Descriptive Analysis of Transaction Events\n",
    "\n",
    "Conduct an in-depth descriptive analysis of the Transaction Events dataset\n",
    "\n",
    "    ■ Identify any data quality issues and propose solutions for data leaning or handling missing values.\n",
    "    ■ Explore and summarize key statistics related to all provided variables.\n",
    "    ■ Investigate the distribution of devices per account and accounts per device.\n",
    "    ■ Create insightful visualizations and tables to present your findings.\n",
    "    ■ Comment on the observed distributions, identify potential outliers, and discuss what these observations might imply\n",
    "    based on the variables' definitions."
   ]
  },
  {
   "cell_type": "markdown",
   "id": "78b4766a",
   "metadata": {},
   "source": [
    "## Initial exploration\n",
    "\n",
    "- Verify uniqueness of transaction_id\n",
    "- Verify variables with missing values: check for missing values in each column and decide on an appropriate strategy for handling them "
   ]
  },
  {
   "cell_type": "markdown",
   "id": "9dab638f",
   "metadata": {},
   "source": [
    "### Verify uniqueness of transaction_id"
   ]
  },
  {
   "cell_type": "code",
   "execution_count": 488,
   "id": "7d65741e",
   "metadata": {},
   "outputs": [
    {
     "data": {
      "text/plain": [
       "0.00E+00         136\n",
       "b6506d64-0a64      2\n",
       "4b295382-3ac7      2\n",
       "1d423f90-d8a9      2\n",
       "2d47735f-4735      2\n",
       "                ... \n",
       "91f1d488-f8ed      1\n",
       "3795c536-08ce      1\n",
       "4d819092-d459      1\n",
       "418ce78a-b642      1\n",
       "69f16fef-aa9f      1\n",
       "Name: transaction_id, Length: 409289, dtype: int64"
      ]
     },
     "execution_count": 488,
     "metadata": {},
     "output_type": "execute_result"
    }
   ],
   "source": [
    "# Check if transaction_ids are unique\n",
    "transactions['transaction_id'].value_counts()"
   ]
  },
  {
   "cell_type": "markdown",
   "id": "80ffe73a",
   "metadata": {},
   "source": [
    "We can see that there are 136 transactions with the ID = 0, which might indicate a problem or mistake.\n",
    "\n",
    "Additionally, we observe that some transaction IDs are not unique; they are repeating. Let's investigate more:"
   ]
  },
  {
   "cell_type": "code",
   "execution_count": 489,
   "id": "73cc412e",
   "metadata": {},
   "outputs": [
    {
     "data": {
      "text/plain": [
       "0.00E+00         136\n",
       "b6506d64-0a64      2\n",
       "4b295382-3ac7      2\n",
       "1d423f90-d8a9      2\n",
       "2d47735f-4735      2\n",
       "Name: transaction_id, dtype: int64"
      ]
     },
     "execution_count": 489,
     "metadata": {},
     "output_type": "execute_result"
    }
   ],
   "source": [
    "transactions['transaction_id'].value_counts()[transactions['transaction_id'].value_counts()> 1]"
   ]
  },
  {
   "cell_type": "markdown",
   "id": "6e8c8f35",
   "metadata": {},
   "source": [
    "There are only 4 transactions with repeating IDs. We need to examine these transactions to see the differences between the other columns"
   ]
  },
  {
   "cell_type": "code",
   "execution_count": 490,
   "id": "8f7d6698",
   "metadata": {},
   "outputs": [
    {
     "data": {
      "text/html": [
       "<div>\n",
       "<style scoped>\n",
       "    .dataframe tbody tr th:only-of-type {\n",
       "        vertical-align: middle;\n",
       "    }\n",
       "\n",
       "    .dataframe tbody tr th {\n",
       "        vertical-align: top;\n",
       "    }\n",
       "\n",
       "    .dataframe thead th {\n",
       "        text-align: right;\n",
       "    }\n",
       "</style>\n",
       "<table border=\"1\" class=\"dataframe\">\n",
       "  <thead>\n",
       "    <tr style=\"text-align: right;\">\n",
       "      <th></th>\n",
       "      <th>transaction_id</th>\n",
       "      <th>transaction_timestamp</th>\n",
       "      <th>account_id</th>\n",
       "      <th>device_id</th>\n",
       "      <th>distance_to_frequent_location</th>\n",
       "      <th>device_age_days</th>\n",
       "      <th>is_emulator</th>\n",
       "      <th>has_fake_location</th>\n",
       "      <th>has_root_permissions</th>\n",
       "      <th>app_is_tampered</th>\n",
       "      <th>transaction_value</th>\n",
       "      <th>client_decision</th>\n",
       "      <th>date_time</th>\n",
       "    </tr>\n",
       "  </thead>\n",
       "  <tbody>\n",
       "    <tr>\n",
       "      <th>18540</th>\n",
       "      <td>2d47735f-4735</td>\n",
       "      <td>1691612898787</td>\n",
       "      <td>469471147</td>\n",
       "      <td>1087169982</td>\n",
       "      <td>2225.53</td>\n",
       "      <td>98</td>\n",
       "      <td>False</td>\n",
       "      <td>False</td>\n",
       "      <td>True</td>\n",
       "      <td>False</td>\n",
       "      <td>105.30</td>\n",
       "      <td>denied</td>\n",
       "      <td>2023-08-09 20:28:18.787</td>\n",
       "    </tr>\n",
       "    <tr>\n",
       "      <th>18541</th>\n",
       "      <td>2d47735f-4735</td>\n",
       "      <td>1691612898787</td>\n",
       "      <td>469471147</td>\n",
       "      <td>1087169982</td>\n",
       "      <td>2225.53</td>\n",
       "      <td>98</td>\n",
       "      <td>False</td>\n",
       "      <td>False</td>\n",
       "      <td>True</td>\n",
       "      <td>False</td>\n",
       "      <td>4855.65</td>\n",
       "      <td>approved</td>\n",
       "      <td>2023-08-09 20:28:18.787</td>\n",
       "    </tr>\n",
       "    <tr>\n",
       "      <th>147868</th>\n",
       "      <td>1d423f90-d8a9</td>\n",
       "      <td>1691110153033</td>\n",
       "      <td>233077476</td>\n",
       "      <td>1695246210</td>\n",
       "      <td>251.36</td>\n",
       "      <td>3</td>\n",
       "      <td>False</td>\n",
       "      <td>False</td>\n",
       "      <td>True</td>\n",
       "      <td>False</td>\n",
       "      <td>314.75</td>\n",
       "      <td>approved</td>\n",
       "      <td>2023-08-04 00:49:13.033</td>\n",
       "    </tr>\n",
       "    <tr>\n",
       "      <th>147869</th>\n",
       "      <td>1d423f90-d8a9</td>\n",
       "      <td>1691110153033</td>\n",
       "      <td>233077476</td>\n",
       "      <td>1695246210</td>\n",
       "      <td>251.36</td>\n",
       "      <td>3</td>\n",
       "      <td>False</td>\n",
       "      <td>False</td>\n",
       "      <td>True</td>\n",
       "      <td>False</td>\n",
       "      <td>81.02</td>\n",
       "      <td>approved</td>\n",
       "      <td>2023-08-04 00:49:13.033</td>\n",
       "    </tr>\n",
       "    <tr>\n",
       "      <th>256256</th>\n",
       "      <td>b6506d64-0a64</td>\n",
       "      <td>1691080336933</td>\n",
       "      <td>1703180153</td>\n",
       "      <td>27870503</td>\n",
       "      <td>777.90</td>\n",
       "      <td>26</td>\n",
       "      <td>False</td>\n",
       "      <td>False</td>\n",
       "      <td>True</td>\n",
       "      <td>False</td>\n",
       "      <td>523.90</td>\n",
       "      <td>denied</td>\n",
       "      <td>2023-08-03 16:32:16.933</td>\n",
       "    </tr>\n",
       "    <tr>\n",
       "      <th>256259</th>\n",
       "      <td>b6506d64-0a64</td>\n",
       "      <td>1691080336933</td>\n",
       "      <td>1703180153</td>\n",
       "      <td>27870503</td>\n",
       "      <td>777.90</td>\n",
       "      <td>26</td>\n",
       "      <td>False</td>\n",
       "      <td>False</td>\n",
       "      <td>True</td>\n",
       "      <td>False</td>\n",
       "      <td>158.91</td>\n",
       "      <td>approved</td>\n",
       "      <td>2023-08-03 16:32:16.933</td>\n",
       "    </tr>\n",
       "    <tr>\n",
       "      <th>307927</th>\n",
       "      <td>4b295382-3ac7</td>\n",
       "      <td>1692212206665</td>\n",
       "      <td>1623379370</td>\n",
       "      <td>519267365</td>\n",
       "      <td>12.82</td>\n",
       "      <td>9</td>\n",
       "      <td>False</td>\n",
       "      <td>False</td>\n",
       "      <td>True</td>\n",
       "      <td>False</td>\n",
       "      <td>565.57</td>\n",
       "      <td>denied</td>\n",
       "      <td>2023-08-16 18:56:46.665</td>\n",
       "    </tr>\n",
       "    <tr>\n",
       "      <th>307928</th>\n",
       "      <td>4b295382-3ac7</td>\n",
       "      <td>1692212206665</td>\n",
       "      <td>1623379370</td>\n",
       "      <td>519267365</td>\n",
       "      <td>12.82</td>\n",
       "      <td>9</td>\n",
       "      <td>False</td>\n",
       "      <td>False</td>\n",
       "      <td>True</td>\n",
       "      <td>False</td>\n",
       "      <td>226.74</td>\n",
       "      <td>approved</td>\n",
       "      <td>2023-08-16 18:56:46.665</td>\n",
       "    </tr>\n",
       "  </tbody>\n",
       "</table>\n",
       "</div>"
      ],
      "text/plain": [
       "       transaction_id transaction_timestamp  account_id   device_id  \\\n",
       "18540   2d47735f-4735         1691612898787   469471147  1087169982   \n",
       "18541   2d47735f-4735         1691612898787   469471147  1087169982   \n",
       "147868  1d423f90-d8a9         1691110153033   233077476  1695246210   \n",
       "147869  1d423f90-d8a9         1691110153033   233077476  1695246210   \n",
       "256256  b6506d64-0a64         1691080336933  1703180153    27870503   \n",
       "256259  b6506d64-0a64         1691080336933  1703180153    27870503   \n",
       "307927  4b295382-3ac7         1692212206665  1623379370   519267365   \n",
       "307928  4b295382-3ac7         1692212206665  1623379370   519267365   \n",
       "\n",
       "        distance_to_frequent_location  device_age_days is_emulator  \\\n",
       "18540                         2225.53               98       False   \n",
       "18541                         2225.53               98       False   \n",
       "147868                         251.36                3       False   \n",
       "147869                         251.36                3       False   \n",
       "256256                         777.90               26       False   \n",
       "256259                         777.90               26       False   \n",
       "307927                          12.82                9       False   \n",
       "307928                          12.82                9       False   \n",
       "\n",
       "        has_fake_location has_root_permissions app_is_tampered  \\\n",
       "18540               False                 True           False   \n",
       "18541               False                 True           False   \n",
       "147868              False                 True           False   \n",
       "147869              False                 True           False   \n",
       "256256              False                 True           False   \n",
       "256259              False                 True           False   \n",
       "307927              False                 True           False   \n",
       "307928              False                 True           False   \n",
       "\n",
       "        transaction_value client_decision               date_time  \n",
       "18540              105.30          denied 2023-08-09 20:28:18.787  \n",
       "18541             4855.65        approved 2023-08-09 20:28:18.787  \n",
       "147868             314.75        approved 2023-08-04 00:49:13.033  \n",
       "147869              81.02        approved 2023-08-04 00:49:13.033  \n",
       "256256             523.90          denied 2023-08-03 16:32:16.933  \n",
       "256259             158.91        approved 2023-08-03 16:32:16.933  \n",
       "307927             565.57          denied 2023-08-16 18:56:46.665  \n",
       "307928             226.74        approved 2023-08-16 18:56:46.665  "
      ]
     },
     "execution_count": 490,
     "metadata": {},
     "output_type": "execute_result"
    }
   ],
   "source": [
    "transactions.loc[transactions['transaction_id'].isin(['4b295382-3ac7' ,'2d47735f-4735','b6506d64-0a64','1d423f90-d8a9'])]"
   ]
  },
  {
   "cell_type": "code",
   "execution_count": 491,
   "id": "4099d476",
   "metadata": {},
   "outputs": [
    {
     "data": {
      "text/plain": [
       "0.03420565908196897"
      ]
     },
     "execution_count": 491,
     "metadata": {},
     "output_type": "execute_result"
    }
   ],
   "source": [
    "140/409289*100"
   ]
  },
  {
   "cell_type": "markdown",
   "id": "70a0653c",
   "metadata": {},
   "source": [
    "The only differences between them are the transaction_value and the client_decision, except for the transaction_id 1d423f90-d8a9, which is approved twice. We will assume that the other transactions were also approved because we need to consider worst-case scenarios, and if it was approved, it might return as fraud. For the transaction with the ID 1d423f90-d8a9, we will consider the highest transaction value, so we can also account for the worst-case scenario with more significant losses.\n",
    "\n",
    "Later, we can check the fraud database to determine whether they are fraud or not. We will exclude the rows with client_decision = denied for these 4 transaction_ids.\n",
    "\n",
    "We will also exclude the 136 records with zeroed transaction values. While we could provide new unique identifiers for them, we won't be able to track them in the fraud database. Our decision is not always the best option, but with just a few observations (less than 0.5%), we decided to remove them."
   ]
  },
  {
   "cell_type": "markdown",
   "id": "d95dcf11",
   "metadata": {},
   "source": [
    "These issues are data quality problems that need to be addressed even after this analysis is finished. We need to understand the source of the issue. Is it due to a data entry mistake, system error, or some other reason? This could be due to data extraction errors, system issues, or other issues in the data pipeline. Oncde we have the answer, we need to decide how to handle them:\n",
    "    -If it's a data entry error, correct the entries.\n",
    "    -If it's a system issue, work with the IT team to rectify the problem.\n",
    "    -Implement measures to prevent future occurrences of non-unique transaction_ids. This may involve improving data entry protocols, enhancing validation checks, or refining data extraction processes.\n",
    "\n",
    "By systematically addressing these issues, you can enhance the quality and reliability of our dataset for subsequent analyses."
   ]
  },
  {
   "cell_type": "code",
   "execution_count": 492,
   "id": "3d822319",
   "metadata": {},
   "outputs": [],
   "source": [
    "# Create a copy in a new dataframe to maintain our raw data in the transactions dataframe\n",
    "df = transactions.copy()"
   ]
  },
  {
   "cell_type": "code",
   "execution_count": 493,
   "id": "423e8210",
   "metadata": {},
   "outputs": [],
   "source": [
    "# Find indexes for denied transactions with specific duplicated 'transaction_id's\n",
    "# and create a list of these selected indexes\n",
    "selected_indexes =\n",
    "df.loc[(df['client_decision'] == 'denied') & \n",
    "       (df['transaction_id'].isin(['4b295382-3ac7', '2d47735f-4735', 'b6506d64-0a64', '1d423f90-d8a9']))].index.tolist()\n",
    "\n",
    "# Find the index of the row with the maximum transaction value for '1d423f90-d8a9'\n",
    "max_value_index = df[df['transaction_id'] == '1d423f90-d8a9']['transaction_value'].idxmax()\n",
    "\n",
    "# Append the index to the selected indexes list\n",
    "selected_indexes.append(max_value_index)\n",
    "\n",
    "# Find indexes where 'transaction_id' is equal to zero and create a list of these selected indexes\n",
    "zero_transaction_indexes = df[df['transaction_id'] == '0.00E+00'].index.tolist()\n",
    "\n",
    "# Extend the selected indexes list with indexes for 'transaction_id' equal to zero\n",
    "selected_indexes.extend(zero_transaction_indexes)"
   ]
  },
  {
   "cell_type": "code",
   "execution_count": 494,
   "id": "2e8c1f79",
   "metadata": {},
   "outputs": [
    {
     "data": {
      "text/plain": [
       "140"
      ]
     },
     "execution_count": 494,
     "metadata": {},
     "output_type": "execute_result"
    }
   ],
   "source": [
    "# Count how many indexes we have selected. We expect 136 zeros + 4 duplicated = 140\n",
    "len(selected_indexes)"
   ]
  },
  {
   "cell_type": "code",
   "execution_count": 495,
   "id": "12d76612",
   "metadata": {},
   "outputs": [],
   "source": [
    "# Drop all the rows with these indices and reset the index\n",
    "df = df.drop(selected_indexes).reset_index()"
   ]
  },
  {
   "cell_type": "code",
   "execution_count": 496,
   "id": "e2cd8c03",
   "metadata": {},
   "outputs": [
    {
     "name": "stdout",
     "output_type": "stream",
     "text": [
      "<class 'pandas.core.frame.DataFrame'>\n",
      "RangeIndex: 409288 entries, 0 to 409287\n",
      "Data columns (total 14 columns):\n",
      " #   Column                         Non-Null Count   Dtype         \n",
      "---  ------                         --------------   -----         \n",
      " 0   index                          409288 non-null  int64         \n",
      " 1   transaction_id                 409288 non-null  object        \n",
      " 2   transaction_timestamp          409288 non-null  object        \n",
      " 3   account_id                     409288 non-null  object        \n",
      " 4   device_id                      409288 non-null  object        \n",
      " 5   distance_to_frequent_location  408101 non-null  float64       \n",
      " 6   device_age_days                409288 non-null  int64         \n",
      " 7   is_emulator                    409220 non-null  object        \n",
      " 8   has_fake_location              409288 non-null  bool          \n",
      " 9   has_root_permissions           409220 non-null  object        \n",
      " 10  app_is_tampered                409220 non-null  object        \n",
      " 11  transaction_value              409288 non-null  float64       \n",
      " 12  client_decision                409288 non-null  object        \n",
      " 13  date_time                      409288 non-null  datetime64[ns]\n",
      "dtypes: bool(1), datetime64[ns](1), float64(2), int64(2), object(8)\n",
      "memory usage: 41.0+ MB\n"
     ]
    }
   ],
   "source": [
    "# See if it worked \n",
    "df.info()"
   ]
  },
  {
   "cell_type": "code",
   "execution_count": 497,
   "id": "fb5f60dd",
   "metadata": {},
   "outputs": [
    {
     "name": "stdout",
     "output_type": "stream",
     "text": [
      "2023-08-01 00:01:11.811000\n",
      "2023-08-31 23:59:54.872000\n"
     ]
    }
   ],
   "source": [
    "# Understand the period\n",
    "print(min(df['date_time']))\n",
    "print(max(df['date_time']))"
   ]
  },
  {
   "cell_type": "markdown",
   "id": "8a371de6",
   "metadata": {},
   "source": [
    "### Verify variables with missing values"
   ]
  },
  {
   "cell_type": "code",
   "execution_count": 498,
   "id": "d52c75d0",
   "metadata": {},
   "outputs": [
    {
     "data": {
      "text/plain": [
       "distance_to_frequent_location    1187\n",
       "is_emulator                        68\n",
       "has_root_permissions               68\n",
       "app_is_tampered                    68\n",
       "index                               0\n",
       "transaction_id                      0\n",
       "transaction_timestamp               0\n",
       "account_id                          0\n",
       "device_id                           0\n",
       "device_age_days                     0\n",
       "has_fake_location                   0\n",
       "transaction_value                   0\n",
       "client_decision                     0\n",
       "date_time                           0\n",
       "dtype: int64"
      ]
     },
     "execution_count": 498,
     "metadata": {},
     "output_type": "execute_result"
    }
   ],
   "source": [
    "# Check for missing values\n",
    "df.isnull().sum().sort_values(ascending=False)"
   ]
  },
  {
   "cell_type": "markdown",
   "id": "af401b0b",
   "metadata": {},
   "source": [
    "We can see that only 4 variables have missing values:\n",
    "\n",
    "    distance_to_frequent_location\n",
    "    is_emulator                        \n",
    "    has_root_permissions               \n",
    "    app_is_tampered       \n",
    "    \n",
    "I want to check if the 68 transactions with null values are the same"
   ]
  },
  {
   "cell_type": "code",
   "execution_count": 499,
   "id": "7c405fc9",
   "metadata": {},
   "outputs": [],
   "source": [
    "columns_of_interest = ['transaction_id', 'is_emulator', 'has_root_permissions', 'app_is_tampered']\n",
    "\n",
    "\n",
    "df_nulls = df[df[columns_of_interest].isnull().any(axis=1) & df['transaction_id'].\n",
    "   notnull()][columns_of_interest + ['distance_to_frequent_location','date_time']]"
   ]
  },
  {
   "cell_type": "code",
   "execution_count": 500,
   "id": "2f7056e6",
   "metadata": {},
   "outputs": [
    {
     "data": {
      "text/html": [
       "<div>\n",
       "<style scoped>\n",
       "    .dataframe tbody tr th:only-of-type {\n",
       "        vertical-align: middle;\n",
       "    }\n",
       "\n",
       "    .dataframe tbody tr th {\n",
       "        vertical-align: top;\n",
       "    }\n",
       "\n",
       "    .dataframe thead th {\n",
       "        text-align: right;\n",
       "    }\n",
       "</style>\n",
       "<table border=\"1\" class=\"dataframe\">\n",
       "  <thead>\n",
       "    <tr style=\"text-align: right;\">\n",
       "      <th></th>\n",
       "      <th>transaction_id</th>\n",
       "      <th>is_emulator</th>\n",
       "      <th>has_root_permissions</th>\n",
       "      <th>app_is_tampered</th>\n",
       "      <th>distance_to_frequent_location</th>\n",
       "      <th>date_time</th>\n",
       "    </tr>\n",
       "  </thead>\n",
       "  <tbody>\n",
       "    <tr>\n",
       "      <th>20621</th>\n",
       "      <td>eb4c95de-0c72</td>\n",
       "      <td>NaN</td>\n",
       "      <td>NaN</td>\n",
       "      <td>NaN</td>\n",
       "      <td>0.54</td>\n",
       "      <td>2023-08-26 21:12:16.900</td>\n",
       "    </tr>\n",
       "    <tr>\n",
       "      <th>34114</th>\n",
       "      <td>478bda87-3fe2</td>\n",
       "      <td>NaN</td>\n",
       "      <td>NaN</td>\n",
       "      <td>NaN</td>\n",
       "      <td>1.71</td>\n",
       "      <td>2023-08-24 00:42:35.419</td>\n",
       "    </tr>\n",
       "    <tr>\n",
       "      <th>34939</th>\n",
       "      <td>926516a8-66be</td>\n",
       "      <td>NaN</td>\n",
       "      <td>NaN</td>\n",
       "      <td>NaN</td>\n",
       "      <td>244.54</td>\n",
       "      <td>2023-08-26 17:16:12.466</td>\n",
       "    </tr>\n",
       "    <tr>\n",
       "      <th>40164</th>\n",
       "      <td>025082bb-1f72</td>\n",
       "      <td>NaN</td>\n",
       "      <td>NaN</td>\n",
       "      <td>NaN</td>\n",
       "      <td>NaN</td>\n",
       "      <td>2023-08-17 21:48:30.694</td>\n",
       "    </tr>\n",
       "    <tr>\n",
       "      <th>40173</th>\n",
       "      <td>ddbbef0e-64e3</td>\n",
       "      <td>NaN</td>\n",
       "      <td>NaN</td>\n",
       "      <td>NaN</td>\n",
       "      <td>18.46</td>\n",
       "      <td>2023-08-28 19:35:05.530</td>\n",
       "    </tr>\n",
       "    <tr>\n",
       "      <th>...</th>\n",
       "      <td>...</td>\n",
       "      <td>...</td>\n",
       "      <td>...</td>\n",
       "      <td>...</td>\n",
       "      <td>...</td>\n",
       "      <td>...</td>\n",
       "    </tr>\n",
       "    <tr>\n",
       "      <th>388331</th>\n",
       "      <td>b2d46813-8bf8</td>\n",
       "      <td>NaN</td>\n",
       "      <td>NaN</td>\n",
       "      <td>NaN</td>\n",
       "      <td>18.69</td>\n",
       "      <td>2023-08-09 17:11:44.167</td>\n",
       "    </tr>\n",
       "    <tr>\n",
       "      <th>391347</th>\n",
       "      <td>21e6968d-57b5</td>\n",
       "      <td>NaN</td>\n",
       "      <td>NaN</td>\n",
       "      <td>NaN</td>\n",
       "      <td>1.11</td>\n",
       "      <td>2023-08-08 12:26:10.892</td>\n",
       "    </tr>\n",
       "    <tr>\n",
       "      <th>393015</th>\n",
       "      <td>0a5fc685-4e91</td>\n",
       "      <td>NaN</td>\n",
       "      <td>NaN</td>\n",
       "      <td>NaN</td>\n",
       "      <td>3.36</td>\n",
       "      <td>2023-08-02 21:57:22.105</td>\n",
       "    </tr>\n",
       "    <tr>\n",
       "      <th>396096</th>\n",
       "      <td>96a10322-7e94</td>\n",
       "      <td>NaN</td>\n",
       "      <td>NaN</td>\n",
       "      <td>NaN</td>\n",
       "      <td>18516.63</td>\n",
       "      <td>2023-08-08 01:18:50.293</td>\n",
       "    </tr>\n",
       "    <tr>\n",
       "      <th>400532</th>\n",
       "      <td>be267ae9-4a97</td>\n",
       "      <td>NaN</td>\n",
       "      <td>NaN</td>\n",
       "      <td>NaN</td>\n",
       "      <td>14.81</td>\n",
       "      <td>2023-08-17 16:35:33.551</td>\n",
       "    </tr>\n",
       "  </tbody>\n",
       "</table>\n",
       "<p>68 rows × 6 columns</p>\n",
       "</div>"
      ],
      "text/plain": [
       "       transaction_id is_emulator has_root_permissions app_is_tampered  \\\n",
       "20621   eb4c95de-0c72         NaN                  NaN             NaN   \n",
       "34114   478bda87-3fe2         NaN                  NaN             NaN   \n",
       "34939   926516a8-66be         NaN                  NaN             NaN   \n",
       "40164   025082bb-1f72         NaN                  NaN             NaN   \n",
       "40173   ddbbef0e-64e3         NaN                  NaN             NaN   \n",
       "...               ...         ...                  ...             ...   \n",
       "388331  b2d46813-8bf8         NaN                  NaN             NaN   \n",
       "391347  21e6968d-57b5         NaN                  NaN             NaN   \n",
       "393015  0a5fc685-4e91         NaN                  NaN             NaN   \n",
       "396096  96a10322-7e94         NaN                  NaN             NaN   \n",
       "400532  be267ae9-4a97         NaN                  NaN             NaN   \n",
       "\n",
       "        distance_to_frequent_location               date_time  \n",
       "20621                            0.54 2023-08-26 21:12:16.900  \n",
       "34114                            1.71 2023-08-24 00:42:35.419  \n",
       "34939                          244.54 2023-08-26 17:16:12.466  \n",
       "40164                             NaN 2023-08-17 21:48:30.694  \n",
       "40173                           18.46 2023-08-28 19:35:05.530  \n",
       "...                               ...                     ...  \n",
       "388331                          18.69 2023-08-09 17:11:44.167  \n",
       "391347                           1.11 2023-08-08 12:26:10.892  \n",
       "393015                           3.36 2023-08-02 21:57:22.105  \n",
       "396096                       18516.63 2023-08-08 01:18:50.293  \n",
       "400532                          14.81 2023-08-17 16:35:33.551  \n",
       "\n",
       "[68 rows x 6 columns]"
      ]
     },
     "execution_count": 500,
     "metadata": {},
     "output_type": "execute_result"
    }
   ],
   "source": [
    "df_nulls"
   ]
  },
  {
   "cell_type": "markdown",
   "id": "2e984b8e",
   "metadata": {},
   "source": [
    "We can see that the 68 transactions have null values for the 3 columns of interest.\n",
    "\n",
    "\n",
    "Rows with null values in all specified columns ('is_emulator', 'has_root_permissions', 'app_is_tampered') may indicate missing or incomplete information regarding the device characteristics and app integrity.\n",
    "\n",
    "It might be due to data collection issues, where the information was not recorded or obtained.\n",
    "\n",
    "Lets check if there was some week that we had a higher volumn of nulls, so we can investigate if was there any problems such integrations"
   ]
  },
  {
   "cell_type": "code",
   "execution_count": 501,
   "id": "2e9171c4",
   "metadata": {},
   "outputs": [
    {
     "data": {
      "image/png": "[encoded data removed]",
      "text/plain": [
       "<Figure size 864x432 with 1 Axes>"
      ]
     },
     "metadata": {
      "needs_background": "light"
     },
     "output_type": "display_data"
    }
   ],
   "source": [
    "df2 = df.copy()\n",
    "df2.set_index('date_time', inplace=True)\n",
    "\n",
    "df_nulls2 = df_nulls.copy()\n",
    "df_nulls2.set_index('date_time', inplace=True)\n",
    "\n",
    "\n",
    "# Resample the data to weekly frequency and count the number of transactions per week\n",
    "weekly_transaction_count = df2.resample('W').size()\n",
    "\n",
    "# Resample the data to weekly frequency and count the number of transactions per week\n",
    "weekly_transaction_count_nulls = df_nulls2.resample('W').size()\n",
    "\n",
    "\n",
    "percentage_nulls_per_week = weekly_transaction_count_nulls / weekly_transaction_count * 100\n",
    "\n",
    "# Plotting the percentage of nulls per week\n",
    "plt.figure(figsize=(12, 6))\n",
    "plt.plot(percentage_nulls_per_week, marker='o', linestyle='-', color='g', label='% Nulls')\n",
    "plt.title('Percentage of Nulls per Week')\n",
    "plt.xlabel('Week')\n",
    "plt.ylabel('% Nulls')\n",
    "plt.grid(True)\n",
    "plt.show()\n"
   ]
  },
  {
   "cell_type": "markdown",
   "id": "87428cf4",
   "metadata": {},
   "source": [
    "The relatively low percentages (0.03, 0.01, 0.02, etc.) indicate that, on average, the dataset is mostly complete. However, it's crucial to understand the threshold for acceptable null percentages based on the specific use case.\n",
    "\n",
    "As we have very small amount of nulls, we won't be investigating further this time, but we need to monitor it."
   ]
  },
  {
   "cell_type": "markdown",
   "id": "e4ed5cb9",
   "metadata": {},
   "source": [
    "## 1.2 - Exploratory Data Analysis (EDA)\n",
    "\n",
    "### Univariate Analysis:\n",
    "We need to conduct univariate analysis to understand the distribution of each variable. "
   ]
  },
  {
   "cell_type": "code",
   "execution_count": 502,
   "id": "116da365",
   "metadata": {},
   "outputs": [
    {
     "data": {
      "image/png": "[encoded data removed]",
      "text/plain": [
       "<Figure size 864x432 with 1 Axes>"
      ]
     },
     "metadata": {
      "needs_background": "light"
     },
     "output_type": "display_data"
    }
   ],
   "source": [
    "df3 = df.copy()\n",
    "df3.set_index('date_time', inplace=True)\n",
    "\n",
    "# Calculate daily transaction count\n",
    "daily_transaction_count = df3.resample('D').size()\n",
    "\n",
    "\n",
    "\n",
    "\n",
    "# Plotting the percentage of nulls per week\n",
    "plt.figure(figsize=(12, 6))\n",
    "plt.plot(daily_transaction_count, marker='o', linestyle='-', color='purple', label='Transaction Count')\n",
    "plt.title('Daily Transaction Volume Over Time')\n",
    "plt.xlabel('Day')\n",
    "plt.ylabel('Transaction Count')\n",
    "plt.grid(True)\n",
    "plt.show()"
   ]
  },
  {
   "cell_type": "code",
   "execution_count": 503,
   "id": "431ec4db",
   "metadata": {},
   "outputs": [
    {
     "data": {
      "image/png": "[encoded data removed]",
      "text/plain": [
       "<Figure size 720x432 with 1 Axes>"
      ]
     },
     "metadata": {
      "needs_background": "light"
     },
     "output_type": "display_data"
    }
   ],
   "source": [
    "# Assuming 'transaction_timestamp' is already in datetime format\n",
    "df['day_of_week'] = df['date_time'].dt.day_name()\n",
    "\n",
    "# Set the order of days\n",
    "day_order = [\"Sunday\", \"Monday\", \"Tuesday\", \"Wednesday\", \"Thursday\", \"Friday\", \"Saturday\"]\n",
    "df['day_of_week'] = pd.Categorical(df['day_of_week'], categories=day_order, ordered=True)\n",
    "\n",
    "# Create a new column to categorize weekdays and weekends\n",
    "df['day_category'] = df['date_time'].dt.dayofweek // 5 == 1\n",
    "\n",
    "# Count transactions based on day and category\n",
    "transaction_counts = df.groupby(['day_of_week', 'day_category']).size().reset_index(name='transaction_count')\n",
    "\n",
    "# Visualize the transaction counts for weekdays and weekends\n",
    "import seaborn as sns\n",
    "import matplotlib.pyplot as plt\n",
    "\n",
    "plt.figure(figsize=(10, 6))\n",
    "sns.barplot(x='day_of_week', y='transaction_count', data=transaction_counts, ci=None)\n",
    "plt.title('Transaction Counts: Weekday vs. Weekend')\n",
    "plt.xlabel('Day of Week')\n",
    "plt.ylabel('Transaction Count')\n",
    "plt.show()\n"
   ]
  },
  {
   "cell_type": "markdown",
   "id": "d99f29e1",
   "metadata": {},
   "source": [
    "Most transactions occur on weekdays, as the counts for weekdays are higher than those for weekends"
   ]
  },
  {
   "cell_type": "markdown",
   "id": "d0b98632",
   "metadata": {},
   "source": [
    "#### Numerical variables"
   ]
  },
  {
   "cell_type": "code",
   "execution_count": 504,
   "id": "a6d6415a",
   "metadata": {
    "scrolled": true
   },
   "outputs": [
    {
     "data": {
      "text/html": [
       "<div>\n",
       "<style scoped>\n",
       "    .dataframe tbody tr th:only-of-type {\n",
       "        vertical-align: middle;\n",
       "    }\n",
       "\n",
       "    .dataframe tbody tr th {\n",
       "        vertical-align: top;\n",
       "    }\n",
       "\n",
       "    .dataframe thead th {\n",
       "        text-align: right;\n",
       "    }\n",
       "</style>\n",
       "<table border=\"1\" class=\"dataframe\">\n",
       "  <thead>\n",
       "    <tr style=\"text-align: right;\">\n",
       "      <th></th>\n",
       "      <th>index</th>\n",
       "      <th>distance_to_frequent_location</th>\n",
       "      <th>device_age_days</th>\n",
       "      <th>transaction_value</th>\n",
       "    </tr>\n",
       "  </thead>\n",
       "  <tbody>\n",
       "    <tr>\n",
       "      <th>count</th>\n",
       "      <td>409288.00</td>\n",
       "      <td>408101.00</td>\n",
       "      <td>409288.00</td>\n",
       "      <td>409288.00</td>\n",
       "    </tr>\n",
       "    <tr>\n",
       "      <th>mean</th>\n",
       "      <td>204713.94</td>\n",
       "      <td>14472.39</td>\n",
       "      <td>125.14</td>\n",
       "      <td>217.84</td>\n",
       "    </tr>\n",
       "    <tr>\n",
       "      <th>std</th>\n",
       "      <td>118190.71</td>\n",
       "      <td>230530.10</td>\n",
       "      <td>119.68</td>\n",
       "      <td>392.37</td>\n",
       "    </tr>\n",
       "    <tr>\n",
       "      <th>min</th>\n",
       "      <td>0.00</td>\n",
       "      <td>0.00</td>\n",
       "      <td>0.00</td>\n",
       "      <td>1.75</td>\n",
       "    </tr>\n",
       "    <tr>\n",
       "      <th>25%</th>\n",
       "      <td>102361.75</td>\n",
       "      <td>1.88</td>\n",
       "      <td>20.00</td>\n",
       "      <td>57.45</td>\n",
       "    </tr>\n",
       "    <tr>\n",
       "      <th>50%</th>\n",
       "      <td>204714.50</td>\n",
       "      <td>5.85</td>\n",
       "      <td>93.00</td>\n",
       "      <td>109.21</td>\n",
       "    </tr>\n",
       "    <tr>\n",
       "      <th>75%</th>\n",
       "      <td>307069.25</td>\n",
       "      <td>40.49</td>\n",
       "      <td>215.00</td>\n",
       "      <td>218.11</td>\n",
       "    </tr>\n",
       "    <tr>\n",
       "      <th>max</th>\n",
       "      <td>409427.00</td>\n",
       "      <td>16500000.00</td>\n",
       "      <td>366.00</td>\n",
       "      <td>27230.35</td>\n",
       "    </tr>\n",
       "  </tbody>\n",
       "</table>\n",
       "</div>"
      ],
      "text/plain": [
       "          index  distance_to_frequent_location  device_age_days  \\\n",
       "count 409288.00                      408101.00        409288.00   \n",
       "mean  204713.94                       14472.39           125.14   \n",
       "std   118190.71                      230530.10           119.68   \n",
       "min        0.00                           0.00             0.00   \n",
       "25%   102361.75                           1.88            20.00   \n",
       "50%   204714.50                           5.85            93.00   \n",
       "75%   307069.25                          40.49           215.00   \n",
       "max   409427.00                    16500000.00           366.00   \n",
       "\n",
       "       transaction_value  \n",
       "count          409288.00  \n",
       "mean              217.84  \n",
       "std               392.37  \n",
       "min                 1.75  \n",
       "25%                57.45  \n",
       "50%               109.21  \n",
       "75%               218.11  \n",
       "max             27230.35  "
      ]
     },
     "execution_count": 504,
     "metadata": {},
     "output_type": "execute_result"
    }
   ],
   "source": [
    "# Generate statistics \n",
    "df.describe()"
   ]
  },
  {
   "cell_type": "code",
   "execution_count": 545,
   "id": "19a3fc19",
   "metadata": {
    "scrolled": true
   },
   "outputs": [
    {
     "data": {
      "image/png": "[encoded data removed]",
      "text/plain": [
       "<Figure size 864x864 with 6 Axes>"
      ]
     },
     "metadata": {
      "needs_background": "light"
     },
     "output_type": "display_data"
    }
   ],
   "source": [
    "# Plot the numerical variables distribution\n",
    "\n",
    "#Set up subplots with 2 rows and 3 columns\n",
    "fig, axes = plt.subplots(nrows=3, ncols=2, figsize=(12, 12))\n",
    "\n",
    "\n",
    "# Plot histograms\n",
    "sns.histplot(df['device_age_days'], bins=20, alpha=0.5, ax=axes[0, 0])\n",
    "axes[0, 0].set_title('Device Age Days Histogram')\n",
    "\n",
    "sns.histplot(df['distance_to_frequent_location'], bins=20, alpha=0.5, ax=axes[1, 0])\n",
    "axes[1, 0].set_title('Distance to Frequent Location Histogram')\n",
    "\n",
    "sns.histplot(df['transaction_value'], bins=20, alpha=0.5, ax=axes[2, 0])\n",
    "axes[2, 0].set_title('Transaction Value Histogram')\n",
    "\n",
    "# Plot boxplots\n",
    "sns.boxplot(x=df['device_age_days'], ax=axes[0, 1])\n",
    "axes[0, 1].set_title('Device Age Days Boxplot')\n",
    "\n",
    "sns.boxplot(x=df['distance_to_frequent_location'], ax=axes[1, 1])\n",
    "axes[1, 1].set_title('Distance to Frequent Location Boxplot')\n",
    "\n",
    "sns.boxplot(x=df['transaction_value'], ax=axes[2, 1])\n",
    "axes[2, 1].set_title('Transaction Value Boxplot')\n",
    "\n",
    "# Adjust layout\n",
    "plt.tight_layout()\n",
    "plt.show()"
   ]
  },
  {
   "cell_type": "markdown",
   "id": "6ef75f12",
   "metadata": {},
   "source": [
    "#####  Handling outliers \n",
    "\n",
    "Handling outliers in the \"transaction_value\" and \"distance_to_frequent_location\" requires careful consideration.\n",
    "\n",
    "I started by visualizing the distribution of \"transaction_value\" using histograms and box plots. This helped me to identify the presence of outliers. So will use the statistical method IQR (Interquartile Range) to detect and handle outliers.\n",
    "\n",
    "I choose not to remove or transform the outliers because I know they are a natural part of our dataset: they are not wrong. We will focus on use robust statistical measures that are less sensitive to outliers, like the median (instead of the mean)  as it is a measure of central tendency that can be more resilient to the influence of outliers."
   ]
  },
  {
   "cell_type": "code",
   "execution_count": 506,
   "id": "3741c1e9",
   "metadata": {},
   "outputs": [
    {
     "name": "stdout",
     "output_type": "stream",
     "text": [
      "-183.54724075\n",
      "459.10147749\n"
     ]
    }
   ],
   "source": [
    "# Using the Interquartile Range (IQR) method to detect and handle outliers.\n",
    "\n",
    "# Calculate Q1, Q3, and IQR\n",
    "Q1_transaction = df['transaction_value'].quantile(0.25)\n",
    "Q3_transaction = df['transaction_value'].quantile(0.75)\n",
    "IQR_transaction = Q3_transaction - Q1_transaction\n",
    "\n",
    "# Define lower and upper bounds\n",
    "lower_bound_transaction = Q1_transaction - 1.5 * IQR_transaction\n",
    "upper_bound_transaction = Q3_transaction + 1.5 * IQR_transaction\\\n",
    "\n",
    "print(lower_bound_transaction)\n",
    "print(upper_bound_transaction)"
   ]
  },
  {
   "cell_type": "code",
   "execution_count": 507,
   "id": "e9dc623c",
   "metadata": {},
   "outputs": [],
   "source": [
    "# Create a column identifying if the transaction has or not a transaction_value that we consider outlier\n",
    "df['outlier_value'] = \n",
    "((df['transaction_value'] < lower_bound_transaction) | (df['transaction_value'] > upper_bound_transaction)).astype(int)"
   ]
  },
  {
   "cell_type": "code",
   "execution_count": 508,
   "id": "9b20c369",
   "metadata": {},
   "outputs": [
    {
     "name": "stdout",
     "output_type": "stream",
     "text": [
      "-56.025853704999996\n",
      "98.40021748699999\n"
     ]
    }
   ],
   "source": [
    "# Using the Interquartile Range (IQR) method to detect and handle outliers in distance_to_frequent_location\n",
    "\n",
    "# Calculate Q1, Q3, and IQR\n",
    "Q1_distance = df['distance_to_frequent_location'].quantile(0.25)\n",
    "Q3_distance = df['distance_to_frequent_location'].quantile(0.75)\n",
    "IQR_distance = Q3_distance - Q1_distance\n",
    "\n",
    "# Define lower and upper bounds\n",
    "lower_bound_distance = Q1_distance - 1.5 * IQR_distance\n",
    "upper_bound_distance= Q3_distance + 1.5 * IQR_distance\\\n",
    "\n",
    "print(lower_bound_distance)\n",
    "print(upper_bound_distance)"
   ]
  },
  {
   "cell_type": "code",
   "execution_count": 509,
   "id": "b6833b76",
   "metadata": {},
   "outputs": [],
   "source": [
    "#create a column identifying if the transaction has or not a transaction_value that we consider outlier\n",
    "df['outlier_distance'] = \n",
    "((df['distance_to_frequent_location'] < lower_bound_distance) | \n",
    " (df['distance_to_frequent_location'] > upper_bound_distance)).astype(int)"
   ]
  },
  {
   "cell_type": "code",
   "execution_count": 510,
   "id": "c3e1cd01",
   "metadata": {},
   "outputs": [
    {
     "name": "stdout",
     "output_type": "stream",
     "text": [
      "0   89.95\n",
      "1   10.05\n",
      "Name: outlier_value, dtype: float64\n",
      "0   77.76\n",
      "1   22.24\n",
      "Name: outlier_distance, dtype: float64\n"
     ]
    }
   ],
   "source": [
    "print(df['outlier_value'].value_counts() / len(df.index)*100)\n",
    "print(df['outlier_distance'].value_counts() / len(df.index)*100)"
   ]
  },
  {
   "cell_type": "markdown",
   "id": "11575710",
   "metadata": {},
   "source": [
    "#### Categorical variables\n",
    "\n",
    "We need to explore:\n",
    "\n",
    "    is_emulator\n",
    "    has_fake_location\n",
    "    has_root_permissions\n",
    "    app_is_tampered\n",
    "    client_decision"
   ]
  },
  {
   "cell_type": "markdown",
   "id": "3e2a4d08",
   "metadata": {},
   "source": [
    "##### Is emulator\n",
    "\n",
    "Emulator usage may indicate attempts to simulate transactions in a controlled environment, that might be a higer risk transaction"
   ]
  },
  {
   "cell_type": "code",
   "execution_count": 511,
   "id": "6ecb8a13",
   "metadata": {},
   "outputs": [
    {
     "name": "stdout",
     "output_type": "stream",
     "text": [
      "False    409097\n",
      "True        123\n",
      "NaN          68\n",
      "Name: is_emulator, dtype: int64\n",
      "False   99.95\n",
      "True     0.03\n",
      "NaN      0.02\n",
      "Name: is_emulator, dtype: float64\n"
     ]
    },
    {
     "data": {
      "image/png": "[encoded data removed]",
      "text/plain": [
       "<Figure size 576x360 with 1 Axes>"
      ]
     },
     "metadata": {
      "needs_background": "light"
     },
     "output_type": "display_data"
    }
   ],
   "source": [
    "# Bar plot for is_emulator with counts on bars\n",
    "\n",
    "print(df[\"is_emulator\"].value_counts(dropna=False))\n",
    "print(df[\"is_emulator\"].value_counts(dropna=False)/len(df.index)*100)\n",
    "\n",
    "plt.figure(figsize=(8, 5))\n",
    "sns.countplot(x='is_emulator', data=df, dodge=False)\n",
    "plt.title('Distribution of Is Emulator')\n",
    "plt.show()"
   ]
  },
  {
   "cell_type": "markdown",
   "id": "b74f34a2",
   "metadata": {},
   "source": [
    "There are only a few transactions with an emulator or with Null emulator value, which is good"
   ]
  },
  {
   "cell_type": "markdown",
   "id": "08238b86",
   "metadata": {},
   "source": [
    "##### Has Fake Location\n",
    "\n",
    "Investigate transactions where devices generate fake location information. Assess the impact of false location data on transaction patterns."
   ]
  },
  {
   "cell_type": "code",
   "execution_count": 512,
   "id": "2ff6a316",
   "metadata": {},
   "outputs": [
    {
     "name": "stdout",
     "output_type": "stream",
     "text": [
      "False    409083\n",
      "True        205\n",
      "Name: has_fake_location, dtype: int64\n",
      "False   99.95\n",
      "True     0.05\n",
      "Name: has_fake_location, dtype: float64\n"
     ]
    },
    {
     "data": {
      "image/png": "[encoded data removed]",
      "text/plain": [
       "<Figure size 576x360 with 1 Axes>"
      ]
     },
     "metadata": {
      "needs_background": "light"
     },
     "output_type": "display_data"
    }
   ],
   "source": [
    "# Bar plot for has_fake_location with counts on bars\n",
    "\n",
    "print(df[\"has_fake_location\"].value_counts(dropna=False))\n",
    "print(df[\"has_fake_location\"].value_counts(dropna=False)/len(df.index)*100)\n",
    "\n",
    "plt.figure(figsize=(8, 5))\n",
    "sns.countplot(x='has_fake_location', data=df, dodge=False)\n",
    "plt.title('Distribution of Has Fake Location')\n",
    "plt.show()\n"
   ]
  },
  {
   "cell_type": "markdown",
   "id": "d9b59016",
   "metadata": {},
   "source": [
    "There are only a few transactions with fake location or with Null fake location value , which is good"
   ]
  },
  {
   "cell_type": "markdown",
   "id": "dbd352b8",
   "metadata": {},
   "source": [
    "##### Has Root Permisions\n",
    "\n",
    "Examine transactions from devices with root privileges. Rooted devices may have higher security risks, and transactions from such devices may exhibit distinct patterns.\n"
   ]
  },
  {
   "cell_type": "code",
   "execution_count": 513,
   "id": "94471243",
   "metadata": {},
   "outputs": [
    {
     "name": "stdout",
     "output_type": "stream",
     "text": [
      "False    408767\n",
      "True        453\n",
      "NaN          68\n",
      "Name: has_root_permissions, dtype: int64\n",
      "False   99.87\n",
      "True     0.11\n",
      "NaN      0.02\n",
      "Name: has_root_permissions, dtype: float64\n"
     ]
    },
    {
     "data": {
      "image/png": "[encoded data removed]",
      "text/plain": [
       "<Figure size 576x360 with 1 Axes>"
      ]
     },
     "metadata": {
      "needs_background": "light"
     },
     "output_type": "display_data"
    }
   ],
   "source": [
    "# Bar plot for has_root_permissions with counts on bars\n",
    "\n",
    "print(df[\"has_root_permissions\"].value_counts(dropna=False))\n",
    "print(df[\"has_root_permissions\"].value_counts(dropna=False)/len(df.index)*100)\n",
    "\n",
    "plt.figure(figsize=(8, 5))\n",
    "sns.countplot(x='has_root_permissions', data=df, dodge=False)\n",
    "plt.title('Distribution of Has Root Permisions')\n",
    "plt.show()\n"
   ]
  },
  {
   "cell_type": "markdown",
   "id": "0c62f34c",
   "metadata": {},
   "source": [
    "There are only a few transactions with no root permissions or with Null root permissions value, which is good"
   ]
  },
  {
   "cell_type": "markdown",
   "id": "300dbef5",
   "metadata": {},
   "source": [
    "##### App is Tampered\n",
    "\n",
    "Analyze transactions where the app used is tampered with. Tampering may involve modifying the application to manipulate transaction processes."
   ]
  },
  {
   "cell_type": "code",
   "execution_count": 514,
   "id": "106af9ec",
   "metadata": {},
   "outputs": [
    {
     "name": "stdout",
     "output_type": "stream",
     "text": [
      "False    409080\n",
      "True        140\n",
      "NaN          68\n",
      "Name: app_is_tampered, dtype: int64\n",
      "False   99.95\n",
      "True     0.03\n",
      "NaN      0.02\n",
      "Name: app_is_tampered, dtype: float64\n"
     ]
    },
    {
     "data": {
      "image/png": "[encoded data removed]",
      "text/plain": [
       "<Figure size 576x360 with 1 Axes>"
      ]
     },
     "metadata": {
      "needs_background": "light"
     },
     "output_type": "display_data"
    }
   ],
   "source": [
    "# Bar plot for app_is_tampered with counts on bars\n",
    "\n",
    "print(df[\"app_is_tampered\"].value_counts(dropna=False))\n",
    "print(df[\"app_is_tampered\"].value_counts(dropna=False)/len(df.index)*100)\n",
    "\n",
    "plt.figure(figsize=(8, 5))\n",
    "sns.countplot(x='app_is_tampered', data=df, dodge=False)\n",
    "plt.title('Distribution of App is Tampered')\n",
    "plt.show()"
   ]
  },
  {
   "cell_type": "markdown",
   "id": "d111d689",
   "metadata": {},
   "source": [
    "There are only a few transactions that the app haven't been tampered or with Null app tampered value, which is good"
   ]
  },
  {
   "cell_type": "markdown",
   "id": "ffd2ec37",
   "metadata": {},
   "source": [
    "##### Client decision\n",
    "\n",
    "Explore the distribution of client decisions (approved or denied) after the two-factor authentication (2FA) process. Understand the factors influencing the decision-making process."
   ]
  },
  {
   "cell_type": "code",
   "execution_count": 515,
   "id": "68fa2c58",
   "metadata": {},
   "outputs": [
    {
     "name": "stdout",
     "output_type": "stream",
     "text": [
      "approved    265656\n",
      "denied      143632\n",
      "Name: client_decision, dtype: int64\n",
      "approved   64.91\n",
      "denied     35.09\n",
      "Name: client_decision, dtype: float64\n"
     ]
    },
    {
     "data": {
      "image/png": "[encoded data removed]",
      "text/plain": [
       "<Figure size 576x360 with 1 Axes>"
      ]
     },
     "metadata": {
      "needs_background": "light"
     },
     "output_type": "display_data"
    }
   ],
   "source": [
    "print(df[\"client_decision\"].value_counts(dropna=False))\n",
    "print(df[\"client_decision\"].value_counts(dropna=False)/len(df.index)*100)\n",
    "\n",
    "plt.figure(figsize=(8, 5))\n",
    "sns.countplot(x='client_decision', data=df, dodge=False)\n",
    "plt.title('Distribution of Client Decision')\n",
    "plt.show()\n",
    "\n"
   ]
  },
  {
   "cell_type": "markdown",
   "id": "ee0d9deb",
   "metadata": {},
   "source": [
    "The majority of transactions (approximately 65%) have been approved by the client but a higher approval rate is often desirable. \n",
    "\n",
    "Typically, an approval rate above 90% is considered good, but it can vary on the transactions segment."
   ]
  },
  {
   "cell_type": "markdown",
   "id": "ed6b7d50",
   "metadata": {},
   "source": [
    "### Bivariate analysis \n",
    "\n",
    "Exploring relationships between two variables"
   ]
  },
  {
   "cell_type": "markdown",
   "id": "f0f7f7c8",
   "metadata": {},
   "source": [
    "##### Numerical variables"
   ]
  },
  {
   "cell_type": "code",
   "execution_count": 516,
   "id": "cabd80f9",
   "metadata": {},
   "outputs": [
    {
     "data": {
      "image/png": "[encoded data removed]",
      "text/plain": [
       "<Figure size 288x144 with 1 Axes>"
      ]
     },
     "metadata": {
      "needs_background": "light"
     },
     "output_type": "display_data"
    },
    {
     "data": {
      "image/png": "[encoded data removed]",
      "text/plain": [
       "<Figure size 288x144 with 1 Axes>"
      ]
     },
     "metadata": {
      "needs_background": "light"
     },
     "output_type": "display_data"
    },
    {
     "data": {
      "image/png": "[encoded data removed]",
      "text/plain": [
       "<Figure size 288x144 with 1 Axes>"
      ]
     },
     "metadata": {
      "needs_background": "light"
     },
     "output_type": "display_data"
    }
   ],
   "source": [
    "# Scatter plot between distance_to_frequent_location and device_age_days\n",
    "plt.figure(figsize=(4, 2))\n",
    "sns.scatterplot(x='distance_to_frequent_location', y='device_age_days', data=df)\n",
    "plt.title('Scatter Plot: Distance to Frequent Location vs. Device Age Days')\n",
    "plt.show()\n",
    "\n",
    "# Scatter plot between device_age_days and transaction_value\n",
    "plt.figure(figsize=(4, 2))\n",
    "sns.scatterplot(x='device_age_days', y='transaction_value', data=df)\n",
    "plt.title('Scatter Plot: Device Age Days vs. Transaction Value')\n",
    "plt.show()\n",
    "\n",
    "# Scatter plot between transaction_value and distance_to_frequent_location\n",
    "plt.figure(figsize=(4, 2))\n",
    "sns.scatterplot(x='transaction_value', y='distance_to_frequent_location', data=df)\n",
    "plt.title('Scatter Plot: Transaction Value vs. Distance to Frequent Location')\n",
    "plt.show()"
   ]
  },
  {
   "cell_type": "code",
   "execution_count": 517,
   "id": "0719f1d4",
   "metadata": {},
   "outputs": [],
   "source": [
    "numerical_variables = ['distance_to_frequent_location', 'device_age_days', 'transaction_value']"
   ]
  },
  {
   "cell_type": "code",
   "execution_count": 518,
   "id": "78e90d66",
   "metadata": {},
   "outputs": [
    {
     "data": {
      "image/png": "[encoded data removed]",
      "text/plain": [
       "<Figure size 432x288 with 2 Axes>"
      ]
     },
     "metadata": {
      "needs_background": "light"
     },
     "output_type": "display_data"
    }
   ],
   "source": [
    "correlation_matrix = df[numerical_variables].corr()\n",
    "\n",
    "sns.diverging_palette(145, 300, s=60, as_cmap=True)\n",
    "\n",
    "sns.heatmap(correlation_matrix, annot=True)\n",
    "plt.title('Correlation Heatmap')\n",
    "plt.show()"
   ]
  },
  {
   "cell_type": "markdown",
   "id": "9efe19d1",
   "metadata": {},
   "source": [
    "These variables have weak linear relationships so we can say that there is no strong evidence of correlation between them. "
   ]
  },
  {
   "cell_type": "markdown",
   "id": "8d07739e",
   "metadata": {},
   "source": [
    "##### Categorical variables"
   ]
  },
  {
   "cell_type": "code",
   "execution_count": 519,
   "id": "a74358e9",
   "metadata": {},
   "outputs": [
    {
     "data": {
      "image/png": "[encoded data removed]",
      "text/plain": [
       "<Figure size 720x576 with 4 Axes>"
      ]
     },
     "metadata": {
      "needs_background": "light"
     },
     "output_type": "display_data"
    }
   ],
   "source": [
    "# Set up subplots for device_age_days \n",
    "fig, axes = plt.subplots(nrows=2, ncols=2, figsize=(10, 8))\n",
    "\n",
    "# Boxplot for 'is_emulator'\n",
    "sns.boxplot(x='is_emulator', y='device_age_days', data=df, ax=axes[0, 0])\n",
    "axes[0, 0].set_title('Boxplot for is_emulator')\n",
    "\n",
    "# Boxplot for 'has_root_permissions'\n",
    "sns.boxplot(x='has_root_permissions', y='device_age_days', data=df, ax=axes[0, 1])\n",
    "axes[0, 1].set_title('Boxplot for has_root_permissions')\n",
    "\n",
    "# Boxplot for 'app_is_tampered'\n",
    "sns.boxplot(x='app_is_tampered', y='device_age_days', data=df, ax=axes[1, 0])\n",
    "axes[1, 0].set_title('Boxplot for app_is_tampered')\n",
    "\n",
    "# Boxplot for 'has_fake_location'\n",
    "sns.boxplot(x='has_fake_location', y='device_age_days', data=df, ax=axes[1, 1])\n",
    "axes[1, 1].set_title('Boxplot for has_fake_location')\n",
    "\n",
    "# Adjust layout\n",
    "plt.tight_layout()\n",
    "\n",
    "# Show the plots\n",
    "plt.show()\n"
   ]
  },
  {
   "cell_type": "markdown",
   "id": "0e353402",
   "metadata": {},
   "source": [
    "We can see that the values for device_age_days are a little slower for those transactions that has fake location, has hoot permision and the app had been tampered. For those who has an amulator, they are very small and with lots of outliers."
   ]
  },
  {
   "cell_type": "markdown",
   "id": "6bfa7021",
   "metadata": {},
   "source": [
    "The \"transaction_value\" and \"distance_to_frequent_location\" has lots of outliers, making it challenging to visualize meaningful differences but we will plot is anyway just to visualize"
   ]
  },
  {
   "cell_type": "code",
   "execution_count": 520,
   "id": "06b6e825",
   "metadata": {},
   "outputs": [
    {
     "data": {
      "image/png": "[encoded data removed]",
      "text/plain": [
       "<Figure size 720x576 with 4 Axes>"
      ]
     },
     "metadata": {
      "needs_background": "light"
     },
     "output_type": "display_data"
    }
   ],
   "source": [
    "# Set up subplots for transaction_value\n",
    "fig, axes = plt.subplots(nrows=2, ncols=2, figsize=(10, 8))\n",
    "\n",
    "# Boxplot for 'is_emulator'\n",
    "sns.boxplot(x='is_emulator', y='transaction_value', data=df, ax=axes[0, 0])\n",
    "axes[0, 0].set_title('Boxplot for is_emulator')\n",
    "\n",
    "# Boxplot for 'has_root_permissions'\n",
    "sns.boxplot(x='has_root_permissions', y='transaction_value', data=df, ax=axes[0, 1])\n",
    "axes[0, 1].set_title('Boxplot for has_root_permissions')\n",
    "\n",
    "# Boxplot for 'app_is_tampered'\n",
    "sns.boxplot(x='app_is_tampered', y='transaction_value', data=df, ax=axes[1, 0])\n",
    "axes[1, 0].set_title('Boxplot for app_is_tampered')\n",
    "\n",
    "# Boxplot for 'has_fake_location'\n",
    "sns.boxplot(x='has_fake_location', y='transaction_value', data=df, ax=axes[1, 1])\n",
    "axes[1, 1].set_title('Boxplot for has_fake_location')\n",
    "\n",
    "# Adjust layout\n",
    "plt.tight_layout()\n",
    "\n",
    "# Show the plots\n",
    "plt.show()\n"
   ]
  },
  {
   "cell_type": "code",
   "execution_count": 521,
   "id": "03d059a2",
   "metadata": {},
   "outputs": [
    {
     "data": {
      "image/png": "[encoded data removed]",
      "text/plain": [
       "<Figure size 720x576 with 4 Axes>"
      ]
     },
     "metadata": {
      "needs_background": "light"
     },
     "output_type": "display_data"
    }
   ],
   "source": [
    "# Set up subplots for distance_to_frequent_location\n",
    "fig, axes = plt.subplots(nrows=2, ncols=2, figsize=(10, 8))\n",
    "\n",
    "# Boxplot for 'is_emulator'\n",
    "sns.boxplot(x='is_emulator', y='distance_to_frequent_location', data=df, ax=axes[0, 0])\n",
    "axes[0, 0].set_title('Boxplot for is_emulator')\n",
    "\n",
    "# Boxplot for 'has_root_permissions'\n",
    "sns.boxplot(x='has_root_permissions', y='distance_to_frequent_location', data=df, ax=axes[0, 1])\n",
    "axes[0, 1].set_title('Boxplot for has_root_permissions')\n",
    "\n",
    "# Boxplot for 'app_is_tampered'\n",
    "sns.boxplot(x='app_is_tampered', y='distance_to_frequent_location', data=df, ax=axes[1, 0])\n",
    "axes[1, 0].set_title('Boxplot for app_is_tampered')\n",
    "\n",
    "# Boxplot for 'has_fake_location'\n",
    "sns.boxplot(x='has_fake_location', y='distance_to_frequent_location', data=df, ax=axes[1, 1])\n",
    "axes[1, 1].set_title('Boxplot for has_fake_location')\n",
    "\n",
    "# Adjust layout\n",
    "plt.tight_layout()\n",
    "\n",
    "# Show the plots\n",
    "plt.show()\n"
   ]
  },
  {
   "cell_type": "code",
   "execution_count": 522,
   "id": "c62a98a7",
   "metadata": {},
   "outputs": [
    {
     "data": {
      "image/png": "[encoded data removed]",
      "text/plain": [
       "<Figure size 432x288 with 1 Axes>"
      ]
     },
     "metadata": {
      "needs_background": "light"
     },
     "output_type": "display_data"
    }
   ],
   "source": [
    "# Plot histograms of the amounts of client_decision by device_age_days\n",
    "plt.hist(df.loc[df.client_decision == 'approved'].device_age_days, alpha=0.5, label='approved',bins=20)\n",
    "plt.hist(df.loc[df.client_decision == 'denied'].device_age_days, alpha=0.5, label='denied',bins=20)\n",
    "\n",
    "\n",
    "plt.legend()\n",
    "plt.show()"
   ]
  },
  {
   "cell_type": "code",
   "execution_count": 523,
   "id": "d83155b4",
   "metadata": {},
   "outputs": [
    {
     "data": {
      "image/png": "[encoded data removed]",
      "text/plain": [
       "<Figure size 576x720 with 3 Axes>"
      ]
     },
     "metadata": {
      "needs_background": "light"
     },
     "output_type": "display_data"
    }
   ],
   "source": [
    "# Set up subplots for distance_to_frequent_location\n",
    "fig, axes = plt.subplots(nrows=3, ncols=1, figsize=(8, 10))\n",
    "\n",
    "# Boxplot for 'distance_to_frequent_location'\n",
    "sns.boxplot(x='client_decision', y='distance_to_frequent_location', data=df, ax=axes[0])\n",
    "axes[0].set_title('Boxplot for distance_to_frequent_location')\n",
    "\n",
    "# Boxplot for 'device_age_days'\n",
    "sns.boxplot(x='client_decision', y='device_age_days', data=df, ax=axes[1])\n",
    "axes[1].set_title('Boxplot for device_age_days')\n",
    "\n",
    "# Boxplot for 'transaction_value'\n",
    "sns.boxplot(x='client_decision', y='transaction_value', data=df, ax=axes[2])\n",
    "axes[2].set_title('Boxplot for transaction_value')\n",
    "\n",
    "# Adjust layout\n",
    "plt.tight_layout()\n",
    "\n",
    "# Show the plots\n",
    "plt.show()\n"
   ]
  },
  {
   "cell_type": "markdown",
   "id": "7b24517d",
   "metadata": {},
   "source": [
    "We can see that the client decision probably didn't take into considerartion this variable, as the distribution is the same for both decisions"
   ]
  },
  {
   "cell_type": "markdown",
   "id": "07f8bf10",
   "metadata": {},
   "source": [
    "### Distribution of devices per account and accounts per device.\n"
   ]
  },
  {
   "cell_type": "markdown",
   "id": "30485d6f",
   "metadata": {},
   "source": [
    "#### Devices per account\n",
    "\n",
    "Explore the distribution of the number of devices associated with each account."
   ]
  },
  {
   "cell_type": "code",
   "execution_count": 524,
   "id": "06385ba6",
   "metadata": {},
   "outputs": [],
   "source": [
    "devices_per_account= df.groupby('account_id')['device_id'].nunique().reset_index(name='different_devices')\n",
    "devices_per_account.sort_values(by='different_devices', ascending=False, inplace=True)"
   ]
  },
  {
   "cell_type": "code",
   "execution_count": 525,
   "id": "c26659f3",
   "metadata": {},
   "outputs": [
    {
     "data": {
      "text/html": [
       "<div>\n",
       "<style scoped>\n",
       "    .dataframe tbody tr th:only-of-type {\n",
       "        vertical-align: middle;\n",
       "    }\n",
       "\n",
       "    .dataframe tbody tr th {\n",
       "        vertical-align: top;\n",
       "    }\n",
       "\n",
       "    .dataframe thead th {\n",
       "        text-align: right;\n",
       "    }\n",
       "</style>\n",
       "<table border=\"1\" class=\"dataframe\">\n",
       "  <thead>\n",
       "    <tr style=\"text-align: right;\">\n",
       "      <th></th>\n",
       "      <th>account_id</th>\n",
       "      <th>different_devices</th>\n",
       "    </tr>\n",
       "  </thead>\n",
       "  <tbody>\n",
       "    <tr>\n",
       "      <th>406132</th>\n",
       "      <td>985008959</td>\n",
       "      <td>2</td>\n",
       "    </tr>\n",
       "    <tr>\n",
       "      <th>270671</th>\n",
       "      <td>348774503</td>\n",
       "      <td>2</td>\n",
       "    </tr>\n",
       "    <tr>\n",
       "      <th>338296</th>\n",
       "      <td>665706752</td>\n",
       "      <td>2</td>\n",
       "    </tr>\n",
       "    <tr>\n",
       "      <th>60423</th>\n",
       "      <td>1286670263</td>\n",
       "      <td>2</td>\n",
       "    </tr>\n",
       "    <tr>\n",
       "      <th>168791</th>\n",
       "      <td>1800707705</td>\n",
       "      <td>2</td>\n",
       "    </tr>\n",
       "    <tr>\n",
       "      <th>...</th>\n",
       "      <td>...</td>\n",
       "      <td>...</td>\n",
       "    </tr>\n",
       "    <tr>\n",
       "      <th>136420</th>\n",
       "      <td>1647147959</td>\n",
       "      <td>1</td>\n",
       "    </tr>\n",
       "    <tr>\n",
       "      <th>136419</th>\n",
       "      <td>1647146436</td>\n",
       "      <td>1</td>\n",
       "    </tr>\n",
       "    <tr>\n",
       "      <th>136418</th>\n",
       "      <td>1647142366</td>\n",
       "      <td>1</td>\n",
       "    </tr>\n",
       "    <tr>\n",
       "      <th>136417</th>\n",
       "      <td>1647134391</td>\n",
       "      <td>1</td>\n",
       "    </tr>\n",
       "    <tr>\n",
       "      <th>409256</th>\n",
       "      <td>999999193</td>\n",
       "      <td>1</td>\n",
       "    </tr>\n",
       "  </tbody>\n",
       "</table>\n",
       "<p>409257 rows × 2 columns</p>\n",
       "</div>"
      ],
      "text/plain": [
       "        account_id  different_devices\n",
       "406132   985008959                  2\n",
       "270671   348774503                  2\n",
       "338296   665706752                  2\n",
       "60423   1286670263                  2\n",
       "168791  1800707705                  2\n",
       "...            ...                ...\n",
       "136420  1647147959                  1\n",
       "136419  1647146436                  1\n",
       "136418  1647142366                  1\n",
       "136417  1647134391                  1\n",
       "409256   999999193                  1\n",
       "\n",
       "[409257 rows x 2 columns]"
      ]
     },
     "execution_count": 525,
     "metadata": {},
     "output_type": "execute_result"
    }
   ],
   "source": [
    "devices_per_account"
   ]
  },
  {
   "cell_type": "raw",
   "id": "a19d1a8a",
   "metadata": {},
   "source": [
    "Each account has at most two associated devices, showing device Consistency! Having a consistent number of devices per account (in this case, a maximum of two) can be considered normal behavior"
   ]
  },
  {
   "cell_type": "markdown",
   "id": "316a1f6b",
   "metadata": {},
   "source": [
    "### Accounts per device\n",
    "\n",
    "Investigate the distribution of the number of accounts associated with each device.\n"
   ]
  },
  {
   "cell_type": "code",
   "execution_count": 526,
   "id": "3a39793d",
   "metadata": {},
   "outputs": [],
   "source": [
    "account_counts_per_device = df.groupby('device_id')['account_id'].nunique().reset_index(name='different_accounts')\n",
    "account_counts_per_device.sort_values(by='different_accounts', ascending=False, inplace=True)"
   ]
  },
  {
   "cell_type": "code",
   "execution_count": 527,
   "id": "e5b16d04",
   "metadata": {},
   "outputs": [
    {
     "data": {
      "text/html": [
       "<div>\n",
       "<style scoped>\n",
       "    .dataframe tbody tr th:only-of-type {\n",
       "        vertical-align: middle;\n",
       "    }\n",
       "\n",
       "    .dataframe tbody tr th {\n",
       "        vertical-align: top;\n",
       "    }\n",
       "\n",
       "    .dataframe thead th {\n",
       "        text-align: right;\n",
       "    }\n",
       "</style>\n",
       "<table border=\"1\" class=\"dataframe\">\n",
       "  <thead>\n",
       "    <tr style=\"text-align: right;\">\n",
       "      <th></th>\n",
       "      <th>device_id</th>\n",
       "      <th>different_accounts</th>\n",
       "    </tr>\n",
       "  </thead>\n",
       "  <tbody>\n",
       "    <tr>\n",
       "      <th>16076</th>\n",
       "      <td>1096249526</td>\n",
       "      <td>213</td>\n",
       "    </tr>\n",
       "    <tr>\n",
       "      <th>204359</th>\n",
       "      <td>295633568</td>\n",
       "      <td>94</td>\n",
       "    </tr>\n",
       "    <tr>\n",
       "      <th>91024</th>\n",
       "      <td>1546773582</td>\n",
       "      <td>91</td>\n",
       "    </tr>\n",
       "    <tr>\n",
       "      <th>215015</th>\n",
       "      <td>359248285</td>\n",
       "      <td>91</td>\n",
       "    </tr>\n",
       "    <tr>\n",
       "      <th>52767</th>\n",
       "      <td>1315671815</td>\n",
       "      <td>86</td>\n",
       "    </tr>\n",
       "    <tr>\n",
       "      <th>...</th>\n",
       "      <td>...</td>\n",
       "      <td>...</td>\n",
       "    </tr>\n",
       "    <tr>\n",
       "      <th>113553</th>\n",
       "      <td>1681337980</td>\n",
       "      <td>1</td>\n",
       "    </tr>\n",
       "    <tr>\n",
       "      <th>113552</th>\n",
       "      <td>1681336227</td>\n",
       "      <td>1</td>\n",
       "    </tr>\n",
       "    <tr>\n",
       "      <th>113551</th>\n",
       "      <td>168131972</td>\n",
       "      <td>1</td>\n",
       "    </tr>\n",
       "    <tr>\n",
       "      <th>113549</th>\n",
       "      <td>1681317178</td>\n",
       "      <td>1</td>\n",
       "    </tr>\n",
       "    <tr>\n",
       "      <th>321403</th>\n",
       "      <td>999996640</td>\n",
       "      <td>1</td>\n",
       "    </tr>\n",
       "  </tbody>\n",
       "</table>\n",
       "<p>321404 rows × 2 columns</p>\n",
       "</div>"
      ],
      "text/plain": [
       "         device_id  different_accounts\n",
       "16076   1096249526                 213\n",
       "204359   295633568                  94\n",
       "91024   1546773582                  91\n",
       "215015   359248285                  91\n",
       "52767   1315671815                  86\n",
       "...            ...                 ...\n",
       "113553  1681337980                   1\n",
       "113552  1681336227                   1\n",
       "113551   168131972                   1\n",
       "113549  1681317178                   1\n",
       "321403   999996640                   1\n",
       "\n",
       "[321404 rows x 2 columns]"
      ]
     },
     "execution_count": 527,
     "metadata": {},
     "output_type": "execute_result"
    }
   ],
   "source": [
    "account_counts_per_device"
   ]
  },
  {
   "cell_type": "markdown",
   "id": "47bb2ed8",
   "metadata": {},
   "source": [
    "Devices with a high count of different accounts may indicate popular or frequently shared devices. Investigate the reasons behind this behavior. It could be shared devices in public spaces, family devices, or devices with multiple users.\n",
    "\n",
    "Those high counts might be a signal of suspicious activities, such as devices associated with a large number of accounts. Further investigation may be needed to identify potential fraud or security risks.\n",
    "\n",
    "We can think about adding another authenticathor steps with those devices.\n",
    "\n",
    "We also can look into the types of devices that have a high number of different accounts: understanding the device types can provide insights into user behaviors and preferences."
   ]
  },
  {
   "cell_type": "markdown",
   "id": "8d6d8bfb",
   "metadata": {},
   "source": [
    "# Part 2 - Fraud Risk Classification Rules\n",
    "\n",
    "Based on your findings from the descriptive analysis, develop a set of rules to classify transactions into high, medium, and low risk of fraud\n",
    "\n",
    "    ■ Define clear criteria and thresholds for each risk category\n",
    "    ■ Explain the rationale behind each rule and how it contributes to fraud risk assessment."
   ]
  },
  {
   "cell_type": "markdown",
   "id": "da9a666e",
   "metadata": {},
   "source": [
    "## Fraud Risk Classification Rules"
   ]
  },
  {
   "cell_type": "markdown",
   "id": "778a1ac7",
   "metadata": {},
   "source": [
    "### Criteria and thresholds\n",
    "\n",
    "Based on the descriptive analysis before we need to use our variables to define criteria and thresholds that can help classify transactions into different risk categories"
   ]
  },
  {
   "cell_type": "markdown",
   "id": "a1843c26",
   "metadata": {},
   "source": [
    "We established thresholds for key variables that indicate different levels of risk. These transaction value thresholds were defined from statistical percentiles and were based on the 3 numerical variables:\n",
    "\n",
    "        transaction_value: \n",
    "        distance_to_frequent_location\n",
    "        device_age_days\n",
    "\n",
    "The thresholds are:\n",
    "\n",
    "        - Low Risk: Transactions with values below the 50th percentile were categorized as low risk\n",
    "        - Medium Risk: Transactions with values below the 75th percentile were categorized as \n",
    "        medium risk\n",
    "        - High Risk: Transactions with values exceeding the 95th percentile were categorized as\n",
    "        high risk"
   ]
  },
  {
   "cell_type": "code",
   "execution_count": 528,
   "id": "f775427a",
   "metadata": {},
   "outputs": [],
   "source": [
    "# Define thresholds for each variable\n",
    "low_risk_threshold_tv = df['transaction_value'].quantile(0.50)\n",
    "medium_risk_threshold_tv = df['transaction_value'].quantile(0.75)\n",
    "high_risk_threshold_tv = df['transaction_value'].quantile(0.95)\n",
    "\n",
    "low_risk_threshold_dl = df['distance_to_frequent_location'].quantile(0.25)\n",
    "medium_risk_threshold_dl = df['distance_to_frequent_location'].quantile(0.75)\n",
    "high_risk_threshold_dl = df['distance_to_frequent_location'].quantile(0.95)\n",
    "\n",
    "low_risk_threshold_da = df['device_age_days'].quantile(0.25)\n",
    "medium_risk_threshold_da = df['device_age_days'].quantile(0.75)\n",
    "high_risk_threshold_da = df['device_age_days'].quantile(0.95)"
   ]
  },
  {
   "cell_type": "markdown",
   "id": "050e0478",
   "metadata": {},
   "source": [
    "### Define Risk Categories\n",
    "\n",
    "- Low-Risk:\n",
    "Indicate a transaction that has a low risk to be fraudulent\n",
    "\n",
    "\n",
    "- Medium-Risk:\n",
    "Indicate a transaction with moderate fraud risk\n",
    "\n",
    "- High Risk:\n",
    "Indicate a transaction is highly likely to be fraudulent\n"
   ]
  },
  {
   "cell_type": "markdown",
   "id": "f064af80",
   "metadata": {},
   "source": [
    "\n",
    "### Define Fraud Risk Categorization Rules\n",
    "\n",
    "We've implemented a set of intelligent rules designed to categorize transactions based on their risk levels. \n",
    "\n",
    "*  Device Characteristics\n",
    "\n",
    "Transactions originating from emulators, tampered apps, or devices with no root permissions are immediately identified as high risk\n",
    "\n",
    "*  Transaction Value Thresholds\n",
    "\n",
    "Low Risk: Transactions with values below the 50th percentile are classified as low risk.\n",
    "Medium Risk: Values between the 50th and 75th percentiles fall into the medium-risk category.\n",
    "High Risk: Transactions exceeding the 95th percentile are flagged as high risk.\n",
    "\n",
    "\n",
    "*  Distance to Frequent Location\n",
    "    \n",
    "Low Risk: Devices with distances below the 50th percentiles are categorized as low-risk  \n",
    "High Risk: Transactions with distances exceeding the 95th percentile are categorized as high risk\n",
    "Medium Risk: Devices with distances between the 75th and 95th percentiles are categorized as medium-risk  \n",
    "\n",
    "*  Device Age*\n",
    "\n",
    "Low Risk: Transactions from devices with age below the 50th percentiles are categorized as low-risk  \n",
    "High Risk: Transactions from devices with age beyond the 95th percentile are marked as high risk.\n",
    "Medium Risk: Devices with ages between the 75th and 95th percentiles fall into the medium-risk category"
   ]
  },
  {
   "cell_type": "markdown",
   "id": "6e7d163c",
   "metadata": {},
   "source": [
    "# Part 3 - Evaluation of Classification Rules\n",
    "\n",
    "Consider the following:\n",
    "\n",
    "    ■ Propose a new decision flow based on the risk assessments obtained from the proposed set of rules, i.e., what to do when the transaction is classified as high, medium, or low risk\n",
    "    ■ Apply your proposed rules to the Transaction Events dataset and classify transactions.\n",
    "    ■ Present the final risk assessment distribution and assess the assertiveness of your rules by comparing the classification results with the Fraud Transactions dataset.\n",
    "    ■ Evaluate the impact of the obtained risk assessments on user experience,considering factors such as transaction approval rate and false positives/negatives.\n",
    "    ■ Estimate the financial impact of the obtained risk assessments distribution by comparing the current and new decision flows in terms of costs, revenue, and loses."
   ]
  },
  {
   "cell_type": "markdown",
   "id": "c08d3fc9",
   "metadata": {},
   "source": [
    "## Evaluation of Classification Rules"
   ]
  },
  {
   "cell_type": "markdown",
   "id": "64743d9d",
   "metadata": {},
   "source": [
    "### New decision flow"
   ]
  },
  {
   "cell_type": "markdown",
   "id": "7b216c2d",
   "metadata": {},
   "source": [
    "We've introduced a dynamic decision-making flow that leverages advanced fraud risk categorization. This approach allows us to make real-time, informed decisions regarding the approval or denial of transactions, ensuring a more secure and trustworthy digital environment.\n",
    "\n",
    "1. Fraud Risk Assessment and Categorization into Risk Levels\n",
    "\n",
    "    - Each transaction undergoes a fraud risk assessment, considering various factors such as transaction value, device characteristics, and other relevant parameters\n",
    "    - Then the transactions are intelligently categorized into three risk levels: Low, Medium, and High, based on a combination of quantitative thresholds and device-specific criteria.\n",
    "\n",
    "2. Decision Assignment\n",
    "\n",
    "    Our system automatically assigns a new decision status to each transaction, streamlining the approval or denial process.\n",
    "\n",
    "    - High-Risk Transactions: Transactions identified as high risk are promptly marked as 'DENIED,' triggering a proactive response to potential fraudulent activities.\n",
    "    - Low and Medium-Risk Transactions: Legitimate transactions falling within low and medium-risk categories are labeled as 'APPROVED,' ensuring a seamless and frictionless experience for genuine users.\n"
   ]
  },
  {
   "cell_type": "markdown",
   "id": "9886254f",
   "metadata": {},
   "source": [
    "### Apply the proposed rules to the Transaction Events dataset"
   ]
  },
  {
   "cell_type": "code",
   "execution_count": 529,
   "id": "4961e206",
   "metadata": {},
   "outputs": [],
   "source": [
    "# Create a combined risk category based\n",
    "df['fraud_risk'] = 'Low'\n",
    "\n",
    "# Additional criteria for high risk based on device characteristics\n",
    "high_risk_emulator_condition = \n",
    "(df['is_emulator'] == True) & (df['app_is_tampered'] == True) & (df['has_root_permissions'] == False)\n",
    "df.loc[high_risk_emulator_condition, 'fraud_risk'] = 'High'\n",
    "\n",
    "# Criteria for high risk based on other variables\n",
    "df.loc[df['transaction_value'] > high_risk_threshold_tv, 'fraud_risk'] = 'High'\n",
    "df.loc[df['distance_to_frequent_location'] > high_risk_threshold_dl, 'fraud_risk'] = 'High'\n",
    "df.loc[df['device_age_days'] > high_risk_threshold_da, 'fraud_risk'] = 'High'\n",
    "\n",
    "# Criteria for medium risk based on other variables\n",
    "df.loc[(df['transaction_value'] > medium_risk_threshold_tv) & (df['fraud_risk'] == 'Low'), 'fraud_risk'] = 'Medium'\n",
    "df.loc[(df['distance_to_frequent_location'] > medium_risk_threshold_dl) & (df['fraud_risk'] == 'Low'), 'fraud_risk'] =\n",
    "'Medium'\n",
    "df.loc[(df['device_age_days'] > medium_risk_threshold_da) & (df['fraud_risk'] == 'Low'), 'fraud_risk'] = 'Medium'"
   ]
  },
  {
   "cell_type": "code",
   "execution_count": 530,
   "id": "8b6af49f",
   "metadata": {},
   "outputs": [
    {
     "name": "stdout",
     "output_type": "stream",
     "text": [
      "Medium   43.93\n",
      "Low      42.24\n",
      "High     13.84\n",
      "Name: fraud_risk, dtype: float64\n"
     ]
    },
    {
     "data": {
      "image/png": "[encoded data removed]",
      "text/plain": [
       "<Figure size 432x288 with 1 Axes>"
      ]
     },
     "metadata": {
      "needs_background": "light"
     },
     "output_type": "display_data"
    }
   ],
   "source": [
    "# How many transactions in each fraud risk\n",
    "risk_counts = df['fraud_risk'].value_counts()/len(df.index)*100\n",
    "print(risk_counts)\n",
    "\n",
    "# Specify the order of the bars\n",
    "order = ['Low', 'Medium', 'High']\n",
    "\n",
    "# Plotting the bar graph\n",
    "risk_counts[order].plot(kind='bar', color='purple')\n",
    "plt.title('Fraud Risk Distribution')\n",
    "plt.xlabel('Fraud Risk')\n",
    "plt.ylabel('Percentage')\n",
    "plt.xticks(rotation=0)\n",
    "plt.show()"
   ]
  },
  {
   "cell_type": "markdown",
   "id": "187b5bbf",
   "metadata": {},
   "source": [
    "The percentages represent the distribution of transactions across these risk levels. The higher the fraud risk level, the more cautious we need to be.\n",
    "\n",
    "Transactions labeled as 'High' risk constitute 13.84% of the total. This category indicates a significantly elevated risk of fraudulent activity based on various factors such as transaction value, device characteristics, and other relevant criteria.\n",
    "\n",
    "Our fraud prevention strategy is designed to achieve a harmony between preserving a smooth user experience for genuine transactions ('Low' and 'Medium' risk) and promptly addressing potential fraud ('High' risk). By declining transactions in the 'High' risk category, we prioritize security, responding swiftly to mitigate risks linked to suspicious activities\n",
    "\n",
    "To prioritize the security and integrity of our system, we recommend denying all transactions categorized as 'High' risk. This proactive approach helps us minimize the potential impact of fraudulent activities, protecting both our users and the overall integrity of our platform."
   ]
  },
  {
   "cell_type": "code",
   "execution_count": 531,
   "id": "192d38f2",
   "metadata": {},
   "outputs": [
    {
     "data": {
      "text/plain": [
       "86.16"
      ]
     },
     "execution_count": 531,
     "metadata": {},
     "output_type": "execute_result"
    }
   ],
   "source": [
    "100-13.84"
   ]
  },
  {
   "cell_type": "markdown",
   "id": "44860f4b",
   "metadata": {},
   "source": [
    "If we do this decision Assignment, we can see that we would have approved 86.16% of the transactions, which is a good thing because it is a much higher approval rate than before (using the client_decision). A high approval rate indicates that the majority of transactions are considered legitimate.\n",
    "\n",
    "As said before, an approval rate above 90% is considered good, but it can vary. As this is our first efforts, we can consider that the 86.16% rate is good as well but we can set more challenging goals for the approval rate as we continue to improve our rules."
   ]
  },
  {
   "cell_type": "markdown",
   "id": "75ab1ad1",
   "metadata": {},
   "source": [
    "### Classify transactions with the new decision flow"
   ]
  },
  {
   "cell_type": "markdown",
   "id": "27847571",
   "metadata": {},
   "source": [
    "Let's create a column new_decision on our dataframe, based on our frauk risk catagory. We will deny all transactions labeled as \"High\" and approve the others."
   ]
  },
  {
   "cell_type": "code",
   "execution_count": 532,
   "id": "c0486df4",
   "metadata": {},
   "outputs": [],
   "source": [
    "df['new_decision'] = np.where(df['fraud_risk'] == 'High', 'DENIED', 'APPROVED')"
   ]
  },
  {
   "cell_type": "code",
   "execution_count": 533,
   "id": "4bf2eefd",
   "metadata": {
    "scrolled": true
   },
   "outputs": [
    {
     "data": {
      "text/plain": [
       "APPROVED   86.16\n",
       "DENIED     13.84\n",
       "Name: new_decision, dtype: float64"
      ]
     },
     "execution_count": 533,
     "metadata": {},
     "output_type": "execute_result"
    }
   ],
   "source": [
    "df['new_decision'].value_counts()/len(df.index)*100"
   ]
  },
  {
   "cell_type": "markdown",
   "id": "5c68137d",
   "metadata": {},
   "source": [
    "### 2.4 Validation using Fraud Dataset\n",
    "\n",
    "Validate the effectiveness of the defined rules on the fraud dataset"
   ]
  },
  {
   "cell_type": "code",
   "execution_count": 534,
   "id": "0c5def7b",
   "metadata": {},
   "outputs": [],
   "source": [
    "# Create a variable fraud\n",
    "df['fraud'] = np.where(df['transaction_id'].isin(fraud['transaction_id']), 1, 0)"
   ]
  },
  {
   "cell_type": "code",
   "execution_count": 535,
   "id": "1a4d26a2",
   "metadata": {},
   "outputs": [
    {
     "name": "stdout",
     "output_type": "stream",
     "text": [
      "0    366887\n",
      "1     42401\n",
      "Name: fraud, dtype: int64\n",
      "0   89.64\n",
      "1   10.36\n",
      "Name: fraud, dtype: float64\n"
     ]
    }
   ],
   "source": [
    "# Exploring fraud\n",
    "print(df['fraud'].value_counts())\n",
    "\n",
    "print(df['fraud'].value_counts()/len(df.index)*100)"
   ]
  },
  {
   "cell_type": "markdown",
   "id": "c16dda41",
   "metadata": {},
   "source": [
    "Our fraud rate was 10.36 based on our client_decision"
   ]
  },
  {
   "cell_type": "code",
   "execution_count": 536,
   "id": "4c796da5",
   "metadata": {},
   "outputs": [
    {
     "data": {
      "text/html": [
       "<div>\n",
       "<style scoped>\n",
       "    .dataframe tbody tr th:only-of-type {\n",
       "        vertical-align: middle;\n",
       "    }\n",
       "\n",
       "    .dataframe tbody tr th {\n",
       "        vertical-align: top;\n",
       "    }\n",
       "\n",
       "    .dataframe thead th {\n",
       "        text-align: right;\n",
       "    }\n",
       "</style>\n",
       "<table border=\"1\" class=\"dataframe\">\n",
       "  <thead>\n",
       "    <tr style=\"text-align: right;\">\n",
       "      <th></th>\n",
       "      <th>transaction_id</th>\n",
       "    </tr>\n",
       "  </thead>\n",
       "  <tbody>\n",
       "    <tr>\n",
       "      <th>6905</th>\n",
       "      <td>1d423f90-d8a9</td>\n",
       "    </tr>\n",
       "    <tr>\n",
       "      <th>11197</th>\n",
       "      <td>b6506d64-0a64</td>\n",
       "    </tr>\n",
       "    <tr>\n",
       "      <th>13440</th>\n",
       "      <td>4b295382-3ac7</td>\n",
       "    </tr>\n",
       "    <tr>\n",
       "      <th>13441</th>\n",
       "      <td>4b295382-3ac7</td>\n",
       "    </tr>\n",
       "    <tr>\n",
       "      <th>18209</th>\n",
       "      <td>2d47735f-4735</td>\n",
       "    </tr>\n",
       "    <tr>\n",
       "      <th>18210</th>\n",
       "      <td>2d47735f-4735</td>\n",
       "    </tr>\n",
       "  </tbody>\n",
       "</table>\n",
       "</div>"
      ],
      "text/plain": [
       "      transaction_id\n",
       "6905   1d423f90-d8a9\n",
       "11197  b6506d64-0a64\n",
       "13440  4b295382-3ac7\n",
       "13441  4b295382-3ac7\n",
       "18209  2d47735f-4735\n",
       "18210  2d47735f-4735"
      ]
     },
     "execution_count": 536,
     "metadata": {},
     "output_type": "execute_result"
    }
   ],
   "source": [
    "#Lets see if the transactions that were duplicate are present in the fraud dataframe\n",
    "fraud.loc[fraud['transaction_id'].isin(['4b295382-3ac7' ,'2d47735f-4735','b6506d64-0a64','1d423f90-d8a9'])]"
   ]
  },
  {
   "cell_type": "markdown",
   "id": "834f9d66",
   "metadata": {},
   "source": [
    "### Present the final risk assessment distribution and assess the assertiveness of your rules by comparing the classification results with the Fraud Transactions dataset"
   ]
  },
  {
   "cell_type": "code",
   "execution_count": 537,
   "id": "c2f3d141",
   "metadata": {},
   "outputs": [
    {
     "name": "stdout",
     "output_type": "stream",
     "text": [
      "fraud_risk   Low  Medium  High\n",
      "fraud                         \n",
      "0          44.42   45.45 10.12\n",
      "1          23.30   30.74 45.96\n"
     ]
    },
    {
     "data": {
      "text/plain": [
       "<Figure size 864x432 with 0 Axes>"
      ]
     },
     "metadata": {},
     "output_type": "display_data"
    },
    {
     "data": {
      "image/png": "[encoded data removed]",
      "text/plain": [
       "<Figure size 432x288 with 1 Axes>"
      ]
     },
     "metadata": {
      "needs_background": "light"
     },
     "output_type": "display_data"
    }
   ],
   "source": [
    "plt.figure(figsize=(12, 6))\n",
    "\n",
    "cross_tab = pd.crosstab(df['fraud'], df['fraud_risk'], dropna=False)\n",
    "\n",
    "# Normalize along the columns to get proportions\n",
    "normalized_cross_tab = cross_tab.div(cross_tab.sum(axis=1), axis=0) * 100\n",
    "\n",
    "# Specify the order of columns\n",
    "order = ['Low', 'Medium', 'High']\n",
    "\n",
    "# Rearrange columns\n",
    "normalized_cross_tab = normalized_cross_tab[order]\n",
    "print(normalized_cross_tab)\n",
    "# Plot 100% stacked bar chart\n",
    "normalized_cross_tab.plot(kind='bar', stacked=True, color=['thistle', 'violet', 'indigo'])\n",
    "plt.title('Actual vs. Predicted Fraud Transactions')\n",
    "plt.xlabel('Actual Fraud Status')\n",
    "plt.ylabel('Percentage of Transactions')\n",
    "plt.show()\n"
   ]
  },
  {
   "cell_type": "markdown",
   "id": "dcf826cd",
   "metadata": {},
   "source": [
    "This chart show us how we would have predicted the fraud risk categories (Low, Medium, High) and the actual fraud status (Fraud, Non-Fraud).\n",
    "\n",
    "We have the majority of the fraudulent transactions correctly classified as High risk and the majority of the non fraudulent transactions are classified as low or medium risks! \n",
    "\n",
    "Lets take a look at the Confusion Matrix so we can see the false positives and false negatives as well"
   ]
  },
  {
   "cell_type": "markdown",
   "id": "43b55572",
   "metadata": {},
   "source": [
    "# CONFUSION MATRIX\n",
    "\n",
    "First we will plot the confusion matrix for our Client Decision"
   ]
  },
  {
   "cell_type": "code",
   "execution_count": 538,
   "id": "5a725c9b",
   "metadata": {},
   "outputs": [
    {
     "data": {
      "image/png": "[encoded data removed]",
      "text/plain": [
       "<Figure size 1152x432 with 2 Axes>"
      ]
     },
     "metadata": {
      "needs_background": "light"
     },
     "output_type": "display_data"
    }
   ],
   "source": [
    "# Confusion matrix for client_decision\n",
    "df['client_decision_num'] = df['client_decision'].map({'approved': 0, 'denied': 1})\n",
    "\n",
    "# Calculate confusion matrix (Counts)\n",
    "conf_matrix_counts = confusion_matrix(df['fraud'], df['client_decision_num'])\n",
    "\n",
    "# Convert confusion matrix to a DataFrame for better visualization\n",
    "conf_matrix_df_counts = pd.DataFrame(conf_matrix_counts, index=['Not Fraud', 'Fraud'], columns=['APPROVED', 'DENIED'])\n",
    "\n",
    "# Calculate confusion matrix as percentages\n",
    "conf_matrix_percent = confusion_matrix(df['fraud'], df['client_decision_num'], normalize='all') * 100\n",
    "\n",
    "# Convert confusion matrix to a DataFrame for better visualization\n",
    "conf_matrix_df_percent = pd.DataFrame(conf_matrix_percent, index=['Not Fraud', 'Fraud'], columns=['APPROVED', 'DENIED'])\n",
    "\n",
    "# Create subplots\n",
    "fig, axes = plt.subplots(1, 2, figsize=(16, 6))\n",
    "\n",
    "# Plot the confusion matrix (Counts)\n",
    "sns.heatmap(conf_matrix_df_counts, annot=True, fmt='g', cmap='BuPu', cbar=False, ax=axes[0],annot_kws={'size': 20})\n",
    "axes[0].set_title('Confusion Matrix - Client Decision (Counts)')\n",
    "axes[0].set_xlabel('Predicted')\n",
    "axes[0].set_ylabel('Actual')\n",
    "\n",
    "# Plot the confusion matrix (Percentage)\n",
    "sns.heatmap(conf_matrix_df_percent, annot=True, fmt='.2f', cmap='BuPu', cbar=False, ax=axes[1],annot_kws={'size': 20})\n",
    "axes[1].set_title('Confusion Matrix - Client Decision (Percentage)')\n",
    "axes[1].set_xlabel('Predicted')\n",
    "axes[1].set_ylabel('Actual')\n",
    "\n",
    "plt.tight_layout()\n",
    "plt.show()\n"
   ]
  },
  {
   "cell_type": "code",
   "execution_count": 539,
   "id": "37554b6a",
   "metadata": {},
   "outputs": [
    {
     "data": {
      "image/png": "[encoded data removed]",
      "text/plain": [
       "<Figure size 1152x432 with 2 Axes>"
      ]
     },
     "metadata": {
      "needs_background": "light"
     },
     "output_type": "display_data"
    }
   ],
   "source": [
    "# Confusion matrix for new_decision\n",
    "df['new_decision_num'] = df['new_decision'].map({'APPROVED': 0, 'DENIED': 1})\n",
    "\n",
    "# Calculate confusion matrix (counts)\n",
    "conf_matrix_counts_new = confusion_matrix(df['fraud'], df['new_decision_num'])\n",
    "\n",
    "# Convert confusion matrix to a DataFrame for better visualization\n",
    "conf_matrix_df_counts_new = pd.DataFrame(conf_matrix_counts_new, index=['Not Fraud', 'Fraud'], columns=['APPROVED', 'DENIED'])\n",
    "\n",
    "\n",
    "# Calculate confusion matrix as percentages\n",
    "conf_matrix_percent_new = confusion_matrix(df['fraud'], df['new_decision_num'], normalize='all') * 100\n",
    "\n",
    "# Convert confusion matrix to a DataFrame for better visualization\n",
    "conf_matrix_df_percent_new = pd.DataFrame(conf_matrix_percent_new, index=['Not Fraud', 'Fraud'], columns=['APPROVED', 'DENIED'])\n",
    "\n",
    "# Create subplots\n",
    "fig, axes = plt.subplots(1, 2, figsize=(16, 6))\n",
    "\n",
    "# Plot the confusion matrix (Counts)\n",
    "sns.heatmap(conf_matrix_df_counts_new, annot=True, fmt='g', cmap='BuPu', cbar=False, ax=axes[0],annot_kws={'size': 20})\n",
    "axes[0].set_title('Confusion Matrix - New Decision (Counts)')\n",
    "axes[0].set_xlabel('Predicted')\n",
    "axes[0].set_ylabel('Actual')\n",
    "\n",
    "\n",
    "# Plot the confusion matrix (Percentage)\n",
    "sns.heatmap(conf_matrix_df_percent_new, annot=True, fmt='.2f', cmap='BuPu', cbar=False, ax=axes[1],annot_kws={'size': 20})\n",
    "axes[1].set_title('Confusion Matrix - New Decision (Percentage)')\n",
    "axes[1].set_xlabel('Predicted')\n",
    "axes[1].set_ylabel('Actual')\n",
    "\n",
    "plt.tight_layout()\n",
    "plt.show()\n"
   ]
  },
  {
   "cell_type": "markdown",
   "id": "bf1117ef",
   "metadata": {},
   "source": [
    "True Positives (DENIED for Fraud): Fraud correctly predicted as Fraud\n",
    "\n",
    "    Client decision: 14,964 (3.66%) \n",
    "    New decision: 19,489 (4.76%).\n",
    "\n",
    "False Negatives (APPROVED for Fraud): Fraud incorrectly predicted as Non-Fraud\n",
    "\n",
    "    Client decision: 27,437 (6.70%)\n",
    "    New decision: 22,912 (5.60%)\n",
    "    \n",
    "True Negatives (APPROVED for Not Fraud): Non-Fraud correctly predicted as Non-Fraud\n",
    "\n",
    "    Client decision: 238,219 (58.20)\n",
    "    New decision: 329,751 (80.57%)\n",
    "\n",
    "False Positives (DENIED for Not Fraud): Non-Fraud incorrectly predicted as Fraud\n",
    "\n",
    "    Client decision: 128,668 (31.44%)\n",
    "    New decision: 37,136 (9.07%)"
   ]
  },
  {
   "cell_type": "markdown",
   "id": "5dfb7c4a",
   "metadata": {},
   "source": [
    "The new decision has:\n",
    "- a slight higher rate of correctly identifying fraud cases and denying them compared to the client decision.\n",
    "\n",
    "- a lower rate of incorrectly approving fraud cases compared to the client decision.\n",
    "\n",
    "- a significantly higher rate of correctly identifying non-fraud cases and approving them compared to the client decision.\n",
    "\n",
    "- a much lower rate of incorrectly denying non-fraud cases compared to the client decision.\n",
    "\n",
    "Theew decision seems to outperform the client decision in terms of accurately identifying both fraud and non-fraud cases, resulting in a more effective fraud detection system."
   ]
  },
  {
   "cell_type": "markdown",
   "id": "8adeb041",
   "metadata": {},
   "source": [
    "### Evaluate the impact of the obtained risk assessments on user experience,considering factors such as transaction approval rate and false positives/negatives."
   ]
  },
  {
   "cell_type": "code",
   "execution_count": 540,
   "id": "ff49eba3",
   "metadata": {},
   "outputs": [
    {
     "name": "stdout",
     "output_type": "stream",
     "text": [
      "Transaction Approval Rate by Count:\n",
      "\n",
      "Client Decision:\n",
      " approved   64.91\n",
      "denied     35.09\n",
      "Name: client_decision, dtype: float64\n",
      "\n",
      "New Decision:\n",
      " APPROVED   86.16\n",
      "DENIED     13.84\n",
      "Name: new_decision, dtype: float64\n"
     ]
    }
   ],
   "source": [
    "# Calculate transaction approval rate for each decision\n",
    "client_decision_approval_rate = df['client_decision'].value_counts(normalize=True) * 100\n",
    "new_decision_approval_rate = df['new_decision'].value_counts(normalize=True) * 100\n",
    "\n",
    "print(\"Transaction Approval Rate by Count:\\n\")\n",
    "print(\"Client Decision:\\n\", client_decision_approval_rate)\n",
    "print(\"\\nNew Decision:\\n\", new_decision_approval_rate)"
   ]
  },
  {
   "cell_type": "markdown",
   "id": "c26b96ef",
   "metadata": {},
   "source": [
    "Chargebacks occur when customers dispute a transaction, and they can be costly for businesses.\n",
    "It is usually calculated by the monetary value and only among the approved transactions.\n",
    "Benchmark: Chargeback rates are generally recommended to be below 1%, but it's crucial to balance it with approval rates."
   ]
  },
  {
   "cell_type": "code",
   "execution_count": 541,
   "id": "a9c4c1ed",
   "metadata": {},
   "outputs": [
    {
     "name": "stdout",
     "output_type": "stream",
     "text": [
      "\n",
      "Chargeback Rate by Transaction Values:\n",
      "\n",
      "Client Decision: 31.79%\n",
      "New Decision: 11.81%\n"
     ]
    }
   ],
   "source": [
    "# Calculate chargeback rates by transaction values for each decision\n",
    "client_decision_chargeback_rate = \n",
    "df.loc[(df['client_decision'] == 'approved') & (df['fraud'] == 1), 'transaction_value'].sum() /\n",
    "df.loc[df['client_decision'] == 'approved', 'transaction_value'].sum() * 100\n",
    "\n",
    "\n",
    "new_decision_chargeback_rate = \n",
    "df.loc[(df['new_decision'] == 'APPROVED') & (df['fraud'] == 1), 'transaction_value'].sum() / \n",
    "df.loc[df['new_decision'] == 'APPROVED', 'transaction_value'].sum() * 100\n",
    "\n",
    "print(\"\\nChargeback Rate by Transaction Values:\\n\")\n",
    "print(\"Client Decision: {:.2f}%\".format(client_decision_chargeback_rate))\n",
    "print(\"New Decision: {:.2f}%\".format(new_decision_chargeback_rate))\n"
   ]
  },
  {
   "cell_type": "markdown",
   "id": "d441c49c",
   "metadata": {},
   "source": [
    "For the original decision flow ('client_decision'), the approval rate for approved transactions was approximately 64.91%, while for the new decision flow ('new_decision'), the approval rate for approved transactions is significantly higher: 86.16%.\n",
    "\n",
    "The new decision flow has significantly increased the transaction approval rate, which is generally positive for user experience as more transactions are being approved.\n",
    "\n",
    "The chargeback rate for the original decision flow is 31.79%, while the chargeback rate for the new decision flow is lower: 11.81%. This indicates an improvement in managing high-risk transactions and reducing financial losses!\n",
    "\n",
    "Overall Impact and User Experience:\n",
    "\n",
    "The lower chargeback rate for the new decision flow suggests better risk management and a reduction in potentially fraudulent transactions, which is beneficial for financial gains and customer trust.\n"
   ]
  },
  {
   "cell_type": "markdown",
   "id": "a323c4a5",
   "metadata": {},
   "source": [
    "### Estimate the financial impact of the obtained risk assessments distribution by comparing the current and new decision flows in terms of costs, revenue, and loses."
   ]
  },
  {
   "cell_type": "code",
   "execution_count": 542,
   "id": "f5378e2f",
   "metadata": {},
   "outputs": [],
   "source": [
    "\n",
    "# Total Revenue\n",
    "total_client_decision_revenue = df[(df['client_decision'] == 'approved') & (df['fraud'] == 0)]['transaction_value'].sum()\n",
    "total_new_decision_revenue = df[(df['new_decision'] == 'APPROVED') & (df['fraud'] == 0)]['transaction_value'].sum()\n",
    "\n",
    "# Total Costs\n",
    "total_client_decision_costs = df[df['client_decision'] == 'denied']['transaction_value'].sum()\n",
    "total_new_decision_costs = df[df['new_decision'] == 'DENIED']['transaction_value'].sum()\n",
    "\n",
    "# Net Revenue\n",
    "net_client_decision_revenue = total_client_decision_revenue - total_client_decision_costs\n",
    "net_new_decision_revenue = total_new_decision_revenue - total_new_decision_costs\n",
    "\n",
    "# Chargeback Costs\n",
    "client_decision_chargeback_costs = total_client_decision_revenue * (client_decision_chargeback_rate / 100)\n",
    "new_decision_chargeback_costs = total_new_decision_revenue * (new_decision_chargeback_rate / 100)\n",
    "\n",
    "# False Positive Costs\n",
    "false_positive_client_decision_costs = total_client_decision_costs - client_decision_chargeback_costs\n",
    "false_positive_new_decision_costs = total_new_decision_costs - new_decision_chargeback_costs\n",
    "\n",
    "# True Positive Revenue\n",
    "true_positive_client_decision_revenue = total_client_decision_revenue - client_decision_chargeback_costs\n",
    "true_positive_new_decision_revenue = total_new_decision_revenue - new_decision_chargeback_costs\n",
    "\n",
    "# Print or visualize the results as needed\n"
   ]
  },
  {
   "cell_type": "code",
   "execution_count": 543,
   "id": "e2ed6b9a",
   "metadata": {},
   "outputs": [
    {
     "name": "stdout",
     "output_type": "stream",
     "text": [
      "Transaction Approval Rate by Count:\n",
      "\n",
      "Client Decision:\n",
      " approved   64.91\n",
      "denied     35.09\n",
      "Name: client_decision, dtype: float64\n",
      "\n",
      "New Decision:\n",
      " APPROVED   86.16\n",
      "DENIED     13.84\n",
      "Name: new_decision, dtype: float64\n",
      "\n",
      "Chargeback Rate by Transaction Values:\n",
      "Client Decision: 31.79%\n",
      "New Decision: 11.81%\n",
      "\n",
      "Total Revenue:\n",
      "Client Decision: 39535694.63\n",
      "New Decision: 46431931.20\n",
      "\n",
      "Total Costs:\n",
      "Client Decision: 31201296.62\n",
      "New Decision: 36509286.13\n",
      "\n",
      "Net Revenue:\n",
      "Client Decision: 8334398.01\n",
      "New Decision: 9922645.07\n",
      "\n",
      "Chargeback Costs:\n",
      "Client Decision: 12566936.32\n",
      "New Decision: 5484168.03\n",
      "\n",
      "False Positive Costs:\n",
      "Client Decision: 18634360.30\n",
      "New Decision: 31025118.10\n",
      "\n",
      "True Positive Revenue:\n",
      "Client Decision: 26968758.31\n",
      "New Decision: 40947763.17\n"
     ]
    }
   ],
   "source": [
    "# Transaction Approval Rate\n",
    "print(\"Transaction Approval Rate by Count:\\n\")\n",
    "print(\"Client Decision:\\n\", client_decision_approval_rate)\n",
    "print(\"\\nNew Decision:\\n\", new_decision_approval_rate)\n",
    "\n",
    "# Chargeback Rate by Transaction Values\n",
    "print(\"\\nChargeback Rate by Transaction Values:\")\n",
    "print(\"Client Decision: {:.2f}%\".format(client_decision_chargeback_rate))\n",
    "print(\"New Decision: {:.2f}%\".format(new_decision_chargeback_rate))\n",
    "\n",
    "# Total Revenue\n",
    "print(\"\\nTotal Revenue:\")\n",
    "print(\"Client Decision: {:.2f}\".format(total_client_decision_revenue))\n",
    "print(\"New Decision: {:.2f}\".format(total_new_decision_revenue))\n",
    "\n",
    "# Total Costs\n",
    "print(\"\\nTotal Costs:\")\n",
    "print(\"Client Decision: {:.2f}\".format(total_client_decision_costs))\n",
    "print(\"New Decision: {:.2f}\".format(total_new_decision_costs))\n",
    "\n",
    "# Net Revenue\n",
    "print(\"\\nNet Revenue:\")\n",
    "print(\"Client Decision: {:.2f}\".format(net_client_decision_revenue))\n",
    "print(\"New Decision: {:.2f}\".format(net_new_decision_revenue))\n",
    "\n",
    "# Chargeback Costs\n",
    "print(\"\\nChargeback Costs:\")\n",
    "print(\"Client Decision: {:.2f}\".format(client_decision_chargeback_costs))\n",
    "print(\"New Decision: {:.2f}\".format(new_decision_chargeback_costs))\n",
    "\n",
    "# False Positive Costs\n",
    "print(\"\\nFalse Positive Costs:\")\n",
    "print(\"Client Decision: {:.2f}\".format(false_positive_client_decision_costs))\n",
    "print(\"New Decision: {:.2f}\".format(false_positive_new_decision_costs))\n",
    "\n",
    "# True Positive Revenue\n",
    "print(\"\\nTrue Positive Revenue:\")\n",
    "print(\"Client Decision: {:.2f}\".format(true_positive_client_decision_revenue))\n",
    "print(\"New Decision: {:.2f}\".format(true_positive_new_decision_revenue))\n"
   ]
  },
  {
   "cell_type": "code",
   "execution_count": 544,
   "id": "70915a9a",
   "metadata": {},
   "outputs": [
    {
     "data": {
      "text/plain": [
       "19.056529960464097"
      ]
     },
     "execution_count": 544,
     "metadata": {},
     "output_type": "execute_result"
    }
   ],
   "source": [
    "#net revenue increase\n",
    "(net_new_decision_revenue/net_client_decision_revenue-1)*100"
   ]
  },
  {
   "cell_type": "markdown",
   "id": "33857854",
   "metadata": {},
   "source": [
    "We can see:\n",
    "\n",
    "- A significant increase in the approval rate with the new decision flow, with a higher percentage of transactions being approved. This can positively impact user experienc\n",
    "- The chargeback rate has significantly decreased with the new decision flow, suggesting improved fraud detection.\n",
    "\n",
    "- While the total costs have increased with the new decision (because we denied more transactions with high value), the net revenue has also increased, suggesting potential benefits in terms of overall financial performance! We are approving better transactions! Our net revenue increased 20%!\n",
    "\n",
    "In summary, the new decision flow shows promising results with improved fraud detection and increased revenue, but it's essential to consider the associated costs and trade-offs."
   ]
  },
  {
   "cell_type": "markdown",
   "id": "9cd0bbd0",
   "metadata": {},
   "source": [
    "# Part 4 - Recommendations and Conclusion\n",
    "\n",
    "    ■ Provide recommendations for optimizing the fraud detection process while minimizing the impact on user experience and maximizing financial gains.\n",
    "    ■ Summarize your findings and conclude the report with actionable insights for the Digital Bank Mobile App."
   ]
  },
  {
   "cell_type": "markdown",
   "id": "24e30be1",
   "metadata": {},
   "source": [
    "## Recommendations and Conclusion"
   ]
  },
  {
   "cell_type": "markdown",
   "id": "16ed81cd",
   "metadata": {},
   "source": [
    "Based on the analysis, here are some recommendations for optimizing the fraud detection process while minimizing the impact on user experience and maximizing financial gains:\n",
    "\n",
    "- Adjust Decision Thresholds: experiment different decision thresholds to find a balance between fraud detection and user experience. Fine-tune the thresholds for risk categories to achieve the desired approval rate and chargeback reduction.\n",
    "\n",
    "- Consider feature engineering or exploring additional data sources to improve model performance.\n",
    "\n",
    "\n",
    "- Implement a monitoring system to regularly assess the rules based decision performance. Continuously update the rules based on new data and emerging fraud patterns to maintain effectiveness.\n",
    "\n",
    "- Increase collaboration between fraud prevention teams, data scientists, and business stakeholders. Ensure that decisions align with both security objectives and overall business goals.\n",
    "\n",
    "- Explore real-time fraud detection methods to identify and prevent fraudulent transactions as they occur. This can enhance the responsiveness of the system and minimize losses.\n",
    "\n",
    "- Leverage advanced analytics techniques, such as anomaly detection and machine learning models, to detect sophisticated fraud patterns that may not be captured by traditional methods."
   ]
  },
  {
   "cell_type": "markdown",
   "id": "df68010a",
   "metadata": {},
   "source": [
    "The analysis of the Digital Bank Mobile App's fraud detection system revealed valuable insights into its performance, user experience impact, and financial implications. \n",
    "\n",
    "#### We can highlight:\n",
    "\n",
    "- The current fraud detection system exhibits a Transaction Approval Rate of 64.91%, with 35.09% of transactions being denied. The chargeback rate for denied transactions is 31.79%, resulting in significant financial implications.\n",
    "New Decision System Impact:\n",
    "\n",
    "- The proposed New Decision system, with an increased approval rate of 86.16%, demonstrates a notable reduction in chargeback rates to 11.81%. This shift positively influences both user experience and financial outcomes.\n",
    "Financial Implications:\n",
    "\n",
    "- The Net Revenue for the New Decision system is 29% higher, indicating a positive impact. However, False Positive Costs have increased, warranting a closer examination of the trade-offs between revenue gains, chargeback reductions, and false positive costs.\n",
    "\n",
    "Finding a balance between fraud prevention and user experience is essential. Experiment with decision thresholds, employ real-time detection, and leverage advanced analytics to identify and prevent sophisticated fraud patterns.\n",
    "\n",
    "#### Conclusion:\n",
    "The proposed New Decision system presents an opportunity to enhance financial gains and user experience. By carefully considering the trade-offs and implementing the outlined recommendations, the Digital Bank Mobile App can establish a robust and adaptive fraud detection system that aligns with business objectives.\n",
    "\n",
    "#### Actionable Insights:\n",
    "\n",
    "Implement the New Decision system with adjusted thresholds for optimal user experience and fraud prevention.\n",
    "Regularly monitor and update the model, incorporating advanced analytics for improved fraud detection.\n",
    "Establish a user feedback loop to address false positives and enhance the accuracy of the system.\n",
    "Conduct periodic cost-benefit analyses to ensure the financial impact aligns with business goals.\n",
    "Foster collaboration between fraud prevention teams, data scientists, and business stakeholders for informed decision-making.\n",
    "By incorporating these insights, the Digital Bank Mobile App can not only strengthen its fraud prevention capabilities but also elevate the overall user experience and financial performance.\n"
   ]
  }
 ],
 "metadata": {
  "kernelspec": {
   "display_name": "Python 3",
   "language": "python",
   "name": "python3"
  },
  "language_info": {
   "codemirror_mode": {
    "name": "ipython",
    "version": 3
   },
   "file_extension": ".py",
   "mimetype": "text/x-python",
   "name": "python",
   "nbconvert_exporter": "python",
   "pygments_lexer": "ipython3",
   "version": "3.8.8"
  },
  "toc": {
   "base_numbering": 1,
   "nav_menu": {},
   "number_sections": true,
   "sideBar": true,
   "skip_h1_title": true,
   "title_cell": "Table of Contents",
   "title_sidebar": "Contents",
   "toc_cell": false,
   "toc_position": {
    "height": "calc(100% - 180px)",
    "left": "10px",
    "top": "150px",
    "width": "280.332px"
   },
   "toc_section_display": true,
   "toc_window_display": false
  }
 },
 "nbformat": 4,
 "nbformat_minor": 5
}
