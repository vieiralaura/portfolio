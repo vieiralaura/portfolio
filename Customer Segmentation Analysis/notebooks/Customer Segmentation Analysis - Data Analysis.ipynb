{
 "cells": [
  {
   "cell_type": "markdown",
   "id": "e84c5ec6",
   "metadata": {
    "id": "e84c5ec6"
   },
   "source": [
    "# Customer Segmentation Analysis - Data Analysis\n",
    "\n",
    "# Part 1 - Marketing Campaign"
   ]
  },
  {
   "cell_type": "code",
   "execution_count": null,
   "id": "2e82ed7f",
   "metadata": {
    "id": "2e82ed7f"
   },
   "outputs": [],
   "source": [
    "#packages\n",
    "import pandas as pd\n",
    "import numpy as np\n",
    "import altair as alt\n",
    "alt.data_transformers.disable_max_rows()\n",
    "from scipy.stats import ttest_ind\n",
    "import matplotlib.pyplot as plt\n",
    "import seaborn as sns\n",
    "import pyperclip as pc"
   ]
  },
  {
   "cell_type": "markdown",
   "id": "c639107a",
   "metadata": {
    "id": "c639107a"
   },
   "source": [
    "# Loading and checking the data\n",
    "\n",
    "We have now our Analytical Base Table (ABT) that we will use to perform analysis for this first part. Some variables were created to help us:\n",
    "\n",
    "    - \"email\": Mail\" indicator, values of \"1\" indicate that a customer received a communcation, while no value indicates that the customer was not contacted (i.e. that the customer was in the \"Control\" group). The same as MilInd from the raw data, but now we will use it as a string\n",
    "\n",
    "    - \"spent\": how much ($) the user spent in our company, but we put 0 to all users that didnt buy anything\n",
    "\n",
    "    - \"shopper\": indicates whether or not the user made a purchase\n",
    "\n",
    "    - \"negative\": whether the user has negative value for \"spent\" or not (it is weird that some users have it so we will try to understand why it happens)"
   ]
  },
  {
   "cell_type": "code",
   "execution_count": null,
   "id": "9626175b",
   "metadata": {
    "id": "9626175b"
   },
   "outputs": [],
   "source": [
    "## Loading the data from a .csv file\n",
    "data = pd.read_csv(\"customer_segmentation_ABT.csv\")"
   ]
  },
  {
   "cell_type": "code",
   "execution_count": null,
   "id": "56248d3f",
   "metadata": {
    "id": "56248d3f",
    "outputId": "35e43b54-63e0-42c2-8355-2f0f6c38de37"
   },
   "outputs": [
    {
     "name": "stdout",
     "output_type": "stream",
     "text": [
      "<class 'pandas.core.frame.DataFrame'>\n",
      "RangeIndex: 110000 entries, 0 to 109999\n",
      "Data columns (total 11 columns):\n",
      " #   Column     Non-Null Count   Dtype  \n",
      "---  ------     --------------   -----  \n",
      " 0   ID         110000 non-null  int64  \n",
      " 1   ProfileID  65946 non-null   float64\n",
      " 2   SegmentID  110000 non-null  int64  \n",
      " 3   version    110000 non-null  object \n",
      " 4   ind        100000 non-null  float64\n",
      " 5   email      110000 non-null  int64  \n",
      " 6   spent      110000 non-null  float64\n",
      " 7   shopper    110000 non-null  int64  \n",
      " 8   negative   110000 non-null  object \n",
      " 9   profile    65946 non-null   object \n",
      " 10  segment    110000 non-null  object \n",
      "dtypes: float64(3), int64(4), object(4)\n",
      "memory usage: 9.2+ MB\n"
     ]
    }
   ],
   "source": [
    "data.info()"
   ]
  },
  {
   "cell_type": "markdown",
   "id": "09ff9cce",
   "metadata": {
    "id": "09ff9cce"
   },
   "source": [
    "#### We have 110000 records and the only variable with NULLs now is Profile"
   ]
  },
  {
   "cell_type": "code",
   "execution_count": null,
   "id": "d66fc0b3-954d-445c-888e-bb9b9bc599ad",
   "metadata": {
    "id": "d66fc0b3-954d-445c-888e-bb9b9bc599ad",
    "outputId": "1f6c8837-a0ac-4a31-f02b-a421407bbf4b"
   },
   "outputs": [
    {
     "data": {
      "text/html": [
       "<div>\n",
       "<style scoped>\n",
       "    .dataframe tbody tr th:only-of-type {\n",
       "        vertical-align: middle;\n",
       "    }\n",
       "\n",
       "    .dataframe tbody tr th {\n",
       "        vertical-align: top;\n",
       "    }\n",
       "\n",
       "    .dataframe thead th {\n",
       "        text-align: right;\n",
       "    }\n",
       "</style>\n",
       "<table border=\"1\" class=\"dataframe\">\n",
       "  <thead>\n",
       "    <tr style=\"text-align: right;\">\n",
       "      <th></th>\n",
       "      <th>ID</th>\n",
       "      <th>ProfileID</th>\n",
       "      <th>SegmentID</th>\n",
       "      <th>version</th>\n",
       "      <th>ind</th>\n",
       "      <th>email</th>\n",
       "      <th>spent</th>\n",
       "      <th>shopper</th>\n",
       "      <th>profile</th>\n",
       "      <th>segment</th>\n",
       "    </tr>\n",
       "  </thead>\n",
       "  <tbody>\n",
       "    <tr>\n",
       "      <th>0</th>\n",
       "      <td>1</td>\n",
       "      <td>5.0</td>\n",
       "      <td>5</td>\n",
       "      <td>A</td>\n",
       "      <td>1.0</td>\n",
       "      <td>1</td>\n",
       "      <td>0.0</td>\n",
       "      <td>0</td>\n",
       "      <td>Pinched Pockets</td>\n",
       "      <td>New Customers</td>\n",
       "    </tr>\n",
       "    <tr>\n",
       "      <th>1</th>\n",
       "      <td>2</td>\n",
       "      <td>NaN</td>\n",
       "      <td>5</td>\n",
       "      <td>A</td>\n",
       "      <td>1.0</td>\n",
       "      <td>1</td>\n",
       "      <td>0.0</td>\n",
       "      <td>0</td>\n",
       "      <td>NaN</td>\n",
       "      <td>New Customers</td>\n",
       "    </tr>\n",
       "    <tr>\n",
       "      <th>2</th>\n",
       "      <td>3</td>\n",
       "      <td>2.0</td>\n",
       "      <td>3</td>\n",
       "      <td>B</td>\n",
       "      <td>1.0</td>\n",
       "      <td>1</td>\n",
       "      <td>0.0</td>\n",
       "      <td>0</td>\n",
       "      <td>Rich &amp; Richer</td>\n",
       "      <td>Power Shoppers</td>\n",
       "    </tr>\n",
       "    <tr>\n",
       "      <th>3</th>\n",
       "      <td>4</td>\n",
       "      <td>1.0</td>\n",
       "      <td>2</td>\n",
       "      <td>A</td>\n",
       "      <td>1.0</td>\n",
       "      <td>1</td>\n",
       "      <td>0.0</td>\n",
       "      <td>0</td>\n",
       "      <td>City Slickers</td>\n",
       "      <td>Core Customers</td>\n",
       "    </tr>\n",
       "    <tr>\n",
       "      <th>4</th>\n",
       "      <td>5</td>\n",
       "      <td>4.0</td>\n",
       "      <td>1</td>\n",
       "      <td>A</td>\n",
       "      <td>1.0</td>\n",
       "      <td>1</td>\n",
       "      <td>0.0</td>\n",
       "      <td>0</td>\n",
       "      <td>Blue Collar Royalty</td>\n",
       "      <td>Elite Customers</td>\n",
       "    </tr>\n",
       "  </tbody>\n",
       "</table>\n",
       "</div>"
      ],
      "text/plain": [
       "   ID  ProfileID  SegmentID version  ind  email  spent  shopper  \\\n",
       "0   1        5.0          5       A  1.0      1    0.0        0   \n",
       "1   2        NaN          5       A  1.0      1    0.0        0   \n",
       "2   3        2.0          3       B  1.0      1    0.0        0   \n",
       "3   4        1.0          2       A  1.0      1    0.0        0   \n",
       "4   5        4.0          1       A  1.0      1    0.0        0   \n",
       "\n",
       "               profile          segment  \n",
       "0      Pinched Pockets    New Customers  \n",
       "1                  NaN    New Customers  \n",
       "2        Rich & Richer   Power Shoppers  \n",
       "3        City Slickers   Core Customers  \n",
       "4  Blue Collar Royalty  Elite Customers  "
      ]
     },
     "execution_count": 86,
     "metadata": {},
     "output_type": "execute_result"
    }
   ],
   "source": [
    "data.head()"
   ]
  },
  {
   "cell_type": "code",
   "execution_count": null,
   "id": "26a1662f",
   "metadata": {
    "id": "26a1662f"
   },
   "outputs": [],
   "source": [
    "#turning email into a string\n",
    "data['email'] = data['email'].apply(str)"
   ]
  },
  {
   "cell_type": "code",
   "execution_count": null,
   "id": "4bb391f9",
   "metadata": {
    "id": "4bb391f9"
   },
   "outputs": [],
   "source": [
    "#turning negative into a string\n",
    "data['negative'] = data['negative'].apply(str)"
   ]
  },
  {
   "cell_type": "markdown",
   "id": "51b2c8f4",
   "metadata": {
    "id": "51b2c8f4"
   },
   "source": [
    "#### Now, let's check if the two groups are about the same size"
   ]
  },
  {
   "cell_type": "code",
   "execution_count": null,
   "id": "e8d8d85a",
   "metadata": {
    "id": "e8d8d85a",
    "outputId": "351a95df-cdfc-4fdb-86b9-4f1ca25af5ad"
   },
   "outputs": [
    {
     "name": "stdout",
     "output_type": "stream",
     "text": [
      "A    50.200909\n",
      "B    49.799091\n",
      "Name: version, dtype: float64\n"
     ]
    }
   ],
   "source": [
    "# Print out the percentage of users in each group\n",
    "print(data[\"version\"].value_counts() / data[\"version\"].count() * 100)"
   ]
  },
  {
   "cell_type": "code",
   "execution_count": null,
   "id": "f4caa496",
   "metadata": {
    "id": "f4caa496",
    "outputId": "fbd299a8-ea86-4f78-8d01-15ef409a6b2f"
   },
   "outputs": [
    {
     "name": "stdout",
     "output_type": "stream",
     "text": [
      "1    90.909091\n",
      "0     9.090909\n",
      "Name: email, dtype: float64\n"
     ]
    }
   ],
   "source": [
    "# Print out the percentage of users that are in a group control\n",
    "print(data[\"email\"].value_counts() / data[\"email\"].count() * 100)"
   ]
  },
  {
   "cell_type": "markdown",
   "id": "df4cdf65",
   "metadata": {
    "id": "df4cdf65"
   },
   "source": [
    "#### We almost have exactly a proper split 50%50% between the 2 groups A and B\n",
    "\n",
    "#### 10% hasn't recived the communication (control group)"
   ]
  },
  {
   "cell_type": "markdown",
   "id": "c32520a6-eddb-4a0f-9436-1bd549d09365",
   "metadata": {
    "id": "c32520a6-eddb-4a0f-9436-1bd549d09365"
   },
   "source": [
    "# Metrics Calculation\n",
    "\n",
    "We need to define our sucess metric and additional metrics so we can measure success\n",
    "\n",
    "Our success metric will be:\n",
    "##### Conversion Rate\n",
    "    For every user that has ever been part of the campaigns,we calculate how many of them did a purchase\n",
    "We will also look at this one:\n",
    "##### Total spent\n",
    "    For every user that has ever been part of the campaigns,we calculate how much that user spent"
   ]
  },
  {
   "cell_type": "code",
   "execution_count": null,
   "id": "91b33012",
   "metadata": {
    "id": "91b33012"
   },
   "outputs": [],
   "source": [
    "# Calculate the conversion rate by version and email\n",
    "cr = data.groupby(by=[\"email\", \"version\"], as_index=False)\n",
    "cr = cr.agg({\"shopper\": [\"count\", \"sum\"]})\n",
    "cr[\"conversion_rate\"] = (\n",
    "    cr.shopper[\"sum\"] / cr.shopper[\"count\"]\n",
    ") * 100"
   ]
  },
  {
   "cell_type": "code",
   "execution_count": null,
   "id": "3ed91884",
   "metadata": {
    "id": "3ed91884",
    "outputId": "be69825c-8b35-4fe1-f95b-f6fc9d92a4ec"
   },
   "outputs": [
    {
     "name": "stderr",
     "output_type": "stream",
     "text": [
      "C:\\Users\\Laura\\anaconda3\\lib\\site-packages\\pandas\\core\\generic.py:4153: PerformanceWarning: dropping on a non-lexsorted multi-index without a level parameter may impact performance.\n",
      "  obj = obj._drop_axis(labels, axis, level=level, errors=errors)\n"
     ]
    }
   ],
   "source": [
    "cr = cr.drop(columns=[\"shopper\"])"
   ]
  },
  {
   "cell_type": "code",
   "execution_count": null,
   "id": "827d7682",
   "metadata": {
    "id": "827d7682",
    "outputId": "c56e8b44-b624-43f6-e0b2-ecef0dbdfb9a"
   },
   "outputs": [
    {
     "data": {
      "text/html": [
       "<div>\n",
       "<style scoped>\n",
       "    .dataframe tbody tr th:only-of-type {\n",
       "        vertical-align: middle;\n",
       "    }\n",
       "\n",
       "    .dataframe tbody tr th {\n",
       "        vertical-align: top;\n",
       "    }\n",
       "\n",
       "    .dataframe thead tr th {\n",
       "        text-align: left;\n",
       "    }\n",
       "</style>\n",
       "<table border=\"1\" class=\"dataframe\">\n",
       "  <thead>\n",
       "    <tr>\n",
       "      <th></th>\n",
       "      <th>email</th>\n",
       "      <th>version</th>\n",
       "      <th>conversion_rate</th>\n",
       "    </tr>\n",
       "    <tr>\n",
       "      <th></th>\n",
       "      <th></th>\n",
       "      <th></th>\n",
       "      <th></th>\n",
       "    </tr>\n",
       "  </thead>\n",
       "  <tbody>\n",
       "    <tr>\n",
       "      <th>0</th>\n",
       "      <td>0</td>\n",
       "      <td>A</td>\n",
       "      <td>7.027559</td>\n",
       "    </tr>\n",
       "    <tr>\n",
       "      <th>1</th>\n",
       "      <td>0</td>\n",
       "      <td>B</td>\n",
       "      <td>7.398374</td>\n",
       "    </tr>\n",
       "    <tr>\n",
       "      <th>2</th>\n",
       "      <td>1</td>\n",
       "      <td>A</td>\n",
       "      <td>7.271494</td>\n",
       "    </tr>\n",
       "    <tr>\n",
       "      <th>3</th>\n",
       "      <td>1</td>\n",
       "      <td>B</td>\n",
       "      <td>7.755872</td>\n",
       "    </tr>\n",
       "  </tbody>\n",
       "</table>\n",
       "</div>"
      ],
      "text/plain": [
       "  email version conversion_rate\n",
       "                               \n",
       "0     0       A        7.027559\n",
       "1     0       B        7.398374\n",
       "2     1       A        7.271494\n",
       "3     1       B        7.755872"
      ]
     },
     "execution_count": 702,
     "metadata": {},
     "output_type": "execute_result"
    }
   ],
   "source": [
    "cr"
   ]
  },
  {
   "cell_type": "markdown",
   "id": "7080593e",
   "metadata": {
    "id": "7080593e"
   },
   "source": [
    "#### We can see little differences on the conversion rate for each group A but we need do to the A/B test to confirm if this differences are real (and not just a coincidence)."
   ]
  },
  {
   "cell_type": "code",
   "execution_count": null,
   "id": "eb449cc3",
   "metadata": {
    "id": "eb449cc3"
   },
   "outputs": [],
   "source": [
    "cr.to_clipboard()"
   ]
  },
  {
   "cell_type": "code",
   "execution_count": null,
   "id": "a80220d6",
   "metadata": {
    "id": "a80220d6"
   },
   "outputs": [],
   "source": [
    "cr.to_csv('cr.csv',index=False)"
   ]
  },
  {
   "cell_type": "code",
   "execution_count": null,
   "id": "c6a6d794",
   "metadata": {
    "id": "c6a6d794",
    "outputId": "d6227419-4ffb-49f5-b726-264768203610"
   },
   "outputs": [
    {
     "name": "stdout",
     "output_type": "stream",
     "text": [
      "<class 'pandas.core.frame.DataFrame'>\n",
      "Int64Index: 4 entries, 0 to 3\n",
      "Data columns (total 3 columns):\n",
      " #   Column               Non-Null Count  Dtype  \n",
      "---  ------               --------------  -----  \n",
      " 0   (email, )            4 non-null      object \n",
      " 1   (version, )          4 non-null      object \n",
      " 2   (conversion_rate, )  4 non-null      float64\n",
      "dtypes: float64(1), object(2)\n",
      "memory usage: 128.0+ bytes\n"
     ]
    }
   ],
   "source": [
    "cr.info()"
   ]
  },
  {
   "cell_type": "code",
   "execution_count": null,
   "id": "ea2c1cd4",
   "metadata": {
    "id": "ea2c1cd4"
   },
   "outputs": [],
   "source": [
    "cr = pd.read_csv(\"customer_segmentation_CR.csv\")"
   ]
  },
  {
   "cell_type": "code",
   "execution_count": null,
   "id": "14977ebf",
   "metadata": {
    "id": "14977ebf",
    "outputId": "e5727c05-b3dd-4a9f-a7d4-c90e3d09adc0"
   },
   "outputs": [
    {
     "name": "stdout",
     "output_type": "stream",
     "text": [
      "<class 'pandas.core.frame.DataFrame'>\n",
      "RangeIndex: 4 entries, 0 to 3\n",
      "Data columns (total 3 columns):\n",
      " #   Column           Non-Null Count  Dtype  \n",
      "---  ------           --------------  -----  \n",
      " 0   email            4 non-null      int64  \n",
      " 1   version          4 non-null      object \n",
      " 2   conversion_rate  4 non-null      float64\n",
      "dtypes: float64(1), int64(1), object(1)\n",
      "memory usage: 224.0+ bytes\n"
     ]
    }
   ],
   "source": [
    "cr.info()"
   ]
  },
  {
   "cell_type": "code",
   "execution_count": null,
   "id": "8c4124e6",
   "metadata": {
    "id": "8c4124e6",
    "outputId": "375933b0-104f-46e5-cc61-736db3318233"
   },
   "outputs": [
    {
     "data": {
      "text/html": [
       "<div>\n",
       "<style scoped>\n",
       "    .dataframe tbody tr th:only-of-type {\n",
       "        vertical-align: middle;\n",
       "    }\n",
       "\n",
       "    .dataframe tbody tr th {\n",
       "        vertical-align: top;\n",
       "    }\n",
       "\n",
       "    .dataframe thead th {\n",
       "        text-align: right;\n",
       "    }\n",
       "</style>\n",
       "<table border=\"1\" class=\"dataframe\">\n",
       "  <thead>\n",
       "    <tr style=\"text-align: right;\">\n",
       "      <th></th>\n",
       "      <th></th>\n",
       "      <th>count</th>\n",
       "      <th>mean</th>\n",
       "      <th>std</th>\n",
       "      <th>min</th>\n",
       "      <th>25%</th>\n",
       "      <th>50%</th>\n",
       "      <th>75%</th>\n",
       "      <th>max</th>\n",
       "    </tr>\n",
       "    <tr>\n",
       "      <th>version</th>\n",
       "      <th>email</th>\n",
       "      <th></th>\n",
       "      <th></th>\n",
       "      <th></th>\n",
       "      <th></th>\n",
       "      <th></th>\n",
       "      <th></th>\n",
       "      <th></th>\n",
       "      <th></th>\n",
       "    </tr>\n",
       "  </thead>\n",
       "  <tbody>\n",
       "    <tr>\n",
       "      <th rowspan=\"2\" valign=\"top\">A</th>\n",
       "      <th>0</th>\n",
       "      <td>5080.0</td>\n",
       "      <td>8.302624</td>\n",
       "      <td>45.386802</td>\n",
       "      <td>-502.980011</td>\n",
       "      <td>0.0</td>\n",
       "      <td>0.0</td>\n",
       "      <td>0.0</td>\n",
       "      <td>948.099976</td>\n",
       "    </tr>\n",
       "    <tr>\n",
       "      <th>1</th>\n",
       "      <td>50141.0</td>\n",
       "      <td>8.577920</td>\n",
       "      <td>44.837670</td>\n",
       "      <td>-479.720001</td>\n",
       "      <td>0.0</td>\n",
       "      <td>0.0</td>\n",
       "      <td>0.0</td>\n",
       "      <td>1616.459961</td>\n",
       "    </tr>\n",
       "    <tr>\n",
       "      <th rowspan=\"2\" valign=\"top\">B</th>\n",
       "      <th>0</th>\n",
       "      <td>4920.0</td>\n",
       "      <td>7.820827</td>\n",
       "      <td>38.922911</td>\n",
       "      <td>-282.709991</td>\n",
       "      <td>0.0</td>\n",
       "      <td>0.0</td>\n",
       "      <td>0.0</td>\n",
       "      <td>713.760010</td>\n",
       "    </tr>\n",
       "    <tr>\n",
       "      <th>1</th>\n",
       "      <td>49859.0</td>\n",
       "      <td>8.314443</td>\n",
       "      <td>42.321250</td>\n",
       "      <td>-768.820007</td>\n",
       "      <td>0.0</td>\n",
       "      <td>0.0</td>\n",
       "      <td>0.0</td>\n",
       "      <td>1216.130005</td>\n",
       "    </tr>\n",
       "  </tbody>\n",
       "</table>\n",
       "</div>"
      ],
      "text/plain": [
       "                 count      mean        std         min  25%  50%  75%  \\\n",
       "version email                                                            \n",
       "A       0       5080.0  8.302624  45.386802 -502.980011  0.0  0.0  0.0   \n",
       "        1      50141.0  8.577920  44.837670 -479.720001  0.0  0.0  0.0   \n",
       "B       0       4920.0  7.820827  38.922911 -282.709991  0.0  0.0  0.0   \n",
       "        1      49859.0  8.314443  42.321250 -768.820007  0.0  0.0  0.0   \n",
       "\n",
       "                       max  \n",
       "version email               \n",
       "A       0       948.099976  \n",
       "        1      1616.459961  \n",
       "B       0       713.760010  \n",
       "        1      1216.130005  "
      ]
     },
     "execution_count": 322,
     "metadata": {},
     "output_type": "execute_result"
    }
   ],
   "source": [
    "# Calculate the total spent by version and email - everybody\n",
    "data.groupby(['version','email'])['spent'].describe()"
   ]
  },
  {
   "cell_type": "markdown",
   "id": "2f078c4d",
   "metadata": {
    "id": "2f078c4d"
   },
   "source": [
    "##### It does not make sense - we need to calculate only for those who actually have bought"
   ]
  },
  {
   "cell_type": "code",
   "execution_count": null,
   "id": "6563ee0d",
   "metadata": {
    "id": "6563ee0d",
    "outputId": "4e223479-4abb-400b-b357-b8ce766f2150"
   },
   "outputs": [
    {
     "data": {
      "text/html": [
       "<div>\n",
       "<style scoped>\n",
       "    .dataframe tbody tr th:only-of-type {\n",
       "        vertical-align: middle;\n",
       "    }\n",
       "\n",
       "    .dataframe tbody tr th {\n",
       "        vertical-align: top;\n",
       "    }\n",
       "\n",
       "    .dataframe thead tr th {\n",
       "        text-align: left;\n",
       "    }\n",
       "</style>\n",
       "<table border=\"1\" class=\"dataframe\">\n",
       "  <thead>\n",
       "    <tr>\n",
       "      <th></th>\n",
       "      <th>email</th>\n",
       "      <th>version</th>\n",
       "      <th colspan=\"3\" halign=\"left\">spent</th>\n",
       "    </tr>\n",
       "    <tr>\n",
       "      <th></th>\n",
       "      <th></th>\n",
       "      <th></th>\n",
       "      <th>sum</th>\n",
       "      <th>mean</th>\n",
       "      <th>median</th>\n",
       "    </tr>\n",
       "  </thead>\n",
       "  <tbody>\n",
       "    <tr>\n",
       "      <th>0</th>\n",
       "      <td>0</td>\n",
       "      <td>A</td>\n",
       "      <td>42177.329932</td>\n",
       "      <td>118.143781</td>\n",
       "      <td>91.730003</td>\n",
       "    </tr>\n",
       "    <tr>\n",
       "      <th>1</th>\n",
       "      <td>0</td>\n",
       "      <td>B</td>\n",
       "      <td>38478.469986</td>\n",
       "      <td>105.710082</td>\n",
       "      <td>86.009998</td>\n",
       "    </tr>\n",
       "    <tr>\n",
       "      <th>2</th>\n",
       "      <td>1</td>\n",
       "      <td>A</td>\n",
       "      <td>430105.469889</td>\n",
       "      <td>117.966393</td>\n",
       "      <td>96.629997</td>\n",
       "    </tr>\n",
       "    <tr>\n",
       "      <th>3</th>\n",
       "      <td>1</td>\n",
       "      <td>B</td>\n",
       "      <td>414549.830120</td>\n",
       "      <td>107.201921</td>\n",
       "      <td>85.309998</td>\n",
       "    </tr>\n",
       "  </tbody>\n",
       "</table>\n",
       "</div>"
      ],
      "text/plain": [
       "  email version          spent                       \n",
       "                           sum        mean     median\n",
       "0     0       A   42177.329932  118.143781  91.730003\n",
       "1     0       B   38478.469986  105.710082  86.009998\n",
       "2     1       A  430105.469889  117.966393  96.629997\n",
       "3     1       B  414549.830120  107.201921  85.309998"
      ]
     },
     "execution_count": 351,
     "metadata": {},
     "output_type": "execute_result"
    }
   ],
   "source": [
    "# Calculate the total spent by version and email -- filtering only shopper = 1\n",
    "total_spent = data[data[\"shopper\"]==1].groupby(by=[\"email\", \"version\"], as_index=False)\n",
    "total_spent = total_spent.agg({\"spent\": [\"sum\", \"mean\",\"median\"]})\n",
    "total_spent"
   ]
  },
  {
   "cell_type": "code",
   "execution_count": null,
   "id": "cd49c6fb",
   "metadata": {
    "id": "cd49c6fb",
    "outputId": "830efb83-aafb-474e-b2e6-d90d692121d0"
   },
   "outputs": [
    {
     "data": {
      "text/html": [
       "<div>\n",
       "<style scoped>\n",
       "    .dataframe tbody tr th:only-of-type {\n",
       "        vertical-align: middle;\n",
       "    }\n",
       "\n",
       "    .dataframe tbody tr th {\n",
       "        vertical-align: top;\n",
       "    }\n",
       "\n",
       "    .dataframe thead tr th {\n",
       "        text-align: left;\n",
       "    }\n",
       "</style>\n",
       "<table border=\"1\" class=\"dataframe\">\n",
       "  <thead>\n",
       "    <tr>\n",
       "      <th></th>\n",
       "      <th>email</th>\n",
       "      <th>version</th>\n",
       "      <th colspan=\"3\" halign=\"left\">spent</th>\n",
       "    </tr>\n",
       "    <tr>\n",
       "      <th></th>\n",
       "      <th></th>\n",
       "      <th></th>\n",
       "      <th>sum</th>\n",
       "      <th>mean</th>\n",
       "      <th>median</th>\n",
       "    </tr>\n",
       "  </thead>\n",
       "  <tbody>\n",
       "    <tr>\n",
       "      <th>0</th>\n",
       "      <td>0</td>\n",
       "      <td>A</td>\n",
       "      <td>42177.0</td>\n",
       "      <td>118.0</td>\n",
       "      <td>92.0</td>\n",
       "    </tr>\n",
       "    <tr>\n",
       "      <th>1</th>\n",
       "      <td>0</td>\n",
       "      <td>B</td>\n",
       "      <td>38478.0</td>\n",
       "      <td>106.0</td>\n",
       "      <td>86.0</td>\n",
       "    </tr>\n",
       "    <tr>\n",
       "      <th>2</th>\n",
       "      <td>1</td>\n",
       "      <td>A</td>\n",
       "      <td>430105.0</td>\n",
       "      <td>118.0</td>\n",
       "      <td>97.0</td>\n",
       "    </tr>\n",
       "    <tr>\n",
       "      <th>3</th>\n",
       "      <td>1</td>\n",
       "      <td>B</td>\n",
       "      <td>414550.0</td>\n",
       "      <td>107.0</td>\n",
       "      <td>85.0</td>\n",
       "    </tr>\n",
       "  </tbody>\n",
       "</table>\n",
       "</div>"
      ],
      "text/plain": [
       "  email version     spent              \n",
       "                      sum   mean median\n",
       "0     0       A   42177.0  118.0   92.0\n",
       "1     0       B   38478.0  106.0   86.0\n",
       "2     1       A  430105.0  118.0   97.0\n",
       "3     1       B  414550.0  107.0   85.0"
      ]
     },
     "execution_count": 374,
     "metadata": {},
     "output_type": "execute_result"
    }
   ],
   "source": [
    "#rounding the total_spent values to 0 decimal points\n",
    "total_spent = total_spent.round()\n",
    "total_spent"
   ]
  },
  {
   "cell_type": "markdown",
   "id": "da6de953",
   "metadata": {
    "id": "da6de953"
   },
   "source": [
    "##### We can see little differences on total_spent values for each group but we need do to the A/B test to confirm if this differences are real (and not just a coincidence)."
   ]
  },
  {
   "cell_type": "markdown",
   "id": "929844f8",
   "metadata": {
    "id": "929844f8"
   },
   "source": [
    "#### ==================================================================\n",
    "# A/B test\n",
    "#### ==================================================================\n",
    "\n",
    "## Define the hypothesis\n",
    "    What will this campaign improve?\n",
    "\n",
    "    - Hypothesis 1: users receive  the promotional material A are more likely to purchase a product than users that doesn't receive  the same material OR\n",
    "                users that receive  the promotional material A are more likely to spent more money buying a product than users that doesn't receive  the same material\n",
    "\n",
    "\n",
    "    - Hypothesis 2: users receive  the promotional material B are more likely to purchase a product than users that doesn't receive  the same material OR\n",
    "                users that receive  the promotional material A are more likely to spent more money buying a product than users that doesn't receive  the same material\n",
    "\n",
    "\n",
    "    - Hypothesis 3: users receive the promotional material A are more likely to purchase a product than users that receive  the promotional material B\n",
    "    OR\n",
    "                users that receive  the promotional material A are more likely to spent more money buying a product than users that receive  the promotional material B"
   ]
  },
  {
   "cell_type": "markdown",
   "id": "1365a507",
   "metadata": {
    "id": "1365a507"
   },
   "source": [
    "## Test 1 - Version: A"
   ]
  },
  {
   "cell_type": "code",
   "execution_count": null,
   "id": "c0774ec6",
   "metadata": {
    "id": "c0774ec6",
    "outputId": "5e9d8d1f-8409-4eca-f7ef-c128540071a3"
   },
   "outputs": [
    {
     "data": {
      "text/html": [
       "<div>\n",
       "<style scoped>\n",
       "    .dataframe tbody tr th:only-of-type {\n",
       "        vertical-align: middle;\n",
       "    }\n",
       "\n",
       "    .dataframe tbody tr th {\n",
       "        vertical-align: top;\n",
       "    }\n",
       "\n",
       "    .dataframe thead tr th {\n",
       "        text-align: left;\n",
       "    }\n",
       "</style>\n",
       "<table border=\"1\" class=\"dataframe\">\n",
       "  <thead>\n",
       "    <tr>\n",
       "      <th></th>\n",
       "      <th>email</th>\n",
       "      <th>version</th>\n",
       "      <th colspan=\"2\" halign=\"left\">shopper</th>\n",
       "      <th>conversion_rate</th>\n",
       "    </tr>\n",
       "    <tr>\n",
       "      <th></th>\n",
       "      <th></th>\n",
       "      <th></th>\n",
       "      <th>count</th>\n",
       "      <th>sum</th>\n",
       "      <th></th>\n",
       "    </tr>\n",
       "  </thead>\n",
       "  <tbody>\n",
       "    <tr>\n",
       "      <th>0</th>\n",
       "      <td>0</td>\n",
       "      <td>A</td>\n",
       "      <td>5080</td>\n",
       "      <td>357</td>\n",
       "      <td>7.03</td>\n",
       "    </tr>\n",
       "    <tr>\n",
       "      <th>2</th>\n",
       "      <td>1</td>\n",
       "      <td>A</td>\n",
       "      <td>50141</td>\n",
       "      <td>3646</td>\n",
       "      <td>7.27</td>\n",
       "    </tr>\n",
       "  </tbody>\n",
       "</table>\n",
       "</div>"
      ],
      "text/plain": [
       "  email version shopper       conversion_rate\n",
       "                  count   sum                \n",
       "0     0       A    5080   357            7.03\n",
       "2     1       A   50141  3646            7.27"
      ]
     },
     "execution_count": 366,
     "metadata": {},
     "output_type": "execute_result"
    }
   ],
   "source": [
    "cr[cr[\"version\"]==\"A\"]"
   ]
  },
  {
   "cell_type": "code",
   "execution_count": null,
   "id": "040abf76",
   "metadata": {
    "id": "040abf76",
    "outputId": "1cba04c5-a623-408b-9544-0cbf18b100d3"
   },
   "outputs": [
    {
     "name": "stdout",
     "output_type": "stream",
     "text": [
      "0.5228792092963581\n",
      "The difference is not significant. There is no diference between the treatments\n"
     ]
    }
   ],
   "source": [
    "#testing if is there any difference between who got the email A and who doesnt in becoming a shopper or not\n",
    "res = ttest_ind(data.query('version == \"A\" and email == 0')['shopper'].to_numpy(),\n",
    "                data.query('version == \"A\" and email == 1')['shopper'].to_numpy()).pvalue\n",
    "\n",
    "print(res)\n",
    "if res >=0.05:\n",
    "    print(\"The difference is not significant. There is no difference between the treatments\")\n",
    "else:\n",
    "    print(\"The difference is significant. There is differece between the treatments.\")"
   ]
  },
  {
   "cell_type": "markdown",
   "id": "91571d0a",
   "metadata": {
    "id": "91571d0a"
   },
   "source": [
    "### Conclusion - Test 1:\n",
    "##### we can not say that the users that has received the promotional material A were more likely to purchase a product than users that didn't received  the same material"
   ]
  },
  {
   "cell_type": "code",
   "execution_count": null,
   "id": "946a566c",
   "metadata": {
    "id": "946a566c",
    "outputId": "2ee8cbd6-4105-4db2-d811-72601e37f246"
   },
   "outputs": [
    {
     "data": {
      "text/html": [
       "<div>\n",
       "<style scoped>\n",
       "    .dataframe tbody tr th:only-of-type {\n",
       "        vertical-align: middle;\n",
       "    }\n",
       "\n",
       "    .dataframe tbody tr th {\n",
       "        vertical-align: top;\n",
       "    }\n",
       "\n",
       "    .dataframe thead tr th {\n",
       "        text-align: left;\n",
       "    }\n",
       "</style>\n",
       "<table border=\"1\" class=\"dataframe\">\n",
       "  <thead>\n",
       "    <tr>\n",
       "      <th></th>\n",
       "      <th>email</th>\n",
       "      <th>version</th>\n",
       "      <th colspan=\"3\" halign=\"left\">spent</th>\n",
       "    </tr>\n",
       "    <tr>\n",
       "      <th></th>\n",
       "      <th></th>\n",
       "      <th></th>\n",
       "      <th>sum</th>\n",
       "      <th>mean</th>\n",
       "      <th>median</th>\n",
       "    </tr>\n",
       "  </thead>\n",
       "  <tbody>\n",
       "    <tr>\n",
       "      <th>0</th>\n",
       "      <td>0</td>\n",
       "      <td>A</td>\n",
       "      <td>42177.0</td>\n",
       "      <td>118.0</td>\n",
       "      <td>92.0</td>\n",
       "    </tr>\n",
       "    <tr>\n",
       "      <th>2</th>\n",
       "      <td>1</td>\n",
       "      <td>A</td>\n",
       "      <td>430105.0</td>\n",
       "      <td>118.0</td>\n",
       "      <td>97.0</td>\n",
       "    </tr>\n",
       "  </tbody>\n",
       "</table>\n",
       "</div>"
      ],
      "text/plain": [
       "  email version     spent              \n",
       "                      sum   mean median\n",
       "0     0       A   42177.0  118.0   92.0\n",
       "2     1       A  430105.0  118.0   97.0"
      ]
     },
     "execution_count": 375,
     "metadata": {},
     "output_type": "execute_result"
    }
   ],
   "source": [
    "total_spent[total_spent[\"version\"]==\"A\"]"
   ]
  },
  {
   "cell_type": "code",
   "execution_count": null,
   "id": "39da44af",
   "metadata": {
    "id": "39da44af",
    "outputId": "a1b8d082-f70c-4b64-efc3-660b6c713e2f"
   },
   "outputs": [
    {
     "name": "stdout",
     "output_type": "stream",
     "text": [
      "0.9790897785030468\n",
      "The difference is not significant. There is no difference between the treatments\n"
     ]
    }
   ],
   "source": [
    "#testing if is there any difference between who got the email A and who doesnt in how much they have spent\n",
    "res = ttest_ind(data.query('version == \"A\" and email == 0 and shopper == 1')['spent'].to_numpy(),\n",
    "                data.query('version == \"A\" and email == 1 and shopper == 1')['spent'].to_numpy()).pvalue\n",
    "\n",
    "print(res)\n",
    "if res >=0.05:\n",
    "    print(\"The difference is not significant. There is no difference between the treatments\")\n",
    "else:\n",
    "    print(\"The difference is significant. There is differece between the treatments.\")"
   ]
  },
  {
   "cell_type": "markdown",
   "id": "9cd9b2b7",
   "metadata": {
    "id": "9cd9b2b7"
   },
   "source": [
    "### Conclusion 2 - Test 1:\n",
    "##### we can not say that the users that has receive the promotional material A were more likely to spent more money buying a product than users that didn't receive the same material"
   ]
  },
  {
   "cell_type": "markdown",
   "id": "4ebcf1c3",
   "metadata": {
    "id": "4ebcf1c3"
   },
   "source": [
    "## Test 2 - Version: B"
   ]
  },
  {
   "cell_type": "code",
   "execution_count": null,
   "id": "d765593b",
   "metadata": {
    "id": "d765593b",
    "outputId": "619d720e-5f28-4da6-ca47-63f2618bc480"
   },
   "outputs": [
    {
     "data": {
      "text/html": [
       "<div>\n",
       "<style scoped>\n",
       "    .dataframe tbody tr th:only-of-type {\n",
       "        vertical-align: middle;\n",
       "    }\n",
       "\n",
       "    .dataframe tbody tr th {\n",
       "        vertical-align: top;\n",
       "    }\n",
       "\n",
       "    .dataframe thead tr th {\n",
       "        text-align: left;\n",
       "    }\n",
       "</style>\n",
       "<table border=\"1\" class=\"dataframe\">\n",
       "  <thead>\n",
       "    <tr>\n",
       "      <th></th>\n",
       "      <th>email</th>\n",
       "      <th>version</th>\n",
       "      <th colspan=\"2\" halign=\"left\">shopper</th>\n",
       "      <th>conversion_rate</th>\n",
       "    </tr>\n",
       "    <tr>\n",
       "      <th></th>\n",
       "      <th></th>\n",
       "      <th></th>\n",
       "      <th>count</th>\n",
       "      <th>sum</th>\n",
       "      <th></th>\n",
       "    </tr>\n",
       "  </thead>\n",
       "  <tbody>\n",
       "    <tr>\n",
       "      <th>1</th>\n",
       "      <td>0</td>\n",
       "      <td>B</td>\n",
       "      <td>4920</td>\n",
       "      <td>364</td>\n",
       "      <td>7.40</td>\n",
       "    </tr>\n",
       "    <tr>\n",
       "      <th>3</th>\n",
       "      <td>1</td>\n",
       "      <td>B</td>\n",
       "      <td>49859</td>\n",
       "      <td>3867</td>\n",
       "      <td>7.76</td>\n",
       "    </tr>\n",
       "  </tbody>\n",
       "</table>\n",
       "</div>"
      ],
      "text/plain": [
       "  email version shopper       conversion_rate\n",
       "                  count   sum                \n",
       "1     0       B    4920   364            7.40\n",
       "3     1       B   49859  3867            7.76"
      ]
     },
     "execution_count": 369,
     "metadata": {},
     "output_type": "execute_result"
    }
   ],
   "source": [
    "cr[cr[\"version\"]==\"B\"]"
   ]
  },
  {
   "cell_type": "code",
   "execution_count": null,
   "id": "58c67bec",
   "metadata": {
    "id": "58c67bec",
    "outputId": "36322fe6-c5d3-4177-fbe5-799e3f8d1ab2"
   },
   "outputs": [
    {
     "name": "stdout",
     "output_type": "stream",
     "text": [
      "0.3702035607009382\n",
      "The difference is not significant. There is no difference between the treatments\n"
     ]
    }
   ],
   "source": [
    "#testing if is there any difference between who got the email B and who doesnt in becoming a shopper or not\n",
    "res = ttest_ind(data.query('version == \"B\" and email == 0')['shopper'].to_numpy(),\n",
    "                data.query('version == \"B\" and email == 1')['shopper'].to_numpy()).pvalue\n",
    "\n",
    "print(res)\n",
    "if res >=0.05:\n",
    "    print(\"The difference is not significant. There is no difference between the treatments\")\n",
    "else:\n",
    "    print(\"The difference is significant. There is differece between the treatments.\")"
   ]
  },
  {
   "cell_type": "markdown",
   "id": "5ab471b9",
   "metadata": {
    "id": "5ab471b9"
   },
   "source": [
    "### Conclusion 1 - Test 2:\n",
    "##### we can not say that the users that has received the promotional material B were more likely to purchase a product than users that didn't received the same material"
   ]
  },
  {
   "cell_type": "code",
   "execution_count": null,
   "id": "344e9b5b",
   "metadata": {
    "id": "344e9b5b",
    "outputId": "ad8a3cf8-07d9-446f-af73-82b38ebb197a"
   },
   "outputs": [
    {
     "data": {
      "text/html": [
       "<div>\n",
       "<style scoped>\n",
       "    .dataframe tbody tr th:only-of-type {\n",
       "        vertical-align: middle;\n",
       "    }\n",
       "\n",
       "    .dataframe tbody tr th {\n",
       "        vertical-align: top;\n",
       "    }\n",
       "\n",
       "    .dataframe thead tr th {\n",
       "        text-align: left;\n",
       "    }\n",
       "</style>\n",
       "<table border=\"1\" class=\"dataframe\">\n",
       "  <thead>\n",
       "    <tr>\n",
       "      <th></th>\n",
       "      <th>email</th>\n",
       "      <th>version</th>\n",
       "      <th colspan=\"3\" halign=\"left\">spent</th>\n",
       "    </tr>\n",
       "    <tr>\n",
       "      <th></th>\n",
       "      <th></th>\n",
       "      <th></th>\n",
       "      <th>sum</th>\n",
       "      <th>mean</th>\n",
       "      <th>median</th>\n",
       "    </tr>\n",
       "  </thead>\n",
       "  <tbody>\n",
       "    <tr>\n",
       "      <th>1</th>\n",
       "      <td>0</td>\n",
       "      <td>B</td>\n",
       "      <td>38478.0</td>\n",
       "      <td>106.0</td>\n",
       "      <td>86.0</td>\n",
       "    </tr>\n",
       "    <tr>\n",
       "      <th>3</th>\n",
       "      <td>1</td>\n",
       "      <td>B</td>\n",
       "      <td>414550.0</td>\n",
       "      <td>107.0</td>\n",
       "      <td>85.0</td>\n",
       "    </tr>\n",
       "  </tbody>\n",
       "</table>\n",
       "</div>"
      ],
      "text/plain": [
       "  email version     spent              \n",
       "                      sum   mean median\n",
       "1     0       B   38478.0  106.0   86.0\n",
       "3     1       B  414550.0  107.0   85.0"
      ]
     },
     "execution_count": 376,
     "metadata": {},
     "output_type": "execute_result"
    }
   ],
   "source": [
    "total_spent[total_spent[\"version\"]==\"B\"]"
   ]
  },
  {
   "cell_type": "code",
   "execution_count": null,
   "id": "871d06fb",
   "metadata": {
    "id": "871d06fb",
    "outputId": "a958cebc-778b-4f63-93b4-bb23a413fdd2"
   },
   "outputs": [
    {
     "name": "stdout",
     "output_type": "stream",
     "text": [
      "0.8061522336285047\n",
      "The difference is not significant. There is no difference between the treatments\n"
     ]
    }
   ],
   "source": [
    "#testing if is there any difference between who got the email B and who doesnt in how much they have spent\n",
    "res = ttest_ind(data.query('version == \"B\" and email == 0 and shopper == 1')['spent'].to_numpy(),\n",
    "                data.query('version == \"B\" and email == 1 and shopper == 1')['spent'].to_numpy()).pvalue\n",
    "\n",
    "print(res)\n",
    "if res >=0.05:\n",
    "    print(\"The difference is not significant. There is no difference between the treatments\")\n",
    "else:\n",
    "    print(\"The difference is significant. There is differece between the treatments.\")"
   ]
  },
  {
   "cell_type": "markdown",
   "id": "4bef9d51",
   "metadata": {
    "id": "4bef9d51"
   },
   "source": [
    "### Conclusion 2 - Test 2:\n",
    "##### we can not say that the users that has received the promotional material B were more likely to spent more money buying a product than users that didn't received the same material"
   ]
  },
  {
   "cell_type": "markdown",
   "id": "e150cdaa",
   "metadata": {
    "id": "e150cdaa"
   },
   "source": [
    "## Test 3 - Version: A  x Version: B"
   ]
  },
  {
   "cell_type": "code",
   "execution_count": null,
   "id": "f43b60ac",
   "metadata": {
    "id": "f43b60ac",
    "outputId": "52f22bf4-7e31-4560-a1d1-7a106da85c40"
   },
   "outputs": [
    {
     "data": {
      "text/plain": [
       "version  shopper\n",
       "A        0          51218\n",
       "         1           4003\n",
       "B        0          50548\n",
       "         1           4231\n",
       "dtype: int64"
      ]
     },
     "execution_count": 133,
     "metadata": {},
     "output_type": "execute_result"
    }
   ],
   "source": [
    "data.groupby(['version','shopper']).size()"
   ]
  },
  {
   "cell_type": "code",
   "execution_count": null,
   "id": "ea17c956",
   "metadata": {
    "id": "ea17c956",
    "outputId": "550659a5-9975-4d81-edd6-984af930d5c9"
   },
   "outputs": [
    {
     "name": "stdout",
     "output_type": "stream",
     "text": [
      "28.138952063539925\n",
      "The difference is not significant. There is no difference between the treatments\n"
     ]
    }
   ],
   "source": [
    "#testing if is there any difference between who got the email A and who got the email B in becoming a shopper or not\n",
    "res = ttest_ind(data.query('version == \"A\"')['spent'].to_numpy(),\n",
    "                data.query('version == \"B\"')['spent'].to_numpy()).pvalue\n",
    "\n",
    "print(res*100)\n",
    "if res >=0.05:\n",
    "    print(\"The difference is not significant. There is no difference between the treatments\")\n",
    "else:\n",
    "    print(\"The difference is significant. There is differece between the treatments.\")"
   ]
  },
  {
   "cell_type": "markdown",
   "id": "0e80d7af",
   "metadata": {
    "id": "0e80d7af"
   },
   "source": [
    "### Conclusion 1 - Test 3:\n",
    "\n",
    "##### we can not say that the users that has received the promotional material A are more likely to purchase a product than users that received the promotional material B"
   ]
  },
  {
   "cell_type": "code",
   "execution_count": null,
   "id": "cb6e2c6e",
   "metadata": {
    "id": "cb6e2c6e",
    "outputId": "5ba3f575-59c9-4eb9-b09d-0b63b7c99cd7"
   },
   "outputs": [
    {
     "data": {
      "text/html": [
       "<div>\n",
       "<style scoped>\n",
       "    .dataframe tbody tr th:only-of-type {\n",
       "        vertical-align: middle;\n",
       "    }\n",
       "\n",
       "    .dataframe tbody tr th {\n",
       "        vertical-align: top;\n",
       "    }\n",
       "\n",
       "    .dataframe thead th {\n",
       "        text-align: right;\n",
       "    }\n",
       "</style>\n",
       "<table border=\"1\" class=\"dataframe\">\n",
       "  <thead>\n",
       "    <tr style=\"text-align: right;\">\n",
       "      <th></th>\n",
       "      <th>count</th>\n",
       "      <th>mean</th>\n",
       "      <th>std</th>\n",
       "      <th>min</th>\n",
       "      <th>25%</th>\n",
       "      <th>50%</th>\n",
       "      <th>75%</th>\n",
       "      <th>max</th>\n",
       "    </tr>\n",
       "    <tr>\n",
       "      <th>version</th>\n",
       "      <th></th>\n",
       "      <th></th>\n",
       "      <th></th>\n",
       "      <th></th>\n",
       "      <th></th>\n",
       "      <th></th>\n",
       "      <th></th>\n",
       "      <th></th>\n",
       "    </tr>\n",
       "  </thead>\n",
       "  <tbody>\n",
       "    <tr>\n",
       "      <th>A</th>\n",
       "      <td>4003.0</td>\n",
       "      <td>117.982213</td>\n",
       "      <td>122.018116</td>\n",
       "      <td>-502.980011</td>\n",
       "      <td>57.980001</td>\n",
       "      <td>96.089996</td>\n",
       "      <td>158.540001</td>\n",
       "      <td>1616.459961</td>\n",
       "    </tr>\n",
       "    <tr>\n",
       "      <th>B</th>\n",
       "      <td>4231.0</td>\n",
       "      <td>107.073576</td>\n",
       "      <td>110.866615</td>\n",
       "      <td>-768.820007</td>\n",
       "      <td>51.575001</td>\n",
       "      <td>85.419998</td>\n",
       "      <td>144.775002</td>\n",
       "      <td>1216.130005</td>\n",
       "    </tr>\n",
       "  </tbody>\n",
       "</table>\n",
       "</div>"
      ],
      "text/plain": [
       "          count        mean         std         min        25%        50%  \\\n",
       "version                                                                     \n",
       "A        4003.0  117.982213  122.018116 -502.980011  57.980001  96.089996   \n",
       "B        4231.0  107.073576  110.866615 -768.820007  51.575001  85.419998   \n",
       "\n",
       "                75%          max  \n",
       "version                           \n",
       "A        158.540001  1616.459961  \n",
       "B        144.775002  1216.130005  "
      ]
     },
     "execution_count": 177,
     "metadata": {},
     "output_type": "execute_result"
    }
   ],
   "source": [
    "data.query('shopper == 1').groupby('version')['spent'].describe()"
   ]
  },
  {
   "cell_type": "code",
   "execution_count": null,
   "id": "8de9d583",
   "metadata": {
    "id": "8de9d583",
    "outputId": "2992d29e-1d21-4000-e717-08e2318a64c2"
   },
   "outputs": [
    {
     "data": {
      "text/plain": [
       "version\n",
       "A    472282.799821\n",
       "B    453028.300106\n",
       "Name: spent, dtype: float64"
      ]
     },
     "execution_count": 392,
     "metadata": {},
     "output_type": "execute_result"
    }
   ],
   "source": [
    "data.query('shopper == 1').groupby('version')['spent'].sum()"
   ]
  },
  {
   "cell_type": "code",
   "execution_count": null,
   "id": "09e23dcc",
   "metadata": {
    "id": "09e23dcc",
    "outputId": "a502015b-994a-4ef8-ffa3-581417a4b643"
   },
   "outputs": [
    {
     "name": "stdout",
     "output_type": "stream",
     "text": [
      "0.0021652873095464914\n",
      "The difference is significant. There is differece between the treatments.\n"
     ]
    }
   ],
   "source": [
    "res = ttest_ind(data.query('version == \"A\" and shopper == 1')['spent'].to_numpy(),\n",
    "                data.query('version == \"B\" and shopper == 1')['spent'].to_numpy()).pvalue\n",
    "\n",
    "print(res*100)\n",
    "if res >=0.05:\n",
    "    print(\"The difference is not significant. There is no difference between the treatments\")\n",
    "else:\n",
    "    print(\"The difference is significant. There is differece between the treatments.\")"
   ]
  },
  {
   "cell_type": "markdown",
   "id": "79415b99",
   "metadata": {
    "id": "79415b99"
   },
   "source": [
    "### Conclusion 2 - Test 3:\n",
    "\n",
    "#####  We might say that there users that received  the promotional material A are more likely to spent more money buying a product than users that received the promotional material B but we can not say that it is because of the material"
   ]
  },
  {
   "cell_type": "code",
   "execution_count": null,
   "id": "e33e0eba",
   "metadata": {
    "id": "e33e0eba",
    "outputId": "2c75befb-7cbf-41d1-d9a7-319355a4bfdb"
   },
   "outputs": [
    {
     "name": "stdout",
     "output_type": "stream",
     "text": [
      "t-value = -2.9911557588331403\n",
      "p-value = 0.002779853295946893\n",
      "The difference is significant. There is differece between the treatments.\n"
     ]
    }
   ],
   "source": [
    "t, p = ttest_ind(\n",
    "    data.loc[data['version'] == \"A\", 'shopper'].values,\n",
    "    data.loc[data['version'] == \"B\", 'shopper'].values,\n",
    "    equal_var = False)\n",
    "\n",
    "print(f't-value = {str(t)}')\n",
    "print(f'p-value = {str(p)}')\n",
    "\n",
    "if p >=0.05:\n",
    "    print(\"The difference is not significant. There is no difference between the treatments\")\n",
    "else:\n",
    "    print(\"The difference is significant. There is differece between the treatments.\")"
   ]
  },
  {
   "cell_type": "markdown",
   "id": "77d4fbed",
   "metadata": {
    "id": "77d4fbed"
   },
   "source": [
    "## Segments"
   ]
  },
  {
   "cell_type": "code",
   "execution_count": null,
   "id": "5bc1798d",
   "metadata": {
    "id": "5bc1798d"
   },
   "outputs": [],
   "source": [
    "# Calculate the conversion rate by version and segment\n",
    "cr_segments = data.groupby(by=[\"segment\",\"email\",\"version\"], as_index=False)\n",
    "cr_segments = cr_segments.agg({\"shopper\": [\"count\", \"sum\"]})\n",
    "cr_segments[\"conversion_rate\"] = (\n",
    "    cr_segments.shopper[\"sum\"] / cr_segments.shopper[\"count\"]\n",
    ") * 100"
   ]
  },
  {
   "cell_type": "code",
   "execution_count": null,
   "id": "bbf983a7",
   "metadata": {
    "id": "bbf983a7",
    "outputId": "104295ef-80b4-48f9-c681-05b9da1677c1",
    "scrolled": true
   },
   "outputs": [
    {
     "data": {
      "text/html": [
       "<div>\n",
       "<style scoped>\n",
       "    .dataframe tbody tr th:only-of-type {\n",
       "        vertical-align: middle;\n",
       "    }\n",
       "\n",
       "    .dataframe tbody tr th {\n",
       "        vertical-align: top;\n",
       "    }\n",
       "\n",
       "    .dataframe thead tr th {\n",
       "        text-align: left;\n",
       "    }\n",
       "</style>\n",
       "<table border=\"1\" class=\"dataframe\">\n",
       "  <thead>\n",
       "    <tr>\n",
       "      <th></th>\n",
       "      <th>segment</th>\n",
       "      <th>email</th>\n",
       "      <th>version</th>\n",
       "      <th colspan=\"2\" halign=\"left\">shopper</th>\n",
       "      <th>conversion_rate</th>\n",
       "    </tr>\n",
       "    <tr>\n",
       "      <th></th>\n",
       "      <th></th>\n",
       "      <th></th>\n",
       "      <th></th>\n",
       "      <th>count</th>\n",
       "      <th>sum</th>\n",
       "      <th></th>\n",
       "    </tr>\n",
       "  </thead>\n",
       "  <tbody>\n",
       "    <tr>\n",
       "      <th>0</th>\n",
       "      <td>Core Customers</td>\n",
       "      <td>0</td>\n",
       "      <td>A</td>\n",
       "      <td>1553</td>\n",
       "      <td>125</td>\n",
       "      <td>8.048938</td>\n",
       "    </tr>\n",
       "    <tr>\n",
       "      <th>1</th>\n",
       "      <td>Core Customers</td>\n",
       "      <td>0</td>\n",
       "      <td>B</td>\n",
       "      <td>1418</td>\n",
       "      <td>136</td>\n",
       "      <td>9.590973</td>\n",
       "    </tr>\n",
       "    <tr>\n",
       "      <th>2</th>\n",
       "      <td>Core Customers</td>\n",
       "      <td>1</td>\n",
       "      <td>A</td>\n",
       "      <td>15186</td>\n",
       "      <td>1252</td>\n",
       "      <td>8.244436</td>\n",
       "    </tr>\n",
       "    <tr>\n",
       "      <th>3</th>\n",
       "      <td>Core Customers</td>\n",
       "      <td>1</td>\n",
       "      <td>B</td>\n",
       "      <td>15165</td>\n",
       "      <td>1349</td>\n",
       "      <td>8.895483</td>\n",
       "    </tr>\n",
       "    <tr>\n",
       "      <th>4</th>\n",
       "      <td>Elite Customers</td>\n",
       "      <td>0</td>\n",
       "      <td>A</td>\n",
       "      <td>762</td>\n",
       "      <td>74</td>\n",
       "      <td>9.711286</td>\n",
       "    </tr>\n",
       "    <tr>\n",
       "      <th>5</th>\n",
       "      <td>Elite Customers</td>\n",
       "      <td>0</td>\n",
       "      <td>B</td>\n",
       "      <td>268</td>\n",
       "      <td>21</td>\n",
       "      <td>7.835821</td>\n",
       "    </tr>\n",
       "    <tr>\n",
       "      <th>6</th>\n",
       "      <td>Elite Customers</td>\n",
       "      <td>1</td>\n",
       "      <td>A</td>\n",
       "      <td>7394</td>\n",
       "      <td>665</td>\n",
       "      <td>8.993779</td>\n",
       "    </tr>\n",
       "    <tr>\n",
       "      <th>7</th>\n",
       "      <td>Elite Customers</td>\n",
       "      <td>1</td>\n",
       "      <td>B</td>\n",
       "      <td>2534</td>\n",
       "      <td>248</td>\n",
       "      <td>9.786898</td>\n",
       "    </tr>\n",
       "    <tr>\n",
       "      <th>8</th>\n",
       "      <td>Infrequent Customers</td>\n",
       "      <td>0</td>\n",
       "      <td>A</td>\n",
       "      <td>260</td>\n",
       "      <td>13</td>\n",
       "      <td>5.000000</td>\n",
       "    </tr>\n",
       "    <tr>\n",
       "      <th>9</th>\n",
       "      <td>Infrequent Customers</td>\n",
       "      <td>0</td>\n",
       "      <td>B</td>\n",
       "      <td>734</td>\n",
       "      <td>49</td>\n",
       "      <td>6.675749</td>\n",
       "    </tr>\n",
       "    <tr>\n",
       "      <th>10</th>\n",
       "      <td>Infrequent Customers</td>\n",
       "      <td>1</td>\n",
       "      <td>A</td>\n",
       "      <td>2455</td>\n",
       "      <td>171</td>\n",
       "      <td>6.965377</td>\n",
       "    </tr>\n",
       "    <tr>\n",
       "      <th>11</th>\n",
       "      <td>Infrequent Customers</td>\n",
       "      <td>1</td>\n",
       "      <td>B</td>\n",
       "      <td>7398</td>\n",
       "      <td>522</td>\n",
       "      <td>7.055961</td>\n",
       "    </tr>\n",
       "    <tr>\n",
       "      <th>12</th>\n",
       "      <td>New Customers</td>\n",
       "      <td>0</td>\n",
       "      <td>A</td>\n",
       "      <td>2011</td>\n",
       "      <td>105</td>\n",
       "      <td>5.221283</td>\n",
       "    </tr>\n",
       "    <tr>\n",
       "      <th>13</th>\n",
       "      <td>New Customers</td>\n",
       "      <td>0</td>\n",
       "      <td>B</td>\n",
       "      <td>2010</td>\n",
       "      <td>119</td>\n",
       "      <td>5.920398</td>\n",
       "    </tr>\n",
       "    <tr>\n",
       "      <th>14</th>\n",
       "      <td>New Customers</td>\n",
       "      <td>1</td>\n",
       "      <td>A</td>\n",
       "      <td>19954</td>\n",
       "      <td>1154</td>\n",
       "      <td>5.783302</td>\n",
       "    </tr>\n",
       "    <tr>\n",
       "      <th>15</th>\n",
       "      <td>New Customers</td>\n",
       "      <td>1</td>\n",
       "      <td>B</td>\n",
       "      <td>19873</td>\n",
       "      <td>1334</td>\n",
       "      <td>6.712625</td>\n",
       "    </tr>\n",
       "    <tr>\n",
       "      <th>16</th>\n",
       "      <td>Power Shoppers</td>\n",
       "      <td>0</td>\n",
       "      <td>A</td>\n",
       "      <td>494</td>\n",
       "      <td>40</td>\n",
       "      <td>8.097166</td>\n",
       "    </tr>\n",
       "    <tr>\n",
       "      <th>17</th>\n",
       "      <td>Power Shoppers</td>\n",
       "      <td>0</td>\n",
       "      <td>B</td>\n",
       "      <td>490</td>\n",
       "      <td>39</td>\n",
       "      <td>7.959184</td>\n",
       "    </tr>\n",
       "    <tr>\n",
       "      <th>18</th>\n",
       "      <td>Power Shoppers</td>\n",
       "      <td>1</td>\n",
       "      <td>A</td>\n",
       "      <td>5152</td>\n",
       "      <td>404</td>\n",
       "      <td>7.841615</td>\n",
       "    </tr>\n",
       "    <tr>\n",
       "      <th>19</th>\n",
       "      <td>Power Shoppers</td>\n",
       "      <td>1</td>\n",
       "      <td>B</td>\n",
       "      <td>4889</td>\n",
       "      <td>414</td>\n",
       "      <td>8.467989</td>\n",
       "    </tr>\n",
       "  </tbody>\n",
       "</table>\n",
       "</div>"
      ],
      "text/plain": [
       "                 segment email version shopper       conversion_rate\n",
       "                                         count   sum                \n",
       "0         Core Customers     0       A    1553   125        8.048938\n",
       "1         Core Customers     0       B    1418   136        9.590973\n",
       "2         Core Customers     1       A   15186  1252        8.244436\n",
       "3         Core Customers     1       B   15165  1349        8.895483\n",
       "4        Elite Customers     0       A     762    74        9.711286\n",
       "5        Elite Customers     0       B     268    21        7.835821\n",
       "6        Elite Customers     1       A    7394   665        8.993779\n",
       "7        Elite Customers     1       B    2534   248        9.786898\n",
       "8   Infrequent Customers     0       A     260    13        5.000000\n",
       "9   Infrequent Customers     0       B     734    49        6.675749\n",
       "10  Infrequent Customers     1       A    2455   171        6.965377\n",
       "11  Infrequent Customers     1       B    7398   522        7.055961\n",
       "12         New Customers     0       A    2011   105        5.221283\n",
       "13         New Customers     0       B    2010   119        5.920398\n",
       "14         New Customers     1       A   19954  1154        5.783302\n",
       "15         New Customers     1       B   19873  1334        6.712625\n",
       "16        Power Shoppers     0       A     494    40        8.097166\n",
       "17        Power Shoppers     0       B     490    39        7.959184\n",
       "18        Power Shoppers     1       A    5152   404        7.841615\n",
       "19        Power Shoppers     1       B    4889   414        8.467989"
      ]
     },
     "execution_count": 405,
     "metadata": {},
     "output_type": "execute_result"
    }
   ],
   "source": [
    "cr_segments"
   ]
  },
  {
   "cell_type": "code",
   "execution_count": null,
   "id": "51fcb67e",
   "metadata": {
    "id": "51fcb67e",
    "outputId": "13379b75-3468-491e-94db-850701b3ec52"
   },
   "outputs": [
    {
     "name": "stdout",
     "output_type": "stream",
     "text": [
      "0.3473332759107197\n",
      "The difference is not significant. There is no difference between the treatments\n"
     ]
    }
   ],
   "source": [
    "res = ttest_ind(data.query('segment == \"Infrequent Customers\" and email == 1')['shopper'].to_numpy(),\n",
    "                data.query('segment == \"Infrequent Customers\" and email == 0')['shopper'].to_numpy()).pvalue\n",
    "\n",
    "print(res)\n",
    "if res >=0.05:\n",
    "    print(\"The difference is not significant. There is no difference between the treatments\")\n",
    "else:\n",
    "    print(\"The difference is significant. There is differece between the treatments.\")"
   ]
  },
  {
   "cell_type": "code",
   "execution_count": null,
   "id": "dc1392f7",
   "metadata": {
    "id": "dc1392f7",
    "outputId": "b5127818-57d0-40a1-d1e8-d1cca923845f"
   },
   "outputs": [
    {
     "name": "stdout",
     "output_type": "stream",
     "text": [
      "7.917146028685101e-05\n",
      "The difference is significant. There is differece between the treatments.\n"
     ]
    }
   ],
   "source": [
    "res = ttest_ind(data.query('version == \"B\" and segment == \"New Customers\" ')['shopper'].to_numpy(),\n",
    "                data.query('version == \"A\" and segment == \"New Customers\" ')['shopper'].to_numpy()).pvalue\n",
    "\n",
    "print(res)\n",
    "if res >=0.05:\n",
    "    print(\"The difference is not significant. There is no difference between the treatments\")\n",
    "else:\n",
    "    print(\"The difference is significant. There is differece between the treatments.\")"
   ]
  },
  {
   "cell_type": "markdown",
   "id": "776b0aba",
   "metadata": {
    "id": "776b0aba"
   },
   "source": [
    "Core Customers\n",
    "New Customers"
   ]
  },
  {
   "cell_type": "code",
   "execution_count": null,
   "id": "72c44648",
   "metadata": {
    "id": "72c44648",
    "outputId": "93842a63-c2ad-4c57-f69c-1dd5eece7ab7"
   },
   "outputs": [
    {
     "name": "stdout",
     "output_type": "stream",
     "text": [
      "5.731846118825404\n",
      "6.639857423570808\n",
      "15.84151573370358\n"
     ]
    }
   ],
   "source": [
    "#calculating conversion rate for New Customers\n",
    "cr_a = data.query('version == \"A\" and segment == \"New Customers\" ')['shopper'].sum() /  data.query('version == \"A\" and segment == \"New Customers\" ')['ID'].count()\n",
    "(cr_a*100).round(2)\n",
    "\n",
    "cr_b =data.query('version == \"B\" and segment == \"New Customers\" ')['shopper'].sum() /  data.query('version == \"B\" and segment == \"New Customers\" ')['ID'].count()\n",
    "(cr_b*100).round(2)\n",
    "\n",
    "print(cr_a*100)\n",
    "print(cr_b*100)\n",
    "\n",
    "\n",
    "#calculating the difference between the convertion rates\n",
    "diff = ((cr_b / cr_a ) - 1)*100\n",
    "print(diff)"
   ]
  },
  {
   "cell_type": "code",
   "execution_count": null,
   "id": "c5f9fe89",
   "metadata": {
    "id": "c5f9fe89",
    "outputId": "db666557-e902-4592-d83f-a38ed7285976"
   },
   "outputs": [
    {
     "name": "stdout",
     "output_type": "stream",
     "text": [
      "8.22629786725611\n",
      "8.954953868419466\n",
      "8.857641832587815\n"
     ]
    }
   ],
   "source": [
    "#calculating conversion rate for New Customers\n",
    "cr_a = data.query('version == \"A\" and segment == \"Core Customers\" ')['shopper'].sum() /  data.query('version == \"A\" and segment == \"Core Customers\" ')['ID'].count()\n",
    "(cr_a*100).round(2)\n",
    "\n",
    "cr_b =data.query('version == \"B\" and segment == \"Core Customers\" ')['shopper'].sum() /  data.query('version == \"B\" and segment == \"Core Customers\" ')['ID'].count()\n",
    "(cr_b*100).round(2)\n",
    "\n",
    "print(cr_a*100)\n",
    "print(cr_b*100)\n",
    "\n",
    "\n",
    "#calculating the difference between the convertion rates\n",
    "diff = ((cr_b / cr_a ) - 1)*100\n",
    "print(diff)"
   ]
  },
  {
   "cell_type": "markdown",
   "id": "d9252cf8",
   "metadata": {
    "id": "d9252cf8"
   },
   "source": [
    "### Profiles"
   ]
  },
  {
   "cell_type": "code",
   "execution_count": null,
   "id": "99474a24",
   "metadata": {
    "id": "99474a24"
   },
   "outputs": [],
   "source": [
    "# Calculate the conversion rate by version and segment\n",
    "cr_profiles = data.groupby(by=[\"profile\",\"version\"], as_index=False)\n",
    "cr_profiles = cr_profiles.agg({\"shopper\": [\"count\", \"sum\"]})\n",
    "cr_profiles[\"conversion_rate\"] = (\n",
    "    cr_profiles.shopper[\"sum\"] / cr_profiles.shopper[\"count\"]\n",
    ") * 100"
   ]
  },
  {
   "cell_type": "code",
   "execution_count": null,
   "id": "3e2f8626",
   "metadata": {
    "id": "3e2f8626",
    "outputId": "672dda03-a871-45f8-c7ac-e443aa542bd3"
   },
   "outputs": [
    {
     "data": {
      "text/html": [
       "<div>\n",
       "<style scoped>\n",
       "    .dataframe tbody tr th:only-of-type {\n",
       "        vertical-align: middle;\n",
       "    }\n",
       "\n",
       "    .dataframe tbody tr th {\n",
       "        vertical-align: top;\n",
       "    }\n",
       "\n",
       "    .dataframe thead tr th {\n",
       "        text-align: left;\n",
       "    }\n",
       "</style>\n",
       "<table border=\"1\" class=\"dataframe\">\n",
       "  <thead>\n",
       "    <tr>\n",
       "      <th></th>\n",
       "      <th>profile</th>\n",
       "      <th>version</th>\n",
       "      <th colspan=\"2\" halign=\"left\">shopper</th>\n",
       "      <th>conversion_rate</th>\n",
       "    </tr>\n",
       "    <tr>\n",
       "      <th></th>\n",
       "      <th></th>\n",
       "      <th></th>\n",
       "      <th>count</th>\n",
       "      <th>sum</th>\n",
       "      <th></th>\n",
       "    </tr>\n",
       "  </thead>\n",
       "  <tbody>\n",
       "    <tr>\n",
       "      <th>0</th>\n",
       "      <td>Blue Collar Royalty</td>\n",
       "      <td>A</td>\n",
       "      <td>5531</td>\n",
       "      <td>501</td>\n",
       "      <td>9.058037</td>\n",
       "    </tr>\n",
       "    <tr>\n",
       "      <th>1</th>\n",
       "      <td>Blue Collar Royalty</td>\n",
       "      <td>B</td>\n",
       "      <td>5525</td>\n",
       "      <td>495</td>\n",
       "      <td>8.959276</td>\n",
       "    </tr>\n",
       "    <tr>\n",
       "      <th>2</th>\n",
       "      <td>City Slickers</td>\n",
       "      <td>A</td>\n",
       "      <td>5635</td>\n",
       "      <td>569</td>\n",
       "      <td>10.097604</td>\n",
       "    </tr>\n",
       "    <tr>\n",
       "      <th>3</th>\n",
       "      <td>City Slickers</td>\n",
       "      <td>B</td>\n",
       "      <td>5475</td>\n",
       "      <td>601</td>\n",
       "      <td>10.977169</td>\n",
       "    </tr>\n",
       "    <tr>\n",
       "      <th>4</th>\n",
       "      <td>Mr. &amp; Mrs. Smiths</td>\n",
       "      <td>A</td>\n",
       "      <td>5553</td>\n",
       "      <td>147</td>\n",
       "      <td>2.647218</td>\n",
       "    </tr>\n",
       "    <tr>\n",
       "      <th>5</th>\n",
       "      <td>Mr. &amp; Mrs. Smiths</td>\n",
       "      <td>B</td>\n",
       "      <td>5476</td>\n",
       "      <td>169</td>\n",
       "      <td>3.086194</td>\n",
       "    </tr>\n",
       "    <tr>\n",
       "      <th>6</th>\n",
       "      <td>Normal Families</td>\n",
       "      <td>A</td>\n",
       "      <td>5521</td>\n",
       "      <td>509</td>\n",
       "      <td>9.219344</td>\n",
       "    </tr>\n",
       "    <tr>\n",
       "      <th>7</th>\n",
       "      <td>Normal Families</td>\n",
       "      <td>B</td>\n",
       "      <td>5511</td>\n",
       "      <td>499</td>\n",
       "      <td>9.054618</td>\n",
       "    </tr>\n",
       "    <tr>\n",
       "      <th>8</th>\n",
       "      <td>Pinched Pockets</td>\n",
       "      <td>A</td>\n",
       "      <td>5423</td>\n",
       "      <td>410</td>\n",
       "      <td>7.560391</td>\n",
       "    </tr>\n",
       "    <tr>\n",
       "      <th>9</th>\n",
       "      <td>Pinched Pockets</td>\n",
       "      <td>B</td>\n",
       "      <td>5406</td>\n",
       "      <td>449</td>\n",
       "      <td>8.305586</td>\n",
       "    </tr>\n",
       "    <tr>\n",
       "      <th>10</th>\n",
       "      <td>Rich &amp; Richer</td>\n",
       "      <td>A</td>\n",
       "      <td>5490</td>\n",
       "      <td>568</td>\n",
       "      <td>10.346084</td>\n",
       "    </tr>\n",
       "    <tr>\n",
       "      <th>11</th>\n",
       "      <td>Rich &amp; Richer</td>\n",
       "      <td>B</td>\n",
       "      <td>5400</td>\n",
       "      <td>593</td>\n",
       "      <td>10.981481</td>\n",
       "    </tr>\n",
       "  </tbody>\n",
       "</table>\n",
       "</div>"
      ],
      "text/plain": [
       "                profile version shopper      conversion_rate\n",
       "                                  count  sum                \n",
       "0   Blue Collar Royalty       A    5531  501        9.058037\n",
       "1   Blue Collar Royalty       B    5525  495        8.959276\n",
       "2         City Slickers       A    5635  569       10.097604\n",
       "3         City Slickers       B    5475  601       10.977169\n",
       "4     Mr. & Mrs. Smiths       A    5553  147        2.647218\n",
       "5     Mr. & Mrs. Smiths       B    5476  169        3.086194\n",
       "6       Normal Families       A    5521  509        9.219344\n",
       "7       Normal Families       B    5511  499        9.054618\n",
       "8       Pinched Pockets       A    5423  410        7.560391\n",
       "9       Pinched Pockets       B    5406  449        8.305586\n",
       "10        Rich & Richer       A    5490  568       10.346084\n",
       "11        Rich & Richer       B    5400  593       10.981481"
      ]
     },
     "execution_count": 409,
     "metadata": {},
     "output_type": "execute_result"
    }
   ],
   "source": [
    "cr_profiles"
   ]
  },
  {
   "cell_type": "code",
   "execution_count": null,
   "id": "11db2a30",
   "metadata": {
    "id": "11db2a30",
    "outputId": "dfa20780-1937-4cf4-9b8b-d3fa21dbbf4a"
   },
   "outputs": [
    {
     "name": "stdout",
     "output_type": "stream",
     "text": [
      "0.8561075192957218\n",
      "The difference is not significant. There is no difference between the treatments\n"
     ]
    }
   ],
   "source": [
    "res = ttest_ind(data.query('version == \"A\" and profile == \"Blue Collar Royalty\"')['shopper'].to_numpy(),\n",
    "                data.query('version == \"B\" and profile == \"Blue Collar Royalty\"')['shopper'].to_numpy()).pvalue\n",
    "\n",
    "print(res)\n",
    "if res >=0.05:\n",
    "    print(\"The difference is not significant. There is no difference between the treatments\")\n",
    "else:\n",
    "    print(\"The difference is significant. There is differece between the treatments.\")"
   ]
  },
  {
   "cell_type": "code",
   "execution_count": null,
   "id": "c1bb534c",
   "metadata": {
    "id": "c1bb534c",
    "outputId": "d4c2f416-3859-47f5-e6e9-82588e588ef4"
   },
   "outputs": [
    {
     "name": "stdout",
     "output_type": "stream",
     "text": [
      "0.8561075192957218\n",
      "The difference is not significant. There is no difference between the treatments\n"
     ]
    }
   ],
   "source": [
    "res = ttest_ind(data.query('version == \"A\" and profile == \"Blue Collar Royalty\"')['shopper'].to_numpy(),\n",
    "                data.query('version == \"B\" and profile == \"Blue Collar Royalty\"')['shopper'].to_numpy()).pvalue\n",
    "\n",
    "print(res)\n",
    "if res >=0.05:\n",
    "    print(\"The difference is not significant. There is no difference between the treatments\")\n",
    "else:\n",
    "    print(\"The difference is significant. There is differece between the treatments.\")"
   ]
  },
  {
   "cell_type": "markdown",
   "id": "1f809d57",
   "metadata": {
    "id": "1f809d57"
   },
   "source": [
    "## =============================================================="
   ]
  },
  {
   "cell_type": "markdown",
   "id": "d3d93bb7",
   "metadata": {
    "id": "d3d93bb7"
   },
   "source": [
    "# Part 2 - Department analysis"
   ]
  },
  {
   "cell_type": "markdown",
   "id": "bad0c6c6",
   "metadata": {
    "id": "bad0c6c6"
   },
   "source": [
    "## ==============================================================\n"
   ]
  },
  {
   "cell_type": "code",
   "execution_count": null,
   "id": "fd709dc1",
   "metadata": {
    "id": "fd709dc1"
   },
   "outputs": [],
   "source": [
    "#let's read the database DEPTS\n",
    "dpt = pd.read_csv(\"customer_segmentation_DEPTS.csv\")"
   ]
  },
  {
   "cell_type": "code",
   "execution_count": null,
   "id": "fcd008a1",
   "metadata": {
    "id": "fcd008a1",
    "outputId": "150a1b1d-87b8-43f5-b2be-4631ff2aa2a5"
   },
   "outputs": [
    {
     "data": {
      "text/html": [
       "<div>\n",
       "<style scoped>\n",
       "    .dataframe tbody tr th:only-of-type {\n",
       "        vertical-align: middle;\n",
       "    }\n",
       "\n",
       "    .dataframe tbody tr th {\n",
       "        vertical-align: top;\n",
       "    }\n",
       "\n",
       "    .dataframe thead th {\n",
       "        text-align: right;\n",
       "    }\n",
       "</style>\n",
       "<table border=\"1\" class=\"dataframe\">\n",
       "  <thead>\n",
       "    <tr style=\"text-align: right;\">\n",
       "      <th></th>\n",
       "      <th>DepartmentID</th>\n",
       "      <th>Year</th>\n",
       "      <th>SegmentID</th>\n",
       "      <th>ProfileID</th>\n",
       "      <th>Sales</th>\n",
       "      <th>Customers</th>\n",
       "      <th>department</th>\n",
       "      <th>profile</th>\n",
       "      <th>segment</th>\n",
       "    </tr>\n",
       "  </thead>\n",
       "  <tbody>\n",
       "    <tr>\n",
       "      <th>0</th>\n",
       "      <td>A</td>\n",
       "      <td>1999</td>\n",
       "      <td>1</td>\n",
       "      <td>NaN</td>\n",
       "      <td>1989.77</td>\n",
       "      <td>347</td>\n",
       "      <td>Shirts</td>\n",
       "      <td>NaN</td>\n",
       "      <td>Elite Customers</td>\n",
       "    </tr>\n",
       "    <tr>\n",
       "      <th>1</th>\n",
       "      <td>A</td>\n",
       "      <td>1999</td>\n",
       "      <td>1</td>\n",
       "      <td>1.0</td>\n",
       "      <td>6270.30</td>\n",
       "      <td>616</td>\n",
       "      <td>Shirts</td>\n",
       "      <td>City Slickers</td>\n",
       "      <td>Elite Customers</td>\n",
       "    </tr>\n",
       "    <tr>\n",
       "      <th>2</th>\n",
       "      <td>A</td>\n",
       "      <td>1999</td>\n",
       "      <td>1</td>\n",
       "      <td>2.0</td>\n",
       "      <td>7131.06</td>\n",
       "      <td>657</td>\n",
       "      <td>Shirts</td>\n",
       "      <td>Rich &amp; Richer</td>\n",
       "      <td>Elite Customers</td>\n",
       "    </tr>\n",
       "    <tr>\n",
       "      <th>3</th>\n",
       "      <td>A</td>\n",
       "      <td>1999</td>\n",
       "      <td>1</td>\n",
       "      <td>3.0</td>\n",
       "      <td>7293.91</td>\n",
       "      <td>665</td>\n",
       "      <td>Shirts</td>\n",
       "      <td>Mr. &amp; Mrs. Smiths</td>\n",
       "      <td>Elite Customers</td>\n",
       "    </tr>\n",
       "    <tr>\n",
       "      <th>4</th>\n",
       "      <td>A</td>\n",
       "      <td>1999</td>\n",
       "      <td>1</td>\n",
       "      <td>4.0</td>\n",
       "      <td>1995.79</td>\n",
       "      <td>348</td>\n",
       "      <td>Shirts</td>\n",
       "      <td>Blue Collar Royalty</td>\n",
       "      <td>Elite Customers</td>\n",
       "    </tr>\n",
       "    <tr>\n",
       "      <th>...</th>\n",
       "      <td>...</td>\n",
       "      <td>...</td>\n",
       "      <td>...</td>\n",
       "      <td>...</td>\n",
       "      <td>...</td>\n",
       "      <td>...</td>\n",
       "      <td>...</td>\n",
       "      <td>...</td>\n",
       "      <td>...</td>\n",
       "    </tr>\n",
       "    <tr>\n",
       "      <th>695</th>\n",
       "      <td>J</td>\n",
       "      <td>2000</td>\n",
       "      <td>5</td>\n",
       "      <td>2.0</td>\n",
       "      <td>20734.50</td>\n",
       "      <td>3380</td>\n",
       "      <td>Misc</td>\n",
       "      <td>Rich &amp; Richer</td>\n",
       "      <td>New Customers</td>\n",
       "    </tr>\n",
       "    <tr>\n",
       "      <th>696</th>\n",
       "      <td>J</td>\n",
       "      <td>2000</td>\n",
       "      <td>5</td>\n",
       "      <td>3.0</td>\n",
       "      <td>31718.50</td>\n",
       "      <td>4181</td>\n",
       "      <td>Misc</td>\n",
       "      <td>Mr. &amp; Mrs. Smiths</td>\n",
       "      <td>New Customers</td>\n",
       "    </tr>\n",
       "    <tr>\n",
       "      <th>697</th>\n",
       "      <td>J</td>\n",
       "      <td>2000</td>\n",
       "      <td>5</td>\n",
       "      <td>4.0</td>\n",
       "      <td>39.53</td>\n",
       "      <td>148</td>\n",
       "      <td>Misc</td>\n",
       "      <td>Blue Collar Royalty</td>\n",
       "      <td>New Customers</td>\n",
       "    </tr>\n",
       "    <tr>\n",
       "      <th>698</th>\n",
       "      <td>J</td>\n",
       "      <td>2000</td>\n",
       "      <td>5</td>\n",
       "      <td>5.0</td>\n",
       "      <td>48.21</td>\n",
       "      <td>163</td>\n",
       "      <td>Misc</td>\n",
       "      <td>Pinched Pockets</td>\n",
       "      <td>New Customers</td>\n",
       "    </tr>\n",
       "    <tr>\n",
       "      <th>699</th>\n",
       "      <td>J</td>\n",
       "      <td>2000</td>\n",
       "      <td>5</td>\n",
       "      <td>6.0</td>\n",
       "      <td>240.83</td>\n",
       "      <td>364</td>\n",
       "      <td>Misc</td>\n",
       "      <td>Normal Families</td>\n",
       "      <td>New Customers</td>\n",
       "    </tr>\n",
       "  </tbody>\n",
       "</table>\n",
       "<p>700 rows × 9 columns</p>\n",
       "</div>"
      ],
      "text/plain": [
       "    DepartmentID  Year  SegmentID  ProfileID     Sales  Customers department  \\\n",
       "0              A  1999          1        NaN   1989.77        347     Shirts   \n",
       "1              A  1999          1        1.0   6270.30        616     Shirts   \n",
       "2              A  1999          1        2.0   7131.06        657     Shirts   \n",
       "3              A  1999          1        3.0   7293.91        665     Shirts   \n",
       "4              A  1999          1        4.0   1995.79        348     Shirts   \n",
       "..           ...   ...        ...        ...       ...        ...        ...   \n",
       "695            J  2000          5        2.0  20734.50       3380       Misc   \n",
       "696            J  2000          5        3.0  31718.50       4181       Misc   \n",
       "697            J  2000          5        4.0     39.53        148       Misc   \n",
       "698            J  2000          5        5.0     48.21        163       Misc   \n",
       "699            J  2000          5        6.0    240.83        364       Misc   \n",
       "\n",
       "                 profile          segment  \n",
       "0                    NaN  Elite Customers  \n",
       "1          City Slickers  Elite Customers  \n",
       "2          Rich & Richer  Elite Customers  \n",
       "3      Mr. & Mrs. Smiths  Elite Customers  \n",
       "4    Blue Collar Royalty  Elite Customers  \n",
       "..                   ...              ...  \n",
       "695        Rich & Richer    New Customers  \n",
       "696    Mr. & Mrs. Smiths    New Customers  \n",
       "697  Blue Collar Royalty    New Customers  \n",
       "698      Pinched Pockets    New Customers  \n",
       "699      Normal Families    New Customers  \n",
       "\n",
       "[700 rows x 9 columns]"
      ]
     },
     "execution_count": 293,
     "metadata": {},
     "output_type": "execute_result"
    }
   ],
   "source": [
    "dpt"
   ]
  },
  {
   "cell_type": "markdown",
   "id": "90e3a38b",
   "metadata": {
    "id": "90e3a38b"
   },
   "source": [
    "### Further analysis here:"
   ]
  },
  {
   "cell_type": "markdown",
   "id": "ce75733c",
   "metadata": {
    "id": "ce75733c"
   },
   "source": [
    "### https://docs.google.com/spreadsheets/d/1DEJDVPyDggDqbxdqSE1vUflt8_dhAkUKtVtPI9u37wM/edit?usp=sharing"
   ]
  },
  {
   "cell_type": "markdown",
   "id": "eb7e4933",
   "metadata": {
    "id": "eb7e4933"
   },
   "source": [
    "## Negative values\n",
    "\n",
    "Let's explore the negative values to understand more about that"
   ]
  },
  {
   "cell_type": "code",
   "execution_count": null,
   "id": "ac0ba9d5",
   "metadata": {
    "id": "ac0ba9d5",
    "outputId": "a20ee2cb-d84a-4e45-b2c8-686055133a3c"
   },
   "outputs": [
    {
     "data": {
      "text/plain": [
       "profile\n",
       "Blue Collar Royalty    44\n",
       "City Slickers          54\n",
       "Mr. & Mrs. Smiths      13\n",
       "Normal Families        63\n",
       "Pinched Pockets        47\n",
       "Rich & Richer          56\n",
       "dtype: int64"
      ]
     },
     "execution_count": 304,
     "metadata": {},
     "output_type": "execute_result"
    }
   ],
   "source": [
    "data.loc[data[\"negative\"].isin(['1'])].groupby(['profile']).size()"
   ]
  },
  {
   "cell_type": "code",
   "execution_count": null,
   "id": "ddfa24fb",
   "metadata": {
    "id": "ddfa24fb",
    "outputId": "1399f805-fb9a-4499-d577-4a19906c43d7"
   },
   "outputs": [
    {
     "data": {
      "text/plain": [
       "profile              negative\n",
       "Blue Collar Royalty  0           130478.529778\n",
       "                     1            -6307.819988\n",
       "City Slickers        0           208219.099846\n",
       "                     1           -10784.939968\n",
       "Mr. & Mrs. Smiths    0            82044.789909\n",
       "                     1            -4159.570023\n",
       "Normal Families      0           108679.790188\n",
       "                     1            -7556.189987\n",
       "Pinched Pockets      0            57282.589927\n",
       "                     1            -3261.849997\n",
       "Rich & Richer        0           153672.840134\n",
       "                     1            -8648.999973\n",
       "Name: spent, dtype: float64"
      ]
     },
     "execution_count": 309,
     "metadata": {},
     "output_type": "execute_result"
    }
   ],
   "source": [
    "##negative values\n",
    "data.groupby(['profile','negative'])['spent'].sum()"
   ]
  },
  {
   "cell_type": "code",
   "execution_count": null,
   "id": "0d1368a4",
   "metadata": {
    "id": "0d1368a4"
   },
   "outputs": [],
   "source": [
    "x=data.groupby(['profile','negative'])['spent'].describe()"
   ]
  },
  {
   "cell_type": "code",
   "execution_count": null,
   "id": "cee96f85",
   "metadata": {
    "id": "cee96f85"
   },
   "outputs": [],
   "source": [
    "data.groupby(['segment','negative'])['spent'].describe().to_clipboard()"
   ]
  }
 ],
 "metadata": {
  "colab": {
   "provenance": []
  },
  "kernelspec": {
   "display_name": "Python 3 (ipykernel)",
   "language": "python",
   "name": "python3"
  },
  "language_info": {
   "codemirror_mode": {
    "name": "ipython",
    "version": 3
   },
   "file_extension": ".py",
   "mimetype": "text/x-python",
   "name": "python",
   "nbconvert_exporter": "python",
   "pygments_lexer": "ipython3",
   "version": "3.11.7"
  }
 },
 "nbformat": 4,
 "nbformat_minor": 5
}
